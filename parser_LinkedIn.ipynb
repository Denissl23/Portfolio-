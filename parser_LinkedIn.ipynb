{
 "cells": [
  {
   "cell_type": "markdown",
   "id": "a12aab0a",
   "metadata": {},
   "source": [
    "# Парсинг вакансий с LinkedIn"
   ]
  },
  {
   "cell_type": "markdown",
   "id": "d6d2a925",
   "metadata": {},
   "source": [
    "## Описание задачи"
   ]
  },
  {
   "cell_type": "markdown",
   "id": "3ba41a21",
   "metadata": {},
   "source": [
    "Распарсить предоставленный csv файл с помощью BS 4, создав следующие признаки:\n",
    "\n",
    "- наименование вакансии\n",
    "- город\n",
    "- страна\n",
    "- тип занятости (online, hybride, on-site)\n",
    "- компания\n",
    "- размер компании (количество работников)\n",
    "- сфера деятельности компании\n",
    "- требуемые хард скилы\n",
    "- дата публикации вакансии\n",
    "- количество кандидатов на вакансию"
   ]
  },
  {
   "cell_type": "markdown",
   "id": "98555aad",
   "metadata": {},
   "source": [
    "## Часть1. Парсинг нужных данных"
   ]
  },
  {
   "cell_type": "code",
   "execution_count": 1,
   "id": "aacdf376",
   "metadata": {},
   "outputs": [],
   "source": [
    "import pandas as pd\n",
    "from bs4 import BeautifulSoup\n",
    "import numpy as np\n",
    "import seaborn as sns\n",
    "from datetime import timedelta, datetime\n",
    "import requests\n",
    "from geopy.geocoders import Nominatim\n",
    "from googletrans import Translator\n",
    "pd.options.mode.chained_assignment = None"
   ]
  },
  {
   "cell_type": "code",
   "execution_count": 2,
   "id": "cbdf629c",
   "metadata": {},
   "outputs": [
    {
     "data": {
      "text/html": [
       "<div>\n",
       "<style scoped>\n",
       "    .dataframe tbody tr th:only-of-type {\n",
       "        vertical-align: middle;\n",
       "    }\n",
       "\n",
       "    .dataframe tbody tr th {\n",
       "        vertical-align: top;\n",
       "    }\n",
       "\n",
       "    .dataframe thead th {\n",
       "        text-align: right;\n",
       "    }\n",
       "</style>\n",
       "<table border=\"1\" class=\"dataframe\">\n",
       "  <thead>\n",
       "    <tr style=\"text-align: right;\">\n",
       "      <th></th>\n",
       "      <th>Unnamed: 0</th>\n",
       "      <th>html</th>\n",
       "    </tr>\n",
       "  </thead>\n",
       "  <tbody>\n",
       "    <tr>\n",
       "      <th>0</th>\n",
       "      <td>0</td>\n",
       "      <td>\\n  &lt;div&gt;\\n    &lt;div class=\"\\n        jobs-deta...</td>\n",
       "    </tr>\n",
       "    <tr>\n",
       "      <th>1</th>\n",
       "      <td>1</td>\n",
       "      <td>\\n  &lt;div&gt;\\n    &lt;div class=\"\\n        jobs-deta...</td>\n",
       "    </tr>\n",
       "    <tr>\n",
       "      <th>2</th>\n",
       "      <td>2</td>\n",
       "      <td>\\n  &lt;div&gt;\\n    &lt;div class=\"\\n        jobs-deta...</td>\n",
       "    </tr>\n",
       "    <tr>\n",
       "      <th>3</th>\n",
       "      <td>3</td>\n",
       "      <td>\\n  &lt;div&gt;\\n    &lt;div class=\"\\n        jobs-deta...</td>\n",
       "    </tr>\n",
       "    <tr>\n",
       "      <th>4</th>\n",
       "      <td>4</td>\n",
       "      <td>\\n  &lt;div&gt;\\n    &lt;div class=\"\\n        jobs-deta...</td>\n",
       "    </tr>\n",
       "    <tr>\n",
       "      <th>5</th>\n",
       "      <td>5</td>\n",
       "      <td>\\n  &lt;div&gt;\\n    &lt;div class=\"\\n        jobs-deta...</td>\n",
       "    </tr>\n",
       "    <tr>\n",
       "      <th>6</th>\n",
       "      <td>6</td>\n",
       "      <td>\\n  &lt;div&gt;\\n    &lt;div class=\"\\n        jobs-deta...</td>\n",
       "    </tr>\n",
       "    <tr>\n",
       "      <th>7</th>\n",
       "      <td>7</td>\n",
       "      <td>\\n  &lt;div&gt;\\n    &lt;div class=\"\\n        jobs-deta...</td>\n",
       "    </tr>\n",
       "    <tr>\n",
       "      <th>8</th>\n",
       "      <td>8</td>\n",
       "      <td>\\n  &lt;div&gt;\\n    &lt;div class=\"\\n        jobs-deta...</td>\n",
       "    </tr>\n",
       "    <tr>\n",
       "      <th>9</th>\n",
       "      <td>9</td>\n",
       "      <td>\\n  &lt;div&gt;\\n    &lt;div class=\"\\n        jobs-deta...</td>\n",
       "    </tr>\n",
       "  </tbody>\n",
       "</table>\n",
       "</div>"
      ],
      "text/plain": [
       "   Unnamed: 0                                               html\n",
       "0           0  \\n  <div>\\n    <div class=\"\\n        jobs-deta...\n",
       "1           1  \\n  <div>\\n    <div class=\"\\n        jobs-deta...\n",
       "2           2  \\n  <div>\\n    <div class=\"\\n        jobs-deta...\n",
       "3           3  \\n  <div>\\n    <div class=\"\\n        jobs-deta...\n",
       "4           4  \\n  <div>\\n    <div class=\"\\n        jobs-deta...\n",
       "5           5  \\n  <div>\\n    <div class=\"\\n        jobs-deta...\n",
       "6           6  \\n  <div>\\n    <div class=\"\\n        jobs-deta...\n",
       "7           7  \\n  <div>\\n    <div class=\"\\n        jobs-deta...\n",
       "8           8  \\n  <div>\\n    <div class=\"\\n        jobs-deta...\n",
       "9           9  \\n  <div>\\n    <div class=\"\\n        jobs-deta..."
      ]
     },
     "execution_count": 2,
     "metadata": {},
     "output_type": "execute_result"
    }
   ],
   "source": [
    "data = pd.read_csv('/Users/denis_sl/Desktop/проект linkedin/masterskaya_yandex_2022_09_07.csv')\n",
    "data.head(10)"
   ]
  },
  {
   "cell_type": "markdown",
   "id": "d5d8525e",
   "metadata": {},
   "source": [
    "### Название позиции"
   ]
  },
  {
   "cell_type": "code",
   "execution_count": 3,
   "id": "9ba6516e",
   "metadata": {},
   "outputs": [],
   "source": [
    "data['title'] = data['html'].apply(lambda x: BeautifulSoup(x).find('h2').text.strip())"
   ]
  },
  {
   "cell_type": "markdown",
   "id": "e6180720",
   "metadata": {},
   "source": [
    "### Количество кандидатов"
   ]
  },
  {
   "cell_type": "code",
   "execution_count": 4,
   "id": "1fc3f289",
   "metadata": {},
   "outputs": [],
   "source": [
    "def get_candidats(cell):\n",
    "    try:\n",
    "        return BeautifulSoup(cell).find('span', {'class': 'jobs-unified-top-card__applicant-count'}).text.strip().replace('applicants', '').replace('applicant','')\n",
    "    except:\n",
    "        return np.nan\n",
    "        "
   ]
  },
  {
   "cell_type": "code",
   "execution_count": 5,
   "id": "6d226a83",
   "metadata": {},
   "outputs": [],
   "source": [
    "data['applicants'] = data['html'].apply(get_candidats)\n",
    "data['applicants'] = data['applicants'].astype('Int64')"
   ]
  },
  {
   "cell_type": "markdown",
   "id": "b1bb4a7e",
   "metadata": {},
   "source": [
    "### Ссылка"
   ]
  },
  {
   "cell_type": "code",
   "execution_count": 6,
   "id": "16bd6e61",
   "metadata": {},
   "outputs": [],
   "source": [
    "data['link'] = data['html'].apply(lambda x: \"https://linkedin.com\" + BeautifulSoup(x).find('a').get('href'))"
   ]
  },
  {
   "cell_type": "markdown",
   "id": "ccb7e0ec",
   "metadata": {},
   "source": [
    "### Геолокоция с разбивкой на город и страну"
   ]
  },
  {
   "cell_type": "code",
   "execution_count": 7,
   "id": "f2451fce",
   "metadata": {},
   "outputs": [],
   "source": [
    "def get_geo(cell):\n",
    "    try:\n",
    "        return BeautifulSoup(cell).find('span', class_ = 'jobs-unified-top-card__bullet').text.strip()\n",
    "    except:\n",
    "        return np.nan"
   ]
  },
  {
   "cell_type": "code",
   "execution_count": 8,
   "id": "835389bc",
   "metadata": {},
   "outputs": [],
   "source": [
    "data['location'] = data['html'].apply(get_geo)"
   ]
  },
  {
   "cell_type": "code",
   "execution_count": 9,
   "id": "92078c22",
   "metadata": {},
   "outputs": [],
   "source": [
    "def get_city(cell):\n",
    "    if len(cell.split(',')) > 1:\n",
    "        return cell.split(',')[0].strip()\n",
    "    elif \"Metropolitan\" in cell or \"Greater\" in cell:\n",
    "        return cell.replace('Greater', '').replace('Metropolitan', '').replace('Area', '').replace('Region','').strip()\n",
    "    else:\n",
    "        return np.nan"
   ]
  },
  {
   "cell_type": "code",
   "execution_count": 10,
   "id": "31e46525",
   "metadata": {},
   "outputs": [],
   "source": [
    "data['city'] = data['location'].apply(get_city)"
   ]
  },
  {
   "cell_type": "code",
   "execution_count": 11,
   "id": "d24e9d28",
   "metadata": {},
   "outputs": [],
   "source": [
    "def get_country(cell):\n",
    "    try:\n",
    "        if len(cell.split(',')) > 1:\n",
    "            return cell.split(',')[-1].strip()\n",
    "        else:\n",
    "            return cell.split(',')[0].strip()\n",
    "    except:\n",
    "        return np.NaN"
   ]
  },
  {
   "cell_type": "code",
   "execution_count": 12,
   "id": "f2bad8b0",
   "metadata": {},
   "outputs": [],
   "source": [
    "data['country'] = data['location'].apply(get_country)"
   ]
  },
  {
   "cell_type": "code",
   "execution_count": 13,
   "id": "7c80b266",
   "metadata": {},
   "outputs": [],
   "source": [
    "# Воспользуемся сервисом geonames, чтобы получить названия стран по названиям местности\n",
    "def get_country_from(cell):\n",
    "    if 'Greater' in cell:\n",
    "        city_name = cell.split()[1].strip()\n",
    "        response = requests.request(\"GET\", f\"https://www.geonames.org/search.html?q={city_name}&country=\")\n",
    "        country = BeautifulSoup(response.text).find_all('a')[9].text\n",
    "        if country:\n",
    "            return country\n",
    "        else: \n",
    "            return cell\n",
    "    elif 'Area' in cell:\n",
    "        city_name = cell.split()[0].strip()\n",
    "        response = requests.request(\"GET\", f\"https://www.geonames.org/search.html?q={city_name}&country=\")\n",
    "        country = BeautifulSoup(response.text).find_all('a')[9].text\n",
    "        if country:\n",
    "            return country\n",
    "        else:\n",
    "            return cell\n",
    "    else:\n",
    "        return cell"
   ]
  },
  {
   "cell_type": "code",
   "execution_count": 14,
   "id": "49dd71ae",
   "metadata": {},
   "outputs": [],
   "source": [
    "data['country'] = data['country'].apply(get_country_from)"
   ]
  },
  {
   "cell_type": "markdown",
   "id": "5b0e2094",
   "metadata": {},
   "source": [
    "### Получение геоточек"
   ]
  },
  {
   "cell_type": "code",
   "execution_count": 15,
   "id": "cc3122a2",
   "metadata": {},
   "outputs": [],
   "source": [
    "#geolocator = Nominatim(user_agent = 'your_app')"
   ]
  },
  {
   "cell_type": "code",
   "execution_count": 16,
   "id": "62409763",
   "metadata": {},
   "outputs": [],
   "source": [
    "def get_latitude(cell):\n",
    "    try:\n",
    "        location = geolocator.geocode(cell)\n",
    "        return location.latitude\n",
    "    except:\n",
    "        return 'can not find'"
   ]
  },
  {
   "cell_type": "code",
   "execution_count": 17,
   "id": "32e776ea",
   "metadata": {},
   "outputs": [],
   "source": [
    "def get_longitude(cell):\n",
    "    try:\n",
    "        location = geolocator.geocode(cell)\n",
    "        return location.longitude\n",
    "    except:\n",
    "        return 'can not find'"
   ]
  },
  {
   "cell_type": "code",
   "execution_count": 18,
   "id": "8755ef00",
   "metadata": {},
   "outputs": [],
   "source": [
    "#data['latitude'] = data['location'].apply(get_latitude)"
   ]
  },
  {
   "cell_type": "code",
   "execution_count": 19,
   "id": "f766fbea",
   "metadata": {},
   "outputs": [],
   "source": [
    "#data['longitude'] = data['location'].apply(get_longitude)"
   ]
  },
  {
   "cell_type": "code",
   "execution_count": 20,
   "id": "6abe3ed9",
   "metadata": {},
   "outputs": [],
   "source": [
    "#data[data['latitude'] == 'can not find']['html'].count()"
   ]
  },
  {
   "cell_type": "code",
   "execution_count": 21,
   "id": "1c1f8a36",
   "metadata": {},
   "outputs": [],
   "source": [
    "#data.query('latitude == \"can not find\"')"
   ]
  },
  {
   "cell_type": "markdown",
   "id": "d91dacc8",
   "metadata": {},
   "source": [
    "### Тип занятости"
   ]
  },
  {
   "cell_type": "code",
   "execution_count": 22,
   "id": "a7d8acb0",
   "metadata": {},
   "outputs": [],
   "source": [
    "def get_type(cell):\n",
    "    try:\n",
    "        return BeautifulSoup(cell).find('span', class_ = 'jobs-unified-top-card__workplace-type').text.strip()\n",
    "    except:\n",
    "        return np.nan"
   ]
  },
  {
   "cell_type": "code",
   "execution_count": 23,
   "id": "f05ad8df",
   "metadata": {},
   "outputs": [],
   "source": [
    "data['type'] = data['html'].apply(get_type)\n",
    "data['type'] = data['type'].fillna('unknown')"
   ]
  },
  {
   "cell_type": "markdown",
   "id": "2e4e4659",
   "metadata": {},
   "source": [
    "### Название компании"
   ]
  },
  {
   "cell_type": "code",
   "execution_count": 24,
   "id": "be4998a5",
   "metadata": {},
   "outputs": [],
   "source": [
    "def get_company_name(cell):\n",
    "    try:\n",
    "        return BeautifulSoup(cell).find('a', {'class': 'ember-view t-black t-normal'}).text.strip()\n",
    "    except:\n",
    "        return np.nan"
   ]
  },
  {
   "cell_type": "code",
   "execution_count": 25,
   "id": "575fe9a5",
   "metadata": {},
   "outputs": [],
   "source": [
    "data['company'] = data['html'].apply(get_company_name)"
   ]
  },
  {
   "cell_type": "markdown",
   "id": "d86141a8",
   "metadata": {},
   "source": [
    "### Сфера деятельности компании"
   ]
  },
  {
   "cell_type": "code",
   "execution_count": 26,
   "id": "60e74a54",
   "metadata": {},
   "outputs": [],
   "source": [
    "def get_field(cell):\n",
    "    try:\n",
    "        return BeautifulSoup(cell).find('div', class_ = 'mt5 mb2').find_all('li')[1].text.strip().split('·')[1] \n",
    "    except:\n",
    "        return np.nan"
   ]
  },
  {
   "cell_type": "code",
   "execution_count": 27,
   "id": "8a16c22f",
   "metadata": {},
   "outputs": [],
   "source": [
    "data['field'] = data['html'].apply(get_field)"
   ]
  },
  {
   "cell_type": "markdown",
   "id": "f4e6ef86",
   "metadata": {},
   "source": [
    "### Количество сотрудников"
   ]
  },
  {
   "cell_type": "code",
   "execution_count": 28,
   "id": "60298f1c",
   "metadata": {},
   "outputs": [],
   "source": [
    "def get_employees(cell):\n",
    "    try:\n",
    "        return BeautifulSoup(cell).find('div', class_ = 'mt5 mb2').find_all('li')[1].text.strip().split('·')[0].replace('employees', '') \n",
    "    except:\n",
    "        return np.nan"
   ]
  },
  {
   "cell_type": "code",
   "execution_count": 29,
   "id": "554d1278",
   "metadata": {},
   "outputs": [],
   "source": [
    "data['employees'] = data['html'].apply(get_employees)\n",
    "data['employees'] = data['employees'].str.split(\"·\").str[0]\n",
    "data['employees'] = data['employees'].str.split(\" \").str[0]\n",
    "data['employees'] = data['employees'].str.replace('+', '', regex=False)\n",
    "data['employees'] = data['employees'].str.replace(',', '', regex=False)"
   ]
  },
  {
   "cell_type": "code",
   "execution_count": 30,
   "id": "1d99534c",
   "metadata": {},
   "outputs": [
    {
     "data": {
      "text/plain": [
       "array(['10001', '5001-10000', '201-500', '1001-5000', '501-1000',\n",
       "       '51-200', 'See', '11-50', '1-10', 'Government', nan, 'IT',\n",
       "       'Software'], dtype=object)"
      ]
     },
     "execution_count": 30,
     "metadata": {},
     "output_type": "execute_result"
    }
   ],
   "source": [
    "data['employees'].unique()"
   ]
  },
  {
   "cell_type": "code",
   "execution_count": 31,
   "id": "96da083e",
   "metadata": {},
   "outputs": [],
   "source": [
    "def company_size(value):\n",
    "    if value == '1-10' or value == '11-50':\n",
    "        return 'tiny'\n",
    "    \n",
    "    elif value == '51-200':\n",
    "        return 'very small'\n",
    "    \n",
    "    elif value == '201-500':\n",
    "        return 'small'\n",
    "    \n",
    "    elif value == '501-1000' or value == '1001-5000':\n",
    "        return 'middle'\n",
    "    \n",
    "    elif value == '5001-10000':\n",
    "        return 'large'\n",
    "    \n",
    "    elif value == '10001':\n",
    "        return 'huge'\n",
    "    \n",
    "    else:\n",
    "        return 'unknown'\n",
    "    \n",
    "data['company_size'] = data['employees'].apply(company_size)"
   ]
  },
  {
   "cell_type": "markdown",
   "id": "4112d6a0",
   "metadata": {},
   "source": [
    "### Дата публикации вакансии"
   ]
  },
  {
   "cell_type": "code",
   "execution_count": 32,
   "id": "85658cde",
   "metadata": {},
   "outputs": [],
   "source": [
    "def get_date(cell):\n",
    "    try:\n",
    "        return BeautifulSoup(cell).find('span', class_ = 'jobs-unified-top-card__posted-date').text.strip()\n",
    "    except:\n",
    "        np.nan"
   ]
  },
  {
   "cell_type": "code",
   "execution_count": 33,
   "id": "1dbe741a",
   "metadata": {},
   "outputs": [],
   "source": [
    "data['dt'] = data['html'].apply(get_date)"
   ]
  },
  {
   "cell_type": "code",
   "execution_count": 34,
   "id": "ec20f48a",
   "metadata": {},
   "outputs": [
    {
     "data": {
      "text/plain": [
       "array(['13 minutes ago', '4 days ago', '6 days ago', '8 hours ago',\n",
       "       '5 days ago', '2 days ago', '1 hour ago', '22 hours ago',\n",
       "       '1 day ago', '5 hours ago', '10 hours ago', '4 hours ago',\n",
       "       '37 minutes ago', '7 hours ago', '11 hours ago', '3 hours ago',\n",
       "       '16 hours ago', '23 hours ago', '6 hours ago', '2 hours ago',\n",
       "       '15 hours ago', '19 hours ago', '21 hours ago', '9 hours ago',\n",
       "       '14 hours ago', '3 days ago', '13 hours ago', '18 hours ago',\n",
       "       '10 minutes ago', '20 hours ago', '6 minutes ago', '4 minutes ago',\n",
       "       '1 week ago', '45 minutes ago', '24 minutes ago', '28 minutes ago'],\n",
       "      dtype=object)"
      ]
     },
     "execution_count": 34,
     "metadata": {},
     "output_type": "execute_result"
    }
   ],
   "source": [
    "data['dt'].unique()"
   ]
  },
  {
   "cell_type": "code",
   "execution_count": 35,
   "id": "b581c0e3",
   "metadata": {},
   "outputs": [],
   "source": [
    "#дата парсинга \n",
    "dt = datetime(2022, 9, 7, 17, 0, 0)"
   ]
  },
  {
   "cell_type": "code",
   "execution_count": 36,
   "id": "1fa4b6d8",
   "metadata": {},
   "outputs": [],
   "source": [
    "data['dt'] = data['dt'].replace({' days ago': '', ' day ago': '', '1 week ago': '7'}, regex=True)\n",
    "#здесь мы убираем days и day, если написано 1 week - то заменяем на 7 - таким образом остаются только значений в днях\n",
    "\n",
    "data['dt'] = data['dt'].str.replace('.* ago', '0', regex=True)\n",
    "#все остальной - то есть hours ago/minutes ago заменяем на 0 - приняв что данные вакансии опубликованы в день парсинга\n",
    "\n",
    "data['dt'] = data['dt'].astype(int)\n",
    "\n",
    "data['actual_date'] = data['dt'].apply(lambda x: datetime(2022, 9, 7).date() - timedelta(days=x))\n",
    "#находим разницу между датой парсинга и количество дней, когда была опубликована вакансия\n",
    "\n",
    "data['actual_date'] = pd.to_datetime(data['actual_date'], format='%Y-%m-%d')"
   ]
  },
  {
   "cell_type": "markdown",
   "id": "ec709e9e",
   "metadata": {},
   "source": [
    "### Описание вакансии"
   ]
  },
  {
   "cell_type": "code",
   "execution_count": 37,
   "id": "c20923e3",
   "metadata": {},
   "outputs": [],
   "source": [
    "data['description'] = data['html'].apply(lambda x: BeautifulSoup(x).find('div', {'id':'job-details'}).text.strip())"
   ]
  },
  {
   "cell_type": "markdown",
   "id": "e6746a67",
   "metadata": {},
   "source": [
    "### Требуемые хард скиллы"
   ]
  },
  {
   "cell_type": "code",
   "execution_count": 38,
   "id": "c66f72ab",
   "metadata": {},
   "outputs": [],
   "source": [
    "skills = (['datahub', 'api', 'github', 'google analytics', 'adobe analytics', 'ibm coremetrics', 'omniture'\n",
    "            'gitlab', 'erwin', 'hadoop', 'spark', 'hive'\n",
    "           'databricks', 'aws', 'gcp', 'azure','excel',\n",
    "            'redshift', 'bigquery', 'snowflake',  'hana'\n",
    "            'grafana', 'kantar', 'spss', \n",
    "           'asana', 'basecamp', 'jira', 'dbeaver','trello', 'miro', 'salesforce', \n",
    "           'rapidminer', 'thoughtspot',  'power point',  'docker', 'jenkins','integrate.io', 'talend', 'apache nifi','aws glue','pentaho','google data flow',\n",
    "             'azure data factory','xplenty','skyvia','iri voracity','xtract.io','dataddo', 'ssis',\n",
    "             'hevo data','informatica','oracle data integrator','k2view','cdata sync','querysurge', \n",
    "             'rivery', 'dbconvert', 'alooma', 'stitch', 'fivetran', 'matillion','streamsets','blendo',\n",
    "             'iri voracity','logstash', 'etleap', 'singer', 'apache camel','actian', 'airflow', 'luidgi', 'datastage',\n",
    "           'python', 'vba', 'scala', ' r ', 'java script', 'julia', 'sql', 'matlab', 'java', 'html', 'c++', 'sas',\n",
    "           'data studio', 'tableau', 'looker', 'powerbi', 'cognos', 'microstrategy', 'spotfire',\n",
    "             'sap business objects','microsoft sql server', 'oracle business intelligence', 'yellowfin',\n",
    "             'webfocus','sas visual analytics', 'targit', 'izenda',  'sisense', 'statsbot', 'panorama', 'inetsoft',\n",
    "             'birst', 'domo', 'metabase', 'redash', 'power bi', 'alteryx', 'dataiku', 'qlik sense', 'qlikview'\n",
    "          ]) "
   ]
  },
  {
   "cell_type": "code",
   "execution_count": 39,
   "id": "bed08435",
   "metadata": {},
   "outputs": [],
   "source": [
    "def get_skills(cell):\n",
    "    list_skills = []\n",
    "    for skill in skills:\n",
    "        if skill in cell.lower().replace('powerbi', 'power bi'):\n",
    "            list_skills.append(skill)\n",
    "    return ''','''.join(list_skills)"
   ]
  },
  {
   "cell_type": "code",
   "execution_count": 40,
   "id": "21839e20",
   "metadata": {},
   "outputs": [],
   "source": [
    "data['skills'] = data['description'].apply(get_skills)"
   ]
  },
  {
   "cell_type": "code",
   "execution_count": 41,
   "id": "ab6417bb",
   "metadata": {},
   "outputs": [],
   "source": [
    "data['actual_date'] = pd.to_datetime(data['actual_date'], format='%Y-%m-%d %H:%M:%S')"
   ]
  },
  {
   "cell_type": "code",
   "execution_count": 42,
   "id": "6b1b7d7e",
   "metadata": {},
   "outputs": [
    {
     "name": "stdout",
     "output_type": "stream",
     "text": [
      "<class 'pandas.core.frame.DataFrame'>\n",
      "RangeIndex: 772 entries, 0 to 771\n",
      "Data columns (total 17 columns):\n",
      " #   Column        Non-Null Count  Dtype         \n",
      "---  ------        --------------  -----         \n",
      " 0   Unnamed: 0    772 non-null    int64         \n",
      " 1   html          772 non-null    object        \n",
      " 2   title         772 non-null    object        \n",
      " 3   applicants    696 non-null    Int64         \n",
      " 4   link          772 non-null    object        \n",
      " 5   location      772 non-null    object        \n",
      " 6   city          708 non-null    object        \n",
      " 7   country       772 non-null    object        \n",
      " 8   type          772 non-null    object        \n",
      " 9   company       750 non-null    object        \n",
      " 10  field         738 non-null    object        \n",
      " 11  employees     770 non-null    object        \n",
      " 12  company_size  772 non-null    object        \n",
      " 13  dt            772 non-null    int64         \n",
      " 14  actual_date   772 non-null    datetime64[ns]\n",
      " 15  description   772 non-null    object        \n",
      " 16  skills        772 non-null    object        \n",
      "dtypes: Int64(1), datetime64[ns](1), int64(2), object(13)\n",
      "memory usage: 103.4+ KB\n"
     ]
    }
   ],
   "source": [
    "#промежуточный итог\n",
    "data.info()"
   ]
  },
  {
   "cell_type": "markdown",
   "id": "b7f83844",
   "metadata": {},
   "source": [
    "## Часть 2. Преобработка данных"
   ]
  },
  {
   "cell_type": "markdown",
   "id": "2162bf4f",
   "metadata": {},
   "source": [
    "В этой части нужны сделать следующие действия:\n",
    "\n",
    "- удалить дубликаты\n",
    "- оставить вакансии только для аналитиков\n",
    "- удаление ненужных атрибутов(столбцов)"
   ]
  },
  {
   "cell_type": "code",
   "execution_count": 43,
   "id": "ce0608ce",
   "metadata": {},
   "outputs": [],
   "source": [
    "final_data = data[['title', 'company', 'applicants', 'city', 'country', 'type', 'field', 'employees', 'company_size', 'actual_date', 'skills', 'location']]\n",
    "            "
   ]
  },
  {
   "cell_type": "code",
   "execution_count": 44,
   "id": "7aa79912",
   "metadata": {},
   "outputs": [],
   "source": [
    "final_data = final_data.replace('', np.nan)"
   ]
  },
  {
   "cell_type": "code",
   "execution_count": 45,
   "id": "0e222554",
   "metadata": {},
   "outputs": [
    {
     "data": {
      "text/plain": [
       "6"
      ]
     },
     "execution_count": 45,
     "metadata": {},
     "output_type": "execute_result"
    }
   ],
   "source": [
    "final_data.duplicated().sum()"
   ]
  },
  {
   "cell_type": "code",
   "execution_count": 46,
   "id": "21a83e00",
   "metadata": {},
   "outputs": [],
   "source": [
    "final_data.drop_duplicates(inplace=True)"
   ]
  },
  {
   "cell_type": "code",
   "execution_count": 47,
   "id": "116ca1a6",
   "metadata": {},
   "outputs": [
    {
     "data": {
      "text/plain": [
       "'stage - assistant ingénieur qualité - beyrand (h/f)'"
      ]
     },
     "execution_count": 47,
     "metadata": {},
     "output_type": "execute_result"
    }
   ],
   "source": [
    "final_data['title'][0].lower()"
   ]
  },
  {
   "cell_type": "code",
   "execution_count": 48,
   "id": "ea3b5ca3",
   "metadata": {},
   "outputs": [],
   "source": [
    "#цикл, в котором мы отбираем только вакансии аналитиков \n",
    "final_data['filter'] = ''\n",
    "\n",
    "for x in final_data.index:\n",
    "    if 'data' in final_data.loc[x]['title'].lower() and 'analyst' in final_data.loc[x]['title'].lower():\n",
    "        final_data['filter'].loc[x] = 'filter'\n",
    "        \n",
    "    elif 'bi' in final_data.loc[x]['title'].lower() and 'analyst' in final_data.loc[x]['title'].lower():\n",
    "        final_data['filter'].loc[x] = 'filter'\n",
    "        \n",
    "    else:\n",
    "        np.nan"
   ]
  },
  {
   "cell_type": "code",
   "execution_count": 49,
   "id": "8c8d461a",
   "metadata": {},
   "outputs": [],
   "source": [
    "final_data = final_data.query('filter == \"filter\"')\n",
    "final_data.drop(columns='filter', inplace=True)"
   ]
  },
  {
   "cell_type": "code",
   "execution_count": 50,
   "id": "7aab0acb",
   "metadata": {},
   "outputs": [
    {
     "data": {
      "text/plain": [
       "array(['Online Data Analyst', 'Online Data Analyst - Belgium',\n",
       "       'Data Analyst', 'Alternant/ Alternante data analyst M/F',\n",
       "       'Data Analyst H/F', 'Stage - Data Analyst (H/F)',\n",
       "       'Data Analyst (F/H)', 'Data Analyst (Tableau)',\n",
       "       'Online Data Analyst | French Speaker',\n",
       "       'Online Data Analyst | Flexible Work',\n",
       "       'Online Data Analyst | REMOTE OPPORTUNITY', 'Data analyst',\n",
       "       'Data Analyst (IT)', 'Data Analyst (m/f/d)',\n",
       "       'Data Analyst (M/W/D)', 'Remote | Data Analyst',\n",
       "       'Data Analyst SA1/SA2', 'Data analyst | Deals (M&A) | CDI | H/F',\n",
       "       'Data Analyst - AdSales & StoryWorks',\n",
       "       'Data Analyst with focus on solution design (m/f/d)',\n",
       "       'Remote| Data Analyst', 'Data Analyst - (m/f/d)',\n",
       "       'Alternance - Data Analyst/Dataviz Specialist H/F',\n",
       "       'Data Analyst  - Boursorama',\n",
       "       'Data Analyst in Forensic Technology Services team',\n",
       "       'Data Analyst (m/w/d)', 'Analyste Exploitation Datacenter',\n",
       "       'Data Analyst with Python', 'Online Data Analyst in the UK',\n",
       "       'Data Analyst Clickshare', 'Data Analyst - Associate',\n",
       "       'Work From Home | Data Analyst', 'Data Analyst - Performance',\n",
       "       'Data Data Analyst with Spanish',\n",
       "       'Junior Functional Analyst ambito Canali',\n",
       "       'Data Analyst (Part-time)', 'Data Analyst Customer Excellence',\n",
       "       'Data/Analyst Data Translator (H/F)', 'Product Data Analyst',\n",
       "       'Data Analyst - Oxfordshire', 'Graduate Data Analyst',\n",
       "       'Graduate Data Analyst 12 Month FTC', 'DATA ANALYST',\n",
       "       'Product/Data Analyst', 'Data Analyst - Werkstudent (m/w/d)',\n",
       "       'Superbe opportunité de Data analyst - 100% à Martigny',\n",
       "       'Customer Data Analyst (m/w/d)',\n",
       "       'Data Analyst Düsseldorf/München gesucht at JSAN Consulting GmbH',\n",
       "       'Data Analyst E-Commerce (m/w/d)', 'CONSULTANT DATA ANALYST (F/H)',\n",
       "       'STAGE - DATA ANALYST MARKETING F/H', 'Data Internet Analyst',\n",
       "       'Data Analyst RH - F/H', 'Data Development Analyst',\n",
       "       'Data Analyst in Technology Team, Financial Crime Unit',\n",
       "       'Junior Data Analyst', 'Data Analyst (CDM 8 mois)',\n",
       "       'Asset Data Analyst', 'Data Analyst (m/w/d) - Automotive',\n",
       "       'Product Data Analyst (V.I.E.) H/F', 'DATA ANALYST - F/H - IDF',\n",
       "       'Data Analyst with Spanish (shifts), Corporate Actions',\n",
       "       'Material Data Analyst', 'Data Analyst (Hydro)',\n",
       "       'Data Analyst - Part time',\n",
       "       'Data Analyst (Product & Operations) - Sustainability',\n",
       "       'Data Analyst/Data-Analystin - IT Forensik (m/w/d)',\n",
       "       'Operations Data Analyst (They/She/He)', 'Analyst Big Data',\n",
       "       'Data Analyst (m/f/d) Brand Marketing', 'STAGE data analyst H/F',\n",
       "       'Data Analyst - 9 Month Fixed Term Contract',\n",
       "       'Commercial Data Analyst', 'Data Analytics Analyst',\n",
       "       'Data Analyst (f/m/d)', 'Environmental Data Analyst',\n",
       "       'Data Analyst - Marketing', 'Data Analyst TUI.com (m/w/d)',\n",
       "       'Data Analyst (Tijdelijk - 3 Maanden)',\n",
       "       'Data Analyst & Coordinator',\n",
       "       \"Data Analyst & développement digital de l'Audit Compagnie F/H\",\n",
       "       'Data Analyst Télécom (IT)', 'Performance and Data Analyst',\n",
       "       'Data Analyst - Analytics and Insights - Data Center of Excellence',\n",
       "       'Data Analyst (Spotfire and/or Mendix, SQL and Python), Veldhoven',\n",
       "       'CX Data Analyst', 'Data analyst Datalake (F/H)',\n",
       "       'Apprenti.e Data analyst (h/f)',\n",
       "       'Data Analyst (Spotfire and/or Mendix, SQL and Python) - Veldhoven',\n",
       "       'Online Data Analyst - Sweden',\n",
       "       'Part-time Work Opportunity | Online Data Analyst',\n",
       "       'Reporting & Data analyst', 'Data Modelling Analyst',\n",
       "       'Data Analyst mit Fokus auf Up- und Crossselling (m/w/d)',\n",
       "       'Associate Data Analyst - Product Analytics',\n",
       "       'Data Analyst - Finance', 'Pensions Administration Data Analyst',\n",
       "       'Data Analyst (Marketing Team)',\n",
       "       'Data Analyst & BusinessObjects Developer',\n",
       "       'Data analyste - H/F - Alternance', 'Data Analyst, Digital',\n",
       "       'Data Analyst-Tecan Evo Plus and Fluent Biosero GBG',\n",
       "       'Junior Market Data Analyst', 'Data Analyst - Demand',\n",
       "       'Data Analyst (Insurance) - Multiple Positions',\n",
       "       'Data Analyst, Banking & Insurance',\n",
       "       'Online Data Analyst - Slovenia',\n",
       "       'PT Compliance Hub - Data Analyst',\n",
       "       'Commercial Data Analyst - Online Travel - London - £40K',\n",
       "       'Online Data Analyst - Croatia',\n",
       "       'Location Strategy & Data Analyst', 'Cybersecurity Data Analyst',\n",
       "       'Data Analyst Product, CRO expert',\n",
       "       'Data Engineering & Data Warehouse Analyst (all genders)',\n",
       "       'GIS Asset Data Analyst', 'Data Specialist (Steward / Analyst)',\n",
       "       'Analyste Data H/F',\n",
       "       'Data Scientist-Analyst GERS (H/F) - Boulogne-Billancourt (France)',\n",
       "       'Customer Ledger Data Analyst',\n",
       "       'Data Analyst (m/f/d) Workload Planning (Business Administrator (Fachschule) - Information Processing)',\n",
       "       'People Systems and Data Analyst',\n",
       "       'Product Data Analyst / Analytics Engineer — London',\n",
       "       'Online Data Analyst - Slovakia',\n",
       "       'SSWHG35824 - Data Analyst, CHAIR Programme, Section Officer, Grade VI',\n",
       "       'Data Analyst | E-commerce & Crowdfunding',\n",
       "       'Data Analyst for Portuguese Speakers',\n",
       "       'Sample Management Data Analyst',\n",
       "       'Application Data Analyst Hybrid working',\n",
       "       'Inventory data analyst til Europas største kontorartikelleverandør',\n",
       "       'Data Analyst Pricing – F/H', 'Data Analyst - Regulatory Affairs',\n",
       "       'Language Data Analyst - Hebrew', 'Acoustic Data Analyst',\n",
       "       'Systems Data Analyst', 'HR Group Reward & HR Data Analyst',\n",
       "       'Interim HR Data Analyst',\n",
       "       'Language Researcher / Data Analyst - French',\n",
       "       'Online Data Analyst - Hungary', 'Ing. Elettronico/Data Analyst',\n",
       "       'Customer Data Platform (CDP) Specialist / Customer Data Consultant / MarTech Expert / Data Analyst (H/F)',\n",
       "       'Data Analyst / Consultant Qlikview/Qliksense (m/w/d)',\n",
       "       'Scientific programmer and data analyst', 'Genomics Data Analyst',\n",
       "       'Data Research Analyst',\n",
       "       'Praktikant / Werkstudent Data Analyst (m/w/d) Financial Services Industry',\n",
       "       'BI Data Analyst Intern (f/m/x)', 'Language Data Analyst',\n",
       "       'Data Junior Analyst [Online / Phone Recruitment]',\n",
       "       'Assistenz (w/m/d) des CEO West - Schwerpunkt Data Analyst / Controlling'],\n",
       "      dtype=object)"
      ]
     },
     "execution_count": 50,
     "metadata": {},
     "output_type": "execute_result"
    }
   ],
   "source": [
    "final_data['title'].unique()"
   ]
  },
  {
   "cell_type": "code",
   "execution_count": 51,
   "id": "7d40f261",
   "metadata": {
    "scrolled": true
   },
   "outputs": [
    {
     "data": {
      "text/html": [
       "<div>\n",
       "<style scoped>\n",
       "    .dataframe tbody tr th:only-of-type {\n",
       "        vertical-align: middle;\n",
       "    }\n",
       "\n",
       "    .dataframe tbody tr th {\n",
       "        vertical-align: top;\n",
       "    }\n",
       "\n",
       "    .dataframe thead th {\n",
       "        text-align: right;\n",
       "    }\n",
       "</style>\n",
       "<table border=\"1\" class=\"dataframe\">\n",
       "  <thead>\n",
       "    <tr style=\"text-align: right;\">\n",
       "      <th></th>\n",
       "      <th>title</th>\n",
       "      <th>company</th>\n",
       "      <th>applicants</th>\n",
       "      <th>city</th>\n",
       "      <th>country</th>\n",
       "      <th>type</th>\n",
       "      <th>field</th>\n",
       "      <th>employees</th>\n",
       "      <th>company_size</th>\n",
       "      <th>actual_date</th>\n",
       "      <th>skills</th>\n",
       "      <th>location</th>\n",
       "    </tr>\n",
       "  </thead>\n",
       "  <tbody>\n",
       "    <tr>\n",
       "      <th>2</th>\n",
       "      <td>Online Data Analyst</td>\n",
       "      <td>TELUS International AI Data Solutions</td>\n",
       "      <td>12</td>\n",
       "      <td>Skara</td>\n",
       "      <td>Sweden</td>\n",
       "      <td>Remote</td>\n",
       "      <td>IT Services and IT Consulting</td>\n",
       "      <td>10001</td>\n",
       "      <td>huge</td>\n",
       "      <td>2022-09-01</td>\n",
       "      <td>NaN</td>\n",
       "      <td>Skara, Vastra Gotaland County, Sweden</td>\n",
       "    </tr>\n",
       "    <tr>\n",
       "      <th>3</th>\n",
       "      <td>Online Data Analyst - Belgium</td>\n",
       "      <td>TELUS International</td>\n",
       "      <td>11</td>\n",
       "      <td>West Flanders</td>\n",
       "      <td>Belgium</td>\n",
       "      <td>Remote</td>\n",
       "      <td>IT Services and IT Consulting</td>\n",
       "      <td>10001</td>\n",
       "      <td>huge</td>\n",
       "      <td>2022-09-01</td>\n",
       "      <td>NaN</td>\n",
       "      <td>West Flanders, Flemish Region, Belgium</td>\n",
       "    </tr>\n",
       "    <tr>\n",
       "      <th>4</th>\n",
       "      <td>Data Analyst</td>\n",
       "      <td>TELUS International AI Data Solutions</td>\n",
       "      <td>2</td>\n",
       "      <td>Mecklenburg-West Pomerania</td>\n",
       "      <td>Germany</td>\n",
       "      <td>Remote</td>\n",
       "      <td>IT Services and IT Consulting</td>\n",
       "      <td>10001</td>\n",
       "      <td>huge</td>\n",
       "      <td>2022-09-07</td>\n",
       "      <td>NaN</td>\n",
       "      <td>Mecklenburg-West Pomerania, Germany</td>\n",
       "    </tr>\n",
       "    <tr>\n",
       "      <th>5</th>\n",
       "      <td>Data Analyst</td>\n",
       "      <td>TELUS International AI Data Solutions</td>\n",
       "      <td>4</td>\n",
       "      <td>Hamburg</td>\n",
       "      <td>Germany</td>\n",
       "      <td>Remote</td>\n",
       "      <td>IT Services and IT Consulting</td>\n",
       "      <td>10001</td>\n",
       "      <td>huge</td>\n",
       "      <td>2022-09-07</td>\n",
       "      <td>NaN</td>\n",
       "      <td>Hamburg, Germany</td>\n",
       "    </tr>\n",
       "    <tr>\n",
       "      <th>6</th>\n",
       "      <td>Alternant/ Alternante data analyst M/F</td>\n",
       "      <td>STMicroelectronics</td>\n",
       "      <td>25</td>\n",
       "      <td>Rousset</td>\n",
       "      <td>France</td>\n",
       "      <td>On-site</td>\n",
       "      <td>Semiconductor Manufacturing</td>\n",
       "      <td>10001</td>\n",
       "      <td>huge</td>\n",
       "      <td>2022-09-02</td>\n",
       "      <td>excel,python,sql,java,html,spotfire,power bi</td>\n",
       "      <td>Rousset, Provence-Alpes-Côte d'Azur, France</td>\n",
       "    </tr>\n",
       "    <tr>\n",
       "      <th>11</th>\n",
       "      <td>Data Analyst</td>\n",
       "      <td>TELUS International AI Data Solutions</td>\n",
       "      <td>&lt;NA&gt;</td>\n",
       "      <td>Przemyśl</td>\n",
       "      <td>Przemyśl Metropolitan Area</td>\n",
       "      <td>Remote</td>\n",
       "      <td>IT Services and IT Consulting</td>\n",
       "      <td>10001</td>\n",
       "      <td>huge</td>\n",
       "      <td>2022-09-07</td>\n",
       "      <td>NaN</td>\n",
       "      <td>Przemyśl Metropolitan Area</td>\n",
       "    </tr>\n",
       "    <tr>\n",
       "      <th>12</th>\n",
       "      <td>Data Analyst H/F</td>\n",
       "      <td>GESER-BEST - FRANCE</td>\n",
       "      <td>7</td>\n",
       "      <td>Toulouse</td>\n",
       "      <td>France</td>\n",
       "      <td>On-site</td>\n",
       "      <td>Human Resources Services</td>\n",
       "      <td>201-500</td>\n",
       "      <td>small</td>\n",
       "      <td>2022-09-01</td>\n",
       "      <td>excel,ssis,data studio,tableau</td>\n",
       "      <td>Toulouse, Occitanie, France</td>\n",
       "    </tr>\n",
       "    <tr>\n",
       "      <th>17</th>\n",
       "      <td>Stage - Data Analyst (H/F)</td>\n",
       "      <td>Liebherr Group</td>\n",
       "      <td>14</td>\n",
       "      <td>Toulouse</td>\n",
       "      <td>France</td>\n",
       "      <td>On-site</td>\n",
       "      <td>Industrial Machinery Manufacturing</td>\n",
       "      <td>10001</td>\n",
       "      <td>huge</td>\n",
       "      <td>2022-09-06</td>\n",
       "      <td>excel,vba,sas,power bi</td>\n",
       "      <td>Toulouse, Occitanie, France</td>\n",
       "    </tr>\n",
       "    <tr>\n",
       "      <th>18</th>\n",
       "      <td>Data Analyst (F/H)</td>\n",
       "      <td>CELAD</td>\n",
       "      <td>2</td>\n",
       "      <td>Lille</td>\n",
       "      <td>France</td>\n",
       "      <td>On-site</td>\n",
       "      <td>IT Services and IT Consulting</td>\n",
       "      <td>1001-5000</td>\n",
       "      <td>middle</td>\n",
       "      <td>2022-09-05</td>\n",
       "      <td>hadoop,spark,gcp,azure,python</td>\n",
       "      <td>Lille, Hauts-de-France, France</td>\n",
       "    </tr>\n",
       "    <tr>\n",
       "      <th>19</th>\n",
       "      <td>Data Analyst (Tableau)</td>\n",
       "      <td>Guardian Jobs</td>\n",
       "      <td>30</td>\n",
       "      <td>NaN</td>\n",
       "      <td>Gibraltar</td>\n",
       "      <td>unknown</td>\n",
       "      <td>Staffing and Recruiting</td>\n",
       "      <td>51-200</td>\n",
       "      <td>very small</td>\n",
       "      <td>2022-09-06</td>\n",
       "      <td>api,excel,python,sql,tableau</td>\n",
       "      <td>Gibraltar</td>\n",
       "    </tr>\n",
       "    <tr>\n",
       "      <th>25</th>\n",
       "      <td>Online Data Analyst | French Speaker</td>\n",
       "      <td>TELUS International AI Data Solutions</td>\n",
       "      <td>26</td>\n",
       "      <td>Provence-Alpes-Côte d'Azur</td>\n",
       "      <td>France</td>\n",
       "      <td>Remote</td>\n",
       "      <td>IT Services and IT Consulting</td>\n",
       "      <td>10001</td>\n",
       "      <td>huge</td>\n",
       "      <td>2022-09-05</td>\n",
       "      <td>NaN</td>\n",
       "      <td>Provence-Alpes-Côte d'Azur, France</td>\n",
       "    </tr>\n",
       "    <tr>\n",
       "      <th>26</th>\n",
       "      <td>Online Data Analyst</td>\n",
       "      <td>TELUS International</td>\n",
       "      <td>10</td>\n",
       "      <td>Nantes</td>\n",
       "      <td>France</td>\n",
       "      <td>Remote</td>\n",
       "      <td>IT Services and IT Consulting</td>\n",
       "      <td>10001</td>\n",
       "      <td>huge</td>\n",
       "      <td>2022-09-01</td>\n",
       "      <td>NaN</td>\n",
       "      <td>Nantes, Pays de la Loire, France</td>\n",
       "    </tr>\n",
       "    <tr>\n",
       "      <th>27</th>\n",
       "      <td>Data Analyst</td>\n",
       "      <td>TELUS International AI Data Solutions</td>\n",
       "      <td>9</td>\n",
       "      <td>NaN</td>\n",
       "      <td>Poland</td>\n",
       "      <td>Remote</td>\n",
       "      <td>IT Services and IT Consulting</td>\n",
       "      <td>10001</td>\n",
       "      <td>huge</td>\n",
       "      <td>2022-09-07</td>\n",
       "      <td>NaN</td>\n",
       "      <td>Poland</td>\n",
       "    </tr>\n",
       "    <tr>\n",
       "      <th>28</th>\n",
       "      <td>Data Analyst</td>\n",
       "      <td>TELUS International AI Data Solutions</td>\n",
       "      <td>3</td>\n",
       "      <td>Grudziadz</td>\n",
       "      <td>Poland</td>\n",
       "      <td>Remote</td>\n",
       "      <td>IT Services and IT Consulting</td>\n",
       "      <td>10001</td>\n",
       "      <td>huge</td>\n",
       "      <td>2022-09-07</td>\n",
       "      <td>NaN</td>\n",
       "      <td>Grudziadz Metropolitan Area</td>\n",
       "    </tr>\n",
       "    <tr>\n",
       "      <th>29</th>\n",
       "      <td>Data Analyst</td>\n",
       "      <td>TELUS International AI Data Solutions</td>\n",
       "      <td>11</td>\n",
       "      <td>North Rhine-Westphalia</td>\n",
       "      <td>Germany</td>\n",
       "      <td>Remote</td>\n",
       "      <td>IT Services and IT Consulting</td>\n",
       "      <td>10001</td>\n",
       "      <td>huge</td>\n",
       "      <td>2022-09-07</td>\n",
       "      <td>NaN</td>\n",
       "      <td>North Rhine-Westphalia, Germany</td>\n",
       "    </tr>\n",
       "  </tbody>\n",
       "</table>\n",
       "</div>"
      ],
      "text/plain": [
       "                                     title  \\\n",
       "2                      Online Data Analyst   \n",
       "3            Online Data Analyst - Belgium   \n",
       "4                             Data Analyst   \n",
       "5                             Data Analyst   \n",
       "6   Alternant/ Alternante data analyst M/F   \n",
       "11                            Data Analyst   \n",
       "12                        Data Analyst H/F   \n",
       "17              Stage - Data Analyst (H/F)   \n",
       "18                      Data Analyst (F/H)   \n",
       "19                  Data Analyst (Tableau)   \n",
       "25    Online Data Analyst | French Speaker   \n",
       "26                     Online Data Analyst   \n",
       "27                            Data Analyst   \n",
       "28                            Data Analyst   \n",
       "29                            Data Analyst   \n",
       "\n",
       "                                  company  applicants  \\\n",
       "2   TELUS International AI Data Solutions          12   \n",
       "3                     TELUS International          11   \n",
       "4   TELUS International AI Data Solutions           2   \n",
       "5   TELUS International AI Data Solutions           4   \n",
       "6                      STMicroelectronics          25   \n",
       "11  TELUS International AI Data Solutions        <NA>   \n",
       "12                    GESER-BEST - FRANCE           7   \n",
       "17                         Liebherr Group          14   \n",
       "18                                  CELAD           2   \n",
       "19                          Guardian Jobs          30   \n",
       "25  TELUS International AI Data Solutions          26   \n",
       "26                    TELUS International          10   \n",
       "27  TELUS International AI Data Solutions           9   \n",
       "28  TELUS International AI Data Solutions           3   \n",
       "29  TELUS International AI Data Solutions          11   \n",
       "\n",
       "                          city                     country     type  \\\n",
       "2                        Skara                      Sweden   Remote   \n",
       "3                West Flanders                     Belgium   Remote   \n",
       "4   Mecklenburg-West Pomerania                     Germany   Remote   \n",
       "5                      Hamburg                     Germany   Remote   \n",
       "6                      Rousset                      France  On-site   \n",
       "11                    Przemyśl  Przemyśl Metropolitan Area   Remote   \n",
       "12                    Toulouse                      France  On-site   \n",
       "17                    Toulouse                      France  On-site   \n",
       "18                       Lille                      France  On-site   \n",
       "19                         NaN                   Gibraltar  unknown   \n",
       "25  Provence-Alpes-Côte d'Azur                      France   Remote   \n",
       "26                      Nantes                      France   Remote   \n",
       "27                         NaN                      Poland   Remote   \n",
       "28                   Grudziadz                      Poland   Remote   \n",
       "29      North Rhine-Westphalia                     Germany   Remote   \n",
       "\n",
       "                                  field  employees company_size actual_date  \\\n",
       "2         IT Services and IT Consulting      10001         huge  2022-09-01   \n",
       "3         IT Services and IT Consulting      10001         huge  2022-09-01   \n",
       "4         IT Services and IT Consulting      10001         huge  2022-09-07   \n",
       "5         IT Services and IT Consulting      10001         huge  2022-09-07   \n",
       "6           Semiconductor Manufacturing      10001         huge  2022-09-02   \n",
       "11        IT Services and IT Consulting      10001         huge  2022-09-07   \n",
       "12             Human Resources Services    201-500        small  2022-09-01   \n",
       "17   Industrial Machinery Manufacturing      10001         huge  2022-09-06   \n",
       "18        IT Services and IT Consulting  1001-5000       middle  2022-09-05   \n",
       "19              Staffing and Recruiting     51-200   very small  2022-09-06   \n",
       "25        IT Services and IT Consulting      10001         huge  2022-09-05   \n",
       "26        IT Services and IT Consulting      10001         huge  2022-09-01   \n",
       "27        IT Services and IT Consulting      10001         huge  2022-09-07   \n",
       "28        IT Services and IT Consulting      10001         huge  2022-09-07   \n",
       "29        IT Services and IT Consulting      10001         huge  2022-09-07   \n",
       "\n",
       "                                          skills  \\\n",
       "2                                            NaN   \n",
       "3                                            NaN   \n",
       "4                                            NaN   \n",
       "5                                            NaN   \n",
       "6   excel,python,sql,java,html,spotfire,power bi   \n",
       "11                                           NaN   \n",
       "12                excel,ssis,data studio,tableau   \n",
       "17                        excel,vba,sas,power bi   \n",
       "18                 hadoop,spark,gcp,azure,python   \n",
       "19                  api,excel,python,sql,tableau   \n",
       "25                                           NaN   \n",
       "26                                           NaN   \n",
       "27                                           NaN   \n",
       "28                                           NaN   \n",
       "29                                           NaN   \n",
       "\n",
       "                                       location  \n",
       "2         Skara, Vastra Gotaland County, Sweden  \n",
       "3        West Flanders, Flemish Region, Belgium  \n",
       "4           Mecklenburg-West Pomerania, Germany  \n",
       "5                              Hamburg, Germany  \n",
       "6   Rousset, Provence-Alpes-Côte d'Azur, France  \n",
       "11                   Przemyśl Metropolitan Area  \n",
       "12                  Toulouse, Occitanie, France  \n",
       "17                  Toulouse, Occitanie, France  \n",
       "18               Lille, Hauts-de-France, France  \n",
       "19                                    Gibraltar  \n",
       "25           Provence-Alpes-Côte d'Azur, France  \n",
       "26             Nantes, Pays de la Loire, France  \n",
       "27                                       Poland  \n",
       "28                  Grudziadz Metropolitan Area  \n",
       "29              North Rhine-Westphalia, Germany  "
      ]
     },
     "execution_count": 51,
     "metadata": {},
     "output_type": "execute_result"
    }
   ],
   "source": [
    "#итоговый датафрейм\n",
    "final_data.head(15)"
   ]
  },
  {
   "cell_type": "code",
   "execution_count": 52,
   "id": "a60f238f",
   "metadata": {},
   "outputs": [],
   "source": [
    "final_data.to_csv('/Users/denis_sl/Desktop/проект linkedin/parser_linkedin_3.csv', index = False)"
   ]
  },
  {
   "cell_type": "code",
   "execution_count": 53,
   "id": "872b53d7",
   "metadata": {},
   "outputs": [
    {
     "data": {
      "text/plain": [
       "279"
      ]
     },
     "execution_count": 53,
     "metadata": {},
     "output_type": "execute_result"
    }
   ],
   "source": [
    "final_data['title'].count()"
   ]
  }
 ],
 "metadata": {
  "kernelspec": {
   "display_name": "Python 3 (ipykernel)",
   "language": "python",
   "name": "python3"
  },
  "language_info": {
   "codemirror_mode": {
    "name": "ipython",
    "version": 3
   },
   "file_extension": ".py",
   "mimetype": "text/x-python",
   "name": "python",
   "nbconvert_exporter": "python",
   "pygments_lexer": "ipython3",
   "version": "3.9.12"
  }
 },
 "nbformat": 4,
 "nbformat_minor": 5
}

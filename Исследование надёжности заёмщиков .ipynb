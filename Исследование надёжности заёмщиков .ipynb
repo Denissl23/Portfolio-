{
 "cells": [
  {
   "cell_type": "markdown",
   "id": "4dad41d8",
   "metadata": {},
   "source": [
    "# Исследование надежности заемщиков."
   ]
  },
  {
   "cell_type": "markdown",
   "id": "817d70ef",
   "metadata": {},
   "source": [
    "Нужно разобраться, влияет ли семейное положение и количество детей клиента на факт погашения кредита в срок. Входные данные от банка — статистика о платёжеспособности клиентов."
   ]
  },
  {
   "cell_type": "markdown",
   "id": "86db7838",
   "metadata": {},
   "source": [
    "### Шаг 1. Обзор данных"
   ]
  },
  {
   "cell_type": "code",
   "execution_count": 52,
   "id": "32d20e80",
   "metadata": {},
   "outputs": [],
   "source": [
    "import pandas as pd"
   ]
  },
  {
   "cell_type": "code",
   "execution_count": 53,
   "id": "29446838",
   "metadata": {},
   "outputs": [],
   "source": [
    "data = pd.read_csv('/Users/denisslobodyanyuk/Desktop/датасеты яндекса/data (2).csv')#сохраняем таблицу в переменную"
   ]
  },
  {
   "cell_type": "code",
   "execution_count": 54,
   "id": "d8eb96e7",
   "metadata": {},
   "outputs": [
    {
     "data": {
      "text/html": [
       "<div>\n",
       "<style scoped>\n",
       "    .dataframe tbody tr th:only-of-type {\n",
       "        vertical-align: middle;\n",
       "    }\n",
       "\n",
       "    .dataframe tbody tr th {\n",
       "        vertical-align: top;\n",
       "    }\n",
       "\n",
       "    .dataframe thead th {\n",
       "        text-align: right;\n",
       "    }\n",
       "</style>\n",
       "<table border=\"1\" class=\"dataframe\">\n",
       "  <thead>\n",
       "    <tr style=\"text-align: right;\">\n",
       "      <th></th>\n",
       "      <th>children</th>\n",
       "      <th>days_employed</th>\n",
       "      <th>dob_years</th>\n",
       "      <th>education</th>\n",
       "      <th>education_id</th>\n",
       "      <th>family_status</th>\n",
       "      <th>family_status_id</th>\n",
       "      <th>gender</th>\n",
       "      <th>income_type</th>\n",
       "      <th>debt</th>\n",
       "      <th>total_income</th>\n",
       "      <th>purpose</th>\n",
       "    </tr>\n",
       "  </thead>\n",
       "  <tbody>\n",
       "    <tr>\n",
       "      <th>0</th>\n",
       "      <td>1</td>\n",
       "      <td>-8437.673028</td>\n",
       "      <td>42</td>\n",
       "      <td>высшее</td>\n",
       "      <td>0</td>\n",
       "      <td>женат / замужем</td>\n",
       "      <td>0</td>\n",
       "      <td>F</td>\n",
       "      <td>сотрудник</td>\n",
       "      <td>0</td>\n",
       "      <td>253875.639453</td>\n",
       "      <td>покупка жилья</td>\n",
       "    </tr>\n",
       "    <tr>\n",
       "      <th>1</th>\n",
       "      <td>1</td>\n",
       "      <td>-4024.803754</td>\n",
       "      <td>36</td>\n",
       "      <td>среднее</td>\n",
       "      <td>1</td>\n",
       "      <td>женат / замужем</td>\n",
       "      <td>0</td>\n",
       "      <td>F</td>\n",
       "      <td>сотрудник</td>\n",
       "      <td>0</td>\n",
       "      <td>112080.014102</td>\n",
       "      <td>приобретение автомобиля</td>\n",
       "    </tr>\n",
       "    <tr>\n",
       "      <th>2</th>\n",
       "      <td>0</td>\n",
       "      <td>-5623.422610</td>\n",
       "      <td>33</td>\n",
       "      <td>Среднее</td>\n",
       "      <td>1</td>\n",
       "      <td>женат / замужем</td>\n",
       "      <td>0</td>\n",
       "      <td>M</td>\n",
       "      <td>сотрудник</td>\n",
       "      <td>0</td>\n",
       "      <td>145885.952297</td>\n",
       "      <td>покупка жилья</td>\n",
       "    </tr>\n",
       "    <tr>\n",
       "      <th>3</th>\n",
       "      <td>3</td>\n",
       "      <td>-4124.747207</td>\n",
       "      <td>32</td>\n",
       "      <td>среднее</td>\n",
       "      <td>1</td>\n",
       "      <td>женат / замужем</td>\n",
       "      <td>0</td>\n",
       "      <td>M</td>\n",
       "      <td>сотрудник</td>\n",
       "      <td>0</td>\n",
       "      <td>267628.550329</td>\n",
       "      <td>дополнительное образование</td>\n",
       "    </tr>\n",
       "    <tr>\n",
       "      <th>4</th>\n",
       "      <td>0</td>\n",
       "      <td>340266.072047</td>\n",
       "      <td>53</td>\n",
       "      <td>среднее</td>\n",
       "      <td>1</td>\n",
       "      <td>гражданский брак</td>\n",
       "      <td>1</td>\n",
       "      <td>F</td>\n",
       "      <td>пенсионер</td>\n",
       "      <td>0</td>\n",
       "      <td>158616.077870</td>\n",
       "      <td>сыграть свадьбу</td>\n",
       "    </tr>\n",
       "    <tr>\n",
       "      <th>...</th>\n",
       "      <td>...</td>\n",
       "      <td>...</td>\n",
       "      <td>...</td>\n",
       "      <td>...</td>\n",
       "      <td>...</td>\n",
       "      <td>...</td>\n",
       "      <td>...</td>\n",
       "      <td>...</td>\n",
       "      <td>...</td>\n",
       "      <td>...</td>\n",
       "      <td>...</td>\n",
       "      <td>...</td>\n",
       "    </tr>\n",
       "    <tr>\n",
       "      <th>21520</th>\n",
       "      <td>1</td>\n",
       "      <td>-4529.316663</td>\n",
       "      <td>43</td>\n",
       "      <td>среднее</td>\n",
       "      <td>1</td>\n",
       "      <td>гражданский брак</td>\n",
       "      <td>1</td>\n",
       "      <td>F</td>\n",
       "      <td>компаньон</td>\n",
       "      <td>0</td>\n",
       "      <td>224791.862382</td>\n",
       "      <td>операции с жильем</td>\n",
       "    </tr>\n",
       "    <tr>\n",
       "      <th>21521</th>\n",
       "      <td>0</td>\n",
       "      <td>343937.404131</td>\n",
       "      <td>67</td>\n",
       "      <td>среднее</td>\n",
       "      <td>1</td>\n",
       "      <td>женат / замужем</td>\n",
       "      <td>0</td>\n",
       "      <td>F</td>\n",
       "      <td>пенсионер</td>\n",
       "      <td>0</td>\n",
       "      <td>155999.806512</td>\n",
       "      <td>сделка с автомобилем</td>\n",
       "    </tr>\n",
       "    <tr>\n",
       "      <th>21522</th>\n",
       "      <td>1</td>\n",
       "      <td>-2113.346888</td>\n",
       "      <td>38</td>\n",
       "      <td>среднее</td>\n",
       "      <td>1</td>\n",
       "      <td>гражданский брак</td>\n",
       "      <td>1</td>\n",
       "      <td>M</td>\n",
       "      <td>сотрудник</td>\n",
       "      <td>1</td>\n",
       "      <td>89672.561153</td>\n",
       "      <td>недвижимость</td>\n",
       "    </tr>\n",
       "    <tr>\n",
       "      <th>21523</th>\n",
       "      <td>3</td>\n",
       "      <td>-3112.481705</td>\n",
       "      <td>38</td>\n",
       "      <td>среднее</td>\n",
       "      <td>1</td>\n",
       "      <td>женат / замужем</td>\n",
       "      <td>0</td>\n",
       "      <td>M</td>\n",
       "      <td>сотрудник</td>\n",
       "      <td>1</td>\n",
       "      <td>244093.050500</td>\n",
       "      <td>на покупку своего автомобиля</td>\n",
       "    </tr>\n",
       "    <tr>\n",
       "      <th>21524</th>\n",
       "      <td>2</td>\n",
       "      <td>-1984.507589</td>\n",
       "      <td>40</td>\n",
       "      <td>среднее</td>\n",
       "      <td>1</td>\n",
       "      <td>женат / замужем</td>\n",
       "      <td>0</td>\n",
       "      <td>F</td>\n",
       "      <td>сотрудник</td>\n",
       "      <td>0</td>\n",
       "      <td>82047.418899</td>\n",
       "      <td>на покупку автомобиля</td>\n",
       "    </tr>\n",
       "  </tbody>\n",
       "</table>\n",
       "<p>21525 rows × 12 columns</p>\n",
       "</div>"
      ],
      "text/plain": [
       "       children  days_employed  dob_years education  education_id  \\\n",
       "0             1   -8437.673028         42    высшее             0   \n",
       "1             1   -4024.803754         36   среднее             1   \n",
       "2             0   -5623.422610         33   Среднее             1   \n",
       "3             3   -4124.747207         32   среднее             1   \n",
       "4             0  340266.072047         53   среднее             1   \n",
       "...         ...            ...        ...       ...           ...   \n",
       "21520         1   -4529.316663         43   среднее             1   \n",
       "21521         0  343937.404131         67   среднее             1   \n",
       "21522         1   -2113.346888         38   среднее             1   \n",
       "21523         3   -3112.481705         38   среднее             1   \n",
       "21524         2   -1984.507589         40   среднее             1   \n",
       "\n",
       "          family_status  family_status_id gender income_type  debt  \\\n",
       "0       женат / замужем                 0      F   сотрудник     0   \n",
       "1       женат / замужем                 0      F   сотрудник     0   \n",
       "2       женат / замужем                 0      M   сотрудник     0   \n",
       "3       женат / замужем                 0      M   сотрудник     0   \n",
       "4      гражданский брак                 1      F   пенсионер     0   \n",
       "...                 ...               ...    ...         ...   ...   \n",
       "21520  гражданский брак                 1      F   компаньон     0   \n",
       "21521   женат / замужем                 0      F   пенсионер     0   \n",
       "21522  гражданский брак                 1      M   сотрудник     1   \n",
       "21523   женат / замужем                 0      M   сотрудник     1   \n",
       "21524   женат / замужем                 0      F   сотрудник     0   \n",
       "\n",
       "        total_income                       purpose  \n",
       "0      253875.639453                 покупка жилья  \n",
       "1      112080.014102       приобретение автомобиля  \n",
       "2      145885.952297                 покупка жилья  \n",
       "3      267628.550329    дополнительное образование  \n",
       "4      158616.077870               сыграть свадьбу  \n",
       "...              ...                           ...  \n",
       "21520  224791.862382             операции с жильем  \n",
       "21521  155999.806512          сделка с автомобилем  \n",
       "21522   89672.561153                  недвижимость  \n",
       "21523  244093.050500  на покупку своего автомобиля  \n",
       "21524   82047.418899         на покупку автомобиля  \n",
       "\n",
       "[21525 rows x 12 columns]"
      ]
     },
     "metadata": {},
     "output_type": "display_data"
    }
   ],
   "source": [
    "display(data)#просмотр таблицы "
   ]
  },
  {
   "cell_type": "code",
   "execution_count": 55,
   "id": "c4f70b7b",
   "metadata": {},
   "outputs": [
    {
     "name": "stdout",
     "output_type": "stream",
     "text": [
      "<class 'pandas.core.frame.DataFrame'>\n",
      "RangeIndex: 21525 entries, 0 to 21524\n",
      "Data columns (total 12 columns):\n",
      " #   Column            Non-Null Count  Dtype  \n",
      "---  ------            --------------  -----  \n",
      " 0   children          21525 non-null  int64  \n",
      " 1   days_employed     19351 non-null  float64\n",
      " 2   dob_years         21525 non-null  int64  \n",
      " 3   education         21525 non-null  object \n",
      " 4   education_id      21525 non-null  int64  \n",
      " 5   family_status     21525 non-null  object \n",
      " 6   family_status_id  21525 non-null  int64  \n",
      " 7   gender            21525 non-null  object \n",
      " 8   income_type       21525 non-null  object \n",
      " 9   debt              21525 non-null  int64  \n",
      " 10  total_income      19351 non-null  float64\n",
      " 11  purpose           21525 non-null  object \n",
      "dtypes: float64(2), int64(5), object(5)\n",
      "memory usage: 2.0+ MB\n"
     ]
    }
   ],
   "source": [
    "data.info()#вызовем метод info для просмотра информации о датасете"
   ]
  },
  {
   "cell_type": "markdown",
   "id": "c4b7f0e8",
   "metadata": {},
   "source": [
    "Мы просмотрели всю информацию о датафрейме и убедились, что в каждом столбце находится верный тип значений"
   ]
  },
  {
   "cell_type": "markdown",
   "id": "9980112e",
   "metadata": {},
   "source": [
    "### Шаг 2.1 Заполнение пропусков"
   ]
  },
  {
   "cell_type": "code",
   "execution_count": 56,
   "id": "94da3897",
   "metadata": {},
   "outputs": [
    {
     "data": {
      "text/plain": [
       "children               0\n",
       "days_employed       2174\n",
       "dob_years              0\n",
       "education              0\n",
       "education_id           0\n",
       "family_status          0\n",
       "family_status_id       0\n",
       "gender                 0\n",
       "income_type            0\n",
       "debt                   0\n",
       "total_income        2174\n",
       "purpose                0\n",
       "dtype: int64"
      ]
     },
     "execution_count": 56,
     "metadata": {},
     "output_type": "execute_result"
    }
   ],
   "source": [
    "data.isna().sum()#найдем столбцы, где есть пропуски "
   ]
  },
  {
   "cell_type": "markdown",
   "id": "187b822b",
   "metadata": {},
   "source": [
    "Мы обнаружили, что в столбце `total_income` и `days_employed` есть пропуски. Эти переменные являются количественными. Так как количество пропусков в этих двуз стоблцах одинаковое, мы можем предположить, что у клиента не было ни одного трудового дня, соотвественно и доход также отсутствует."
   ]
  },
  {
   "cell_type": "markdown",
   "id": "be5b1e29",
   "metadata": {},
   "source": [
    "Узнаем долю пропущенных значений в столбцах `total_income` и `days_employed`:"
   ]
  },
  {
   "cell_type": "code",
   "execution_count": 57,
   "id": "3d7a9f53",
   "metadata": {},
   "outputs": [
    {
     "name": "stdout",
     "output_type": "stream",
     "text": [
      "Доля пропущенных значений в total_income составляет 10.1%\n"
     ]
    }
   ],
   "source": [
    "income_part = data['total_income'].isna().sum() / len(data['total_income'])#считаем  отношение пропущенных значений к длине всего столбца \n",
    "print(f'Доля пропущенных значений в total_income составляет {income_part:.1%}')"
   ]
  },
  {
   "cell_type": "code",
   "execution_count": 58,
   "id": "fbacc80e",
   "metadata": {},
   "outputs": [
    {
     "name": "stdout",
     "output_type": "stream",
     "text": [
      "Доля пропущенных значений в days_employed составляет 10.1%\n"
     ]
    }
   ],
   "source": [
    "days_part = data['days_employed'].isna().sum() / len(data['days_employed'])#считаем  отношение пропущенных значений к длине всего столбца \n",
    "print(f'Доля пропущенных значений в days_employed составляет {days_part:.1%}')"
   ]
  },
  {
   "cell_type": "markdown",
   "id": "a0fd4078",
   "metadata": {},
   "source": [
    "Получается, что доля пропущенных значений одинаковая - `10.1%`."
   ]
  },
  {
   "cell_type": "markdown",
   "id": "4c62f6a8",
   "metadata": {},
   "source": [
    "Теперь заменим пропущенные значения в `total_income` на медианное значение данного столбца. Лучше использовать медианное значение, чем среднее, так как тогда информация будет более объективная."
   ]
  },
  {
   "cell_type": "code",
   "execution_count": 59,
   "id": "9f6c1b39",
   "metadata": {},
   "outputs": [],
   "source": [
    "income_median = data['total_income'].median()#используем метод median\n",
    "data['total_income'] = data['total_income'].fillna(income_median)#заменим пропущенные значения "
   ]
  },
  {
   "cell_type": "markdown",
   "id": "ad3116d2",
   "metadata": {},
   "source": [
    "Теперь проверим остались ли пропуски в столбце `total_income`\n"
   ]
  },
  {
   "cell_type": "code",
   "execution_count": 60,
   "id": "64673629",
   "metadata": {},
   "outputs": [
    {
     "data": {
      "text/plain": [
       "children               0\n",
       "days_employed       2174\n",
       "dob_years              0\n",
       "education              0\n",
       "education_id           0\n",
       "family_status          0\n",
       "family_status_id       0\n",
       "gender                 0\n",
       "income_type            0\n",
       "debt                   0\n",
       "total_income           0\n",
       "purpose                0\n",
       "dtype: int64"
      ]
     },
     "execution_count": 60,
     "metadata": {},
     "output_type": "execute_result"
    }
   ],
   "source": [
    "data.isna().sum()"
   ]
  },
  {
   "cell_type": "markdown",
   "id": "0ec90f4d",
   "metadata": {},
   "source": [
    "Все верно, пропущенных значений в нужном столбце не осталось"
   ]
  },
  {
   "cell_type": "markdown",
   "id": "0fbbc17e",
   "metadata": {},
   "source": [
    "### Шаг 2.2 Проверка данных на аномалии и исправления."
   ]
  },
  {
   "cell_type": "markdown",
   "id": "07750ada",
   "metadata": {},
   "source": [
    "Мы уже увидели, что в столбце `days_employed` есть отрицательные значения. Но отрицательного количества дней трудового стажа быть не может, нужно это исправить"
   ]
  },
  {
   "cell_type": "code",
   "execution_count": 61,
   "id": "86042be3",
   "metadata": {},
   "outputs": [],
   "source": [
    "data['days_employed'] = abs(data['days_employed'])#применяем функцию модуля "
   ]
  },
  {
   "cell_type": "code",
   "execution_count": 62,
   "id": "be87da1c",
   "metadata": {
    "scrolled": true
   },
   "outputs": [
    {
     "data": {
      "text/html": [
       "<div>\n",
       "<style scoped>\n",
       "    .dataframe tbody tr th:only-of-type {\n",
       "        vertical-align: middle;\n",
       "    }\n",
       "\n",
       "    .dataframe tbody tr th {\n",
       "        vertical-align: top;\n",
       "    }\n",
       "\n",
       "    .dataframe thead th {\n",
       "        text-align: right;\n",
       "    }\n",
       "</style>\n",
       "<table border=\"1\" class=\"dataframe\">\n",
       "  <thead>\n",
       "    <tr style=\"text-align: right;\">\n",
       "      <th></th>\n",
       "      <th>children</th>\n",
       "      <th>days_employed</th>\n",
       "      <th>dob_years</th>\n",
       "      <th>education</th>\n",
       "      <th>education_id</th>\n",
       "      <th>family_status</th>\n",
       "      <th>family_status_id</th>\n",
       "      <th>gender</th>\n",
       "      <th>income_type</th>\n",
       "      <th>debt</th>\n",
       "      <th>total_income</th>\n",
       "      <th>purpose</th>\n",
       "    </tr>\n",
       "  </thead>\n",
       "  <tbody>\n",
       "    <tr>\n",
       "      <th>17437</th>\n",
       "      <td>1</td>\n",
       "      <td>24.141633</td>\n",
       "      <td>31</td>\n",
       "      <td>среднее</td>\n",
       "      <td>1</td>\n",
       "      <td>женат / замужем</td>\n",
       "      <td>0</td>\n",
       "      <td>F</td>\n",
       "      <td>сотрудник</td>\n",
       "      <td>1</td>\n",
       "      <td>166952.415427</td>\n",
       "      <td>высшее образование</td>\n",
       "    </tr>\n",
       "    <tr>\n",
       "      <th>8336</th>\n",
       "      <td>0</td>\n",
       "      <td>24.240695</td>\n",
       "      <td>32</td>\n",
       "      <td>высшее</td>\n",
       "      <td>0</td>\n",
       "      <td>Не женат / не замужем</td>\n",
       "      <td>4</td>\n",
       "      <td>M</td>\n",
       "      <td>сотрудник</td>\n",
       "      <td>0</td>\n",
       "      <td>124115.373655</td>\n",
       "      <td>получение дополнительного образования</td>\n",
       "    </tr>\n",
       "    <tr>\n",
       "      <th>6157</th>\n",
       "      <td>2</td>\n",
       "      <td>30.195337</td>\n",
       "      <td>47</td>\n",
       "      <td>среднее</td>\n",
       "      <td>1</td>\n",
       "      <td>гражданский брак</td>\n",
       "      <td>1</td>\n",
       "      <td>M</td>\n",
       "      <td>компаньон</td>\n",
       "      <td>0</td>\n",
       "      <td>231461.185606</td>\n",
       "      <td>свадьба</td>\n",
       "    </tr>\n",
       "    <tr>\n",
       "      <th>9683</th>\n",
       "      <td>0</td>\n",
       "      <td>33.520665</td>\n",
       "      <td>43</td>\n",
       "      <td>среднее</td>\n",
       "      <td>1</td>\n",
       "      <td>Не женат / не замужем</td>\n",
       "      <td>4</td>\n",
       "      <td>M</td>\n",
       "      <td>сотрудник</td>\n",
       "      <td>1</td>\n",
       "      <td>128555.897209</td>\n",
       "      <td>приобретение автомобиля</td>\n",
       "    </tr>\n",
       "    <tr>\n",
       "      <th>2127</th>\n",
       "      <td>1</td>\n",
       "      <td>34.701045</td>\n",
       "      <td>31</td>\n",
       "      <td>высшее</td>\n",
       "      <td>0</td>\n",
       "      <td>женат / замужем</td>\n",
       "      <td>0</td>\n",
       "      <td>F</td>\n",
       "      <td>компаньон</td>\n",
       "      <td>0</td>\n",
       "      <td>90557.994311</td>\n",
       "      <td>получение образования</td>\n",
       "    </tr>\n",
       "    <tr>\n",
       "      <th>...</th>\n",
       "      <td>...</td>\n",
       "      <td>...</td>\n",
       "      <td>...</td>\n",
       "      <td>...</td>\n",
       "      <td>...</td>\n",
       "      <td>...</td>\n",
       "      <td>...</td>\n",
       "      <td>...</td>\n",
       "      <td>...</td>\n",
       "      <td>...</td>\n",
       "      <td>...</td>\n",
       "      <td>...</td>\n",
       "    </tr>\n",
       "    <tr>\n",
       "      <th>21489</th>\n",
       "      <td>2</td>\n",
       "      <td>NaN</td>\n",
       "      <td>47</td>\n",
       "      <td>Среднее</td>\n",
       "      <td>1</td>\n",
       "      <td>женат / замужем</td>\n",
       "      <td>0</td>\n",
       "      <td>M</td>\n",
       "      <td>компаньон</td>\n",
       "      <td>0</td>\n",
       "      <td>145017.937533</td>\n",
       "      <td>сделка с автомобилем</td>\n",
       "    </tr>\n",
       "    <tr>\n",
       "      <th>21495</th>\n",
       "      <td>1</td>\n",
       "      <td>NaN</td>\n",
       "      <td>50</td>\n",
       "      <td>среднее</td>\n",
       "      <td>1</td>\n",
       "      <td>гражданский брак</td>\n",
       "      <td>1</td>\n",
       "      <td>F</td>\n",
       "      <td>сотрудник</td>\n",
       "      <td>0</td>\n",
       "      <td>145017.937533</td>\n",
       "      <td>свадьба</td>\n",
       "    </tr>\n",
       "    <tr>\n",
       "      <th>21497</th>\n",
       "      <td>0</td>\n",
       "      <td>NaN</td>\n",
       "      <td>48</td>\n",
       "      <td>ВЫСШЕЕ</td>\n",
       "      <td>0</td>\n",
       "      <td>женат / замужем</td>\n",
       "      <td>0</td>\n",
       "      <td>F</td>\n",
       "      <td>компаньон</td>\n",
       "      <td>0</td>\n",
       "      <td>145017.937533</td>\n",
       "      <td>строительство недвижимости</td>\n",
       "    </tr>\n",
       "    <tr>\n",
       "      <th>21502</th>\n",
       "      <td>1</td>\n",
       "      <td>NaN</td>\n",
       "      <td>42</td>\n",
       "      <td>среднее</td>\n",
       "      <td>1</td>\n",
       "      <td>женат / замужем</td>\n",
       "      <td>0</td>\n",
       "      <td>F</td>\n",
       "      <td>сотрудник</td>\n",
       "      <td>0</td>\n",
       "      <td>145017.937533</td>\n",
       "      <td>строительство жилой недвижимости</td>\n",
       "    </tr>\n",
       "    <tr>\n",
       "      <th>21510</th>\n",
       "      <td>2</td>\n",
       "      <td>NaN</td>\n",
       "      <td>28</td>\n",
       "      <td>среднее</td>\n",
       "      <td>1</td>\n",
       "      <td>женат / замужем</td>\n",
       "      <td>0</td>\n",
       "      <td>F</td>\n",
       "      <td>сотрудник</td>\n",
       "      <td>0</td>\n",
       "      <td>145017.937533</td>\n",
       "      <td>приобретение автомобиля</td>\n",
       "    </tr>\n",
       "  </tbody>\n",
       "</table>\n",
       "<p>21525 rows × 12 columns</p>\n",
       "</div>"
      ],
      "text/plain": [
       "       children  days_employed  dob_years education  education_id  \\\n",
       "17437         1      24.141633         31   среднее             1   \n",
       "8336          0      24.240695         32    высшее             0   \n",
       "6157          2      30.195337         47   среднее             1   \n",
       "9683          0      33.520665         43   среднее             1   \n",
       "2127          1      34.701045         31    высшее             0   \n",
       "...         ...            ...        ...       ...           ...   \n",
       "21489         2            NaN         47   Среднее             1   \n",
       "21495         1            NaN         50   среднее             1   \n",
       "21497         0            NaN         48    ВЫСШЕЕ             0   \n",
       "21502         1            NaN         42   среднее             1   \n",
       "21510         2            NaN         28   среднее             1   \n",
       "\n",
       "               family_status  family_status_id gender income_type  debt  \\\n",
       "17437        женат / замужем                 0      F   сотрудник     1   \n",
       "8336   Не женат / не замужем                 4      M   сотрудник     0   \n",
       "6157        гражданский брак                 1      M   компаньон     0   \n",
       "9683   Не женат / не замужем                 4      M   сотрудник     1   \n",
       "2127         женат / замужем                 0      F   компаньон     0   \n",
       "...                      ...               ...    ...         ...   ...   \n",
       "21489        женат / замужем                 0      M   компаньон     0   \n",
       "21495       гражданский брак                 1      F   сотрудник     0   \n",
       "21497        женат / замужем                 0      F   компаньон     0   \n",
       "21502        женат / замужем                 0      F   сотрудник     0   \n",
       "21510        женат / замужем                 0      F   сотрудник     0   \n",
       "\n",
       "        total_income                                purpose  \n",
       "17437  166952.415427                     высшее образование  \n",
       "8336   124115.373655  получение дополнительного образования  \n",
       "6157   231461.185606                                свадьба  \n",
       "9683   128555.897209                приобретение автомобиля  \n",
       "2127    90557.994311                  получение образования  \n",
       "...              ...                                    ...  \n",
       "21489  145017.937533                   сделка с автомобилем  \n",
       "21495  145017.937533                                свадьба  \n",
       "21497  145017.937533             строительство недвижимости  \n",
       "21502  145017.937533       строительство жилой недвижимости  \n",
       "21510  145017.937533                приобретение автомобиля  \n",
       "\n",
       "[21525 rows x 12 columns]"
      ]
     },
     "execution_count": 62,
     "metadata": {},
     "output_type": "execute_result"
    }
   ],
   "source": [
    "data.sort_values('days_employed')#проверим количество отрицательных дней стажа"
   ]
  },
  {
   "cell_type": "markdown",
   "id": "f2714275",
   "metadata": {},
   "source": [
    "Столбцов с отрицательным трудовым стажем не осталось "
   ]
  },
  {
   "cell_type": "code",
   "execution_count": 63,
   "id": "e50d4c76",
   "metadata": {
    "scrolled": true
   },
   "outputs": [
    {
     "data": {
      "text/html": [
       "<div>\n",
       "<style scoped>\n",
       "    .dataframe tbody tr th:only-of-type {\n",
       "        vertical-align: middle;\n",
       "    }\n",
       "\n",
       "    .dataframe tbody tr th {\n",
       "        vertical-align: top;\n",
       "    }\n",
       "\n",
       "    .dataframe thead th {\n",
       "        text-align: right;\n",
       "    }\n",
       "</style>\n",
       "<table border=\"1\" class=\"dataframe\">\n",
       "  <thead>\n",
       "    <tr style=\"text-align: right;\">\n",
       "      <th></th>\n",
       "      <th>children</th>\n",
       "      <th>days_employed</th>\n",
       "      <th>dob_years</th>\n",
       "      <th>education</th>\n",
       "      <th>education_id</th>\n",
       "      <th>family_status</th>\n",
       "      <th>family_status_id</th>\n",
       "      <th>gender</th>\n",
       "      <th>income_type</th>\n",
       "      <th>debt</th>\n",
       "      <th>total_income</th>\n",
       "      <th>purpose</th>\n",
       "    </tr>\n",
       "  </thead>\n",
       "  <tbody>\n",
       "    <tr>\n",
       "      <th>6954</th>\n",
       "      <td>0</td>\n",
       "      <td>401755.400475</td>\n",
       "      <td>56</td>\n",
       "      <td>среднее</td>\n",
       "      <td>1</td>\n",
       "      <td>вдовец / вдова</td>\n",
       "      <td>2</td>\n",
       "      <td>F</td>\n",
       "      <td>пенсионер</td>\n",
       "      <td>0</td>\n",
       "      <td>176278.441171</td>\n",
       "      <td>ремонт жилью</td>\n",
       "    </tr>\n",
       "    <tr>\n",
       "      <th>10006</th>\n",
       "      <td>0</td>\n",
       "      <td>401715.811749</td>\n",
       "      <td>69</td>\n",
       "      <td>высшее</td>\n",
       "      <td>0</td>\n",
       "      <td>Не женат / не замужем</td>\n",
       "      <td>4</td>\n",
       "      <td>F</td>\n",
       "      <td>пенсионер</td>\n",
       "      <td>0</td>\n",
       "      <td>57390.256908</td>\n",
       "      <td>получение образования</td>\n",
       "    </tr>\n",
       "    <tr>\n",
       "      <th>7664</th>\n",
       "      <td>1</td>\n",
       "      <td>401675.093434</td>\n",
       "      <td>61</td>\n",
       "      <td>среднее</td>\n",
       "      <td>1</td>\n",
       "      <td>женат / замужем</td>\n",
       "      <td>0</td>\n",
       "      <td>F</td>\n",
       "      <td>пенсионер</td>\n",
       "      <td>0</td>\n",
       "      <td>126214.519212</td>\n",
       "      <td>операции с жильем</td>\n",
       "    </tr>\n",
       "    <tr>\n",
       "      <th>2156</th>\n",
       "      <td>0</td>\n",
       "      <td>401674.466633</td>\n",
       "      <td>60</td>\n",
       "      <td>среднее</td>\n",
       "      <td>1</td>\n",
       "      <td>женат / замужем</td>\n",
       "      <td>0</td>\n",
       "      <td>M</td>\n",
       "      <td>пенсионер</td>\n",
       "      <td>0</td>\n",
       "      <td>325395.724541</td>\n",
       "      <td>автомобили</td>\n",
       "    </tr>\n",
       "    <tr>\n",
       "      <th>7794</th>\n",
       "      <td>0</td>\n",
       "      <td>401663.850046</td>\n",
       "      <td>61</td>\n",
       "      <td>среднее</td>\n",
       "      <td>1</td>\n",
       "      <td>гражданский брак</td>\n",
       "      <td>1</td>\n",
       "      <td>F</td>\n",
       "      <td>пенсионер</td>\n",
       "      <td>0</td>\n",
       "      <td>48286.441362</td>\n",
       "      <td>свадьба</td>\n",
       "    </tr>\n",
       "    <tr>\n",
       "      <th>...</th>\n",
       "      <td>...</td>\n",
       "      <td>...</td>\n",
       "      <td>...</td>\n",
       "      <td>...</td>\n",
       "      <td>...</td>\n",
       "      <td>...</td>\n",
       "      <td>...</td>\n",
       "      <td>...</td>\n",
       "      <td>...</td>\n",
       "      <td>...</td>\n",
       "      <td>...</td>\n",
       "      <td>...</td>\n",
       "    </tr>\n",
       "    <tr>\n",
       "      <th>21489</th>\n",
       "      <td>2</td>\n",
       "      <td>NaN</td>\n",
       "      <td>47</td>\n",
       "      <td>Среднее</td>\n",
       "      <td>1</td>\n",
       "      <td>женат / замужем</td>\n",
       "      <td>0</td>\n",
       "      <td>M</td>\n",
       "      <td>компаньон</td>\n",
       "      <td>0</td>\n",
       "      <td>145017.937533</td>\n",
       "      <td>сделка с автомобилем</td>\n",
       "    </tr>\n",
       "    <tr>\n",
       "      <th>21495</th>\n",
       "      <td>1</td>\n",
       "      <td>NaN</td>\n",
       "      <td>50</td>\n",
       "      <td>среднее</td>\n",
       "      <td>1</td>\n",
       "      <td>гражданский брак</td>\n",
       "      <td>1</td>\n",
       "      <td>F</td>\n",
       "      <td>сотрудник</td>\n",
       "      <td>0</td>\n",
       "      <td>145017.937533</td>\n",
       "      <td>свадьба</td>\n",
       "    </tr>\n",
       "    <tr>\n",
       "      <th>21497</th>\n",
       "      <td>0</td>\n",
       "      <td>NaN</td>\n",
       "      <td>48</td>\n",
       "      <td>ВЫСШЕЕ</td>\n",
       "      <td>0</td>\n",
       "      <td>женат / замужем</td>\n",
       "      <td>0</td>\n",
       "      <td>F</td>\n",
       "      <td>компаньон</td>\n",
       "      <td>0</td>\n",
       "      <td>145017.937533</td>\n",
       "      <td>строительство недвижимости</td>\n",
       "    </tr>\n",
       "    <tr>\n",
       "      <th>21502</th>\n",
       "      <td>1</td>\n",
       "      <td>NaN</td>\n",
       "      <td>42</td>\n",
       "      <td>среднее</td>\n",
       "      <td>1</td>\n",
       "      <td>женат / замужем</td>\n",
       "      <td>0</td>\n",
       "      <td>F</td>\n",
       "      <td>сотрудник</td>\n",
       "      <td>0</td>\n",
       "      <td>145017.937533</td>\n",
       "      <td>строительство жилой недвижимости</td>\n",
       "    </tr>\n",
       "    <tr>\n",
       "      <th>21510</th>\n",
       "      <td>2</td>\n",
       "      <td>NaN</td>\n",
       "      <td>28</td>\n",
       "      <td>среднее</td>\n",
       "      <td>1</td>\n",
       "      <td>женат / замужем</td>\n",
       "      <td>0</td>\n",
       "      <td>F</td>\n",
       "      <td>сотрудник</td>\n",
       "      <td>0</td>\n",
       "      <td>145017.937533</td>\n",
       "      <td>приобретение автомобиля</td>\n",
       "    </tr>\n",
       "  </tbody>\n",
       "</table>\n",
       "<p>21525 rows × 12 columns</p>\n",
       "</div>"
      ],
      "text/plain": [
       "       children  days_employed  dob_years education  education_id  \\\n",
       "6954          0  401755.400475         56   среднее             1   \n",
       "10006         0  401715.811749         69    высшее             0   \n",
       "7664          1  401675.093434         61   среднее             1   \n",
       "2156          0  401674.466633         60   среднее             1   \n",
       "7794          0  401663.850046         61   среднее             1   \n",
       "...         ...            ...        ...       ...           ...   \n",
       "21489         2            NaN         47   Среднее             1   \n",
       "21495         1            NaN         50   среднее             1   \n",
       "21497         0            NaN         48    ВЫСШЕЕ             0   \n",
       "21502         1            NaN         42   среднее             1   \n",
       "21510         2            NaN         28   среднее             1   \n",
       "\n",
       "               family_status  family_status_id gender income_type  debt  \\\n",
       "6954          вдовец / вдова                 2      F   пенсионер     0   \n",
       "10006  Не женат / не замужем                 4      F   пенсионер     0   \n",
       "7664         женат / замужем                 0      F   пенсионер     0   \n",
       "2156         женат / замужем                 0      M   пенсионер     0   \n",
       "7794        гражданский брак                 1      F   пенсионер     0   \n",
       "...                      ...               ...    ...         ...   ...   \n",
       "21489        женат / замужем                 0      M   компаньон     0   \n",
       "21495       гражданский брак                 1      F   сотрудник     0   \n",
       "21497        женат / замужем                 0      F   компаньон     0   \n",
       "21502        женат / замужем                 0      F   сотрудник     0   \n",
       "21510        женат / замужем                 0      F   сотрудник     0   \n",
       "\n",
       "        total_income                           purpose  \n",
       "6954   176278.441171                      ремонт жилью  \n",
       "10006   57390.256908             получение образования  \n",
       "7664   126214.519212                 операции с жильем  \n",
       "2156   325395.724541                        автомобили  \n",
       "7794    48286.441362                           свадьба  \n",
       "...              ...                               ...  \n",
       "21489  145017.937533              сделка с автомобилем  \n",
       "21495  145017.937533                           свадьба  \n",
       "21497  145017.937533        строительство недвижимости  \n",
       "21502  145017.937533  строительство жилой недвижимости  \n",
       "21510  145017.937533           приобретение автомобиля  \n",
       "\n",
       "[21525 rows x 12 columns]"
      ]
     },
     "execution_count": 63,
     "metadata": {},
     "output_type": "execute_result"
    }
   ],
   "source": [
    "data.sort_values('days_employed', ascending=False)#"
   ]
  },
  {
   "cell_type": "markdown",
   "id": "b632de89",
   "metadata": {},
   "source": [
    "Также мы видим аномально большие значения в `days_employed`. Например, 400 тысяч дней(это больше 1000 лет). Нужно оставить только реалистичную информацию"
   ]
  },
  {
   "cell_type": "code",
   "execution_count": 64,
   "id": "77628238",
   "metadata": {},
   "outputs": [],
   "source": [
    "days = data[data.loc[:, 'days_employed'] <= 50000]['days_employed']\n",
    "data.loc[data['days_employed'] > 50000, 'days_employed'] = days.median()\n",
    "#ставим порог в 50000 дней и большие значения заменяем медианой"
   ]
  },
  {
   "cell_type": "code",
   "execution_count": 65,
   "id": "d397b5e8",
   "metadata": {},
   "outputs": [
    {
     "data": {
      "text/html": [
       "<div>\n",
       "<style scoped>\n",
       "    .dataframe tbody tr th:only-of-type {\n",
       "        vertical-align: middle;\n",
       "    }\n",
       "\n",
       "    .dataframe tbody tr th {\n",
       "        vertical-align: top;\n",
       "    }\n",
       "\n",
       "    .dataframe thead th {\n",
       "        text-align: right;\n",
       "    }\n",
       "</style>\n",
       "<table border=\"1\" class=\"dataframe\">\n",
       "  <thead>\n",
       "    <tr style=\"text-align: right;\">\n",
       "      <th></th>\n",
       "      <th>children</th>\n",
       "      <th>days_employed</th>\n",
       "      <th>dob_years</th>\n",
       "      <th>education</th>\n",
       "      <th>education_id</th>\n",
       "      <th>family_status</th>\n",
       "      <th>family_status_id</th>\n",
       "      <th>gender</th>\n",
       "      <th>income_type</th>\n",
       "      <th>debt</th>\n",
       "      <th>total_income</th>\n",
       "      <th>purpose</th>\n",
       "    </tr>\n",
       "  </thead>\n",
       "  <tbody>\n",
       "    <tr>\n",
       "      <th>16335</th>\n",
       "      <td>1</td>\n",
       "      <td>18388.949901</td>\n",
       "      <td>61</td>\n",
       "      <td>среднее</td>\n",
       "      <td>1</td>\n",
       "      <td>женат / замужем</td>\n",
       "      <td>0</td>\n",
       "      <td>F</td>\n",
       "      <td>сотрудник</td>\n",
       "      <td>0</td>\n",
       "      <td>186178.934089</td>\n",
       "      <td>операции с недвижимостью</td>\n",
       "    </tr>\n",
       "    <tr>\n",
       "      <th>4299</th>\n",
       "      <td>0</td>\n",
       "      <td>17615.563266</td>\n",
       "      <td>61</td>\n",
       "      <td>среднее</td>\n",
       "      <td>1</td>\n",
       "      <td>женат / замужем</td>\n",
       "      <td>0</td>\n",
       "      <td>F</td>\n",
       "      <td>компаньон</td>\n",
       "      <td>0</td>\n",
       "      <td>122560.741753</td>\n",
       "      <td>покупка жилья</td>\n",
       "    </tr>\n",
       "    <tr>\n",
       "      <th>7329</th>\n",
       "      <td>0</td>\n",
       "      <td>16593.472817</td>\n",
       "      <td>60</td>\n",
       "      <td>высшее</td>\n",
       "      <td>0</td>\n",
       "      <td>женат / замужем</td>\n",
       "      <td>0</td>\n",
       "      <td>F</td>\n",
       "      <td>сотрудник</td>\n",
       "      <td>0</td>\n",
       "      <td>124697.846781</td>\n",
       "      <td>заняться высшим образованием</td>\n",
       "    </tr>\n",
       "    <tr>\n",
       "      <th>17838</th>\n",
       "      <td>0</td>\n",
       "      <td>16264.699501</td>\n",
       "      <td>59</td>\n",
       "      <td>среднее</td>\n",
       "      <td>1</td>\n",
       "      <td>женат / замужем</td>\n",
       "      <td>0</td>\n",
       "      <td>F</td>\n",
       "      <td>сотрудник</td>\n",
       "      <td>0</td>\n",
       "      <td>51238.967133</td>\n",
       "      <td>на покупку автомобиля</td>\n",
       "    </tr>\n",
       "    <tr>\n",
       "      <th>16825</th>\n",
       "      <td>0</td>\n",
       "      <td>16119.687737</td>\n",
       "      <td>64</td>\n",
       "      <td>среднее</td>\n",
       "      <td>1</td>\n",
       "      <td>женат / замужем</td>\n",
       "      <td>0</td>\n",
       "      <td>F</td>\n",
       "      <td>сотрудник</td>\n",
       "      <td>0</td>\n",
       "      <td>91527.685995</td>\n",
       "      <td>покупка жилой недвижимости</td>\n",
       "    </tr>\n",
       "    <tr>\n",
       "      <th>...</th>\n",
       "      <td>...</td>\n",
       "      <td>...</td>\n",
       "      <td>...</td>\n",
       "      <td>...</td>\n",
       "      <td>...</td>\n",
       "      <td>...</td>\n",
       "      <td>...</td>\n",
       "      <td>...</td>\n",
       "      <td>...</td>\n",
       "      <td>...</td>\n",
       "      <td>...</td>\n",
       "      <td>...</td>\n",
       "    </tr>\n",
       "    <tr>\n",
       "      <th>21489</th>\n",
       "      <td>2</td>\n",
       "      <td>NaN</td>\n",
       "      <td>47</td>\n",
       "      <td>Среднее</td>\n",
       "      <td>1</td>\n",
       "      <td>женат / замужем</td>\n",
       "      <td>0</td>\n",
       "      <td>M</td>\n",
       "      <td>компаньон</td>\n",
       "      <td>0</td>\n",
       "      <td>145017.937533</td>\n",
       "      <td>сделка с автомобилем</td>\n",
       "    </tr>\n",
       "    <tr>\n",
       "      <th>21495</th>\n",
       "      <td>1</td>\n",
       "      <td>NaN</td>\n",
       "      <td>50</td>\n",
       "      <td>среднее</td>\n",
       "      <td>1</td>\n",
       "      <td>гражданский брак</td>\n",
       "      <td>1</td>\n",
       "      <td>F</td>\n",
       "      <td>сотрудник</td>\n",
       "      <td>0</td>\n",
       "      <td>145017.937533</td>\n",
       "      <td>свадьба</td>\n",
       "    </tr>\n",
       "    <tr>\n",
       "      <th>21497</th>\n",
       "      <td>0</td>\n",
       "      <td>NaN</td>\n",
       "      <td>48</td>\n",
       "      <td>ВЫСШЕЕ</td>\n",
       "      <td>0</td>\n",
       "      <td>женат / замужем</td>\n",
       "      <td>0</td>\n",
       "      <td>F</td>\n",
       "      <td>компаньон</td>\n",
       "      <td>0</td>\n",
       "      <td>145017.937533</td>\n",
       "      <td>строительство недвижимости</td>\n",
       "    </tr>\n",
       "    <tr>\n",
       "      <th>21502</th>\n",
       "      <td>1</td>\n",
       "      <td>NaN</td>\n",
       "      <td>42</td>\n",
       "      <td>среднее</td>\n",
       "      <td>1</td>\n",
       "      <td>женат / замужем</td>\n",
       "      <td>0</td>\n",
       "      <td>F</td>\n",
       "      <td>сотрудник</td>\n",
       "      <td>0</td>\n",
       "      <td>145017.937533</td>\n",
       "      <td>строительство жилой недвижимости</td>\n",
       "    </tr>\n",
       "    <tr>\n",
       "      <th>21510</th>\n",
       "      <td>2</td>\n",
       "      <td>NaN</td>\n",
       "      <td>28</td>\n",
       "      <td>среднее</td>\n",
       "      <td>1</td>\n",
       "      <td>женат / замужем</td>\n",
       "      <td>0</td>\n",
       "      <td>F</td>\n",
       "      <td>сотрудник</td>\n",
       "      <td>0</td>\n",
       "      <td>145017.937533</td>\n",
       "      <td>приобретение автомобиля</td>\n",
       "    </tr>\n",
       "  </tbody>\n",
       "</table>\n",
       "<p>21525 rows × 12 columns</p>\n",
       "</div>"
      ],
      "text/plain": [
       "       children  days_employed  dob_years education  education_id  \\\n",
       "16335         1   18388.949901         61   среднее             1   \n",
       "4299          0   17615.563266         61   среднее             1   \n",
       "7329          0   16593.472817         60    высшее             0   \n",
       "17838         0   16264.699501         59   среднее             1   \n",
       "16825         0   16119.687737         64   среднее             1   \n",
       "...         ...            ...        ...       ...           ...   \n",
       "21489         2            NaN         47   Среднее             1   \n",
       "21495         1            NaN         50   среднее             1   \n",
       "21497         0            NaN         48    ВЫСШЕЕ             0   \n",
       "21502         1            NaN         42   среднее             1   \n",
       "21510         2            NaN         28   среднее             1   \n",
       "\n",
       "          family_status  family_status_id gender income_type  debt  \\\n",
       "16335   женат / замужем                 0      F   сотрудник     0   \n",
       "4299    женат / замужем                 0      F   компаньон     0   \n",
       "7329    женат / замужем                 0      F   сотрудник     0   \n",
       "17838   женат / замужем                 0      F   сотрудник     0   \n",
       "16825   женат / замужем                 0      F   сотрудник     0   \n",
       "...                 ...               ...    ...         ...   ...   \n",
       "21489   женат / замужем                 0      M   компаньон     0   \n",
       "21495  гражданский брак                 1      F   сотрудник     0   \n",
       "21497   женат / замужем                 0      F   компаньон     0   \n",
       "21502   женат / замужем                 0      F   сотрудник     0   \n",
       "21510   женат / замужем                 0      F   сотрудник     0   \n",
       "\n",
       "        total_income                           purpose  \n",
       "16335  186178.934089          операции с недвижимостью  \n",
       "4299   122560.741753                     покупка жилья  \n",
       "7329   124697.846781      заняться высшим образованием  \n",
       "17838   51238.967133             на покупку автомобиля  \n",
       "16825   91527.685995        покупка жилой недвижимости  \n",
       "...              ...                               ...  \n",
       "21489  145017.937533              сделка с автомобилем  \n",
       "21495  145017.937533                           свадьба  \n",
       "21497  145017.937533        строительство недвижимости  \n",
       "21502  145017.937533  строительство жилой недвижимости  \n",
       "21510  145017.937533           приобретение автомобиля  \n",
       "\n",
       "[21525 rows x 12 columns]"
      ]
     },
     "execution_count": 65,
     "metadata": {},
     "output_type": "execute_result"
    }
   ],
   "source": [
    "data.sort_values('days_employed', ascending=False)#проверим количество отрицательных дней стажа"
   ]
  },
  {
   "cell_type": "markdown",
   "id": "65b0abb0",
   "metadata": {},
   "source": [
    "Более того, в дальгнейшей работу обнаружилось, что в столбце `children` присутствуют отрицательные значения и слищком большие(например, 20 детей)"
   ]
  },
  {
   "cell_type": "code",
   "execution_count": 66,
   "id": "4375d78d",
   "metadata": {},
   "outputs": [],
   "source": [
    "data['children'] = abs(data['children'])#применяем функцию модуля ещё раз "
   ]
  },
  {
   "cell_type": "code",
   "execution_count": 67,
   "id": "ee0a1093",
   "metadata": {},
   "outputs": [],
   "source": [
    "children = data[data.loc[:, 'children'] <= 5]['children']\n",
    "data.loc[data['children'] > 5, 'children'] = children.median()\n",
    "#ставим порог в 5 детей и большие значения заменяем медианой"
   ]
  },
  {
   "cell_type": "markdown",
   "id": "08eca79e",
   "metadata": {},
   "source": [
    "Мы избавились от аномалий в датасете, удалив слишком большие и отрицательные значения"
   ]
  },
  {
   "cell_type": "code",
   "execution_count": 68,
   "id": "37d67d7c",
   "metadata": {},
   "outputs": [
    {
     "data": {
      "text/plain": [
       "F    14236\n",
       "M     7288\n",
       "Name: gender, dtype: int64"
      ]
     },
     "execution_count": 68,
     "metadata": {},
     "output_type": "execute_result"
    }
   ],
   "source": [
    "#проверим на аномалии столбец gender\n",
    "data = data.query('gender != \"XNA\"')\n",
    "data['gender'].value_counts()"
   ]
  },
  {
   "cell_type": "code",
   "execution_count": 69,
   "id": "5c1c2b4f",
   "metadata": {},
   "outputs": [],
   "source": [
    "#теперь столбец dob years\n",
    "data['dob_years'].value_counts()\n",
    "\n",
    "#заменим значения 0 на медианное\n",
    "data['dob_years'] = data['dob_years'].replace(0, data['dob_years'].median())"
   ]
  },
  {
   "cell_type": "markdown",
   "id": "0a88aedb",
   "metadata": {},
   "source": [
    "### Шаг 2.3. Изменение типов данных."
   ]
  },
  {
   "cell_type": "code",
   "execution_count": 70,
   "id": "94112413",
   "metadata": {},
   "outputs": [
    {
     "name": "stdout",
     "output_type": "stream",
     "text": [
      "<class 'pandas.core.frame.DataFrame'>\n",
      "Int64Index: 21524 entries, 0 to 21524\n",
      "Data columns (total 12 columns):\n",
      " #   Column            Non-Null Count  Dtype  \n",
      "---  ------            --------------  -----  \n",
      " 0   children          21524 non-null  int64  \n",
      " 1   days_employed     19350 non-null  float64\n",
      " 2   dob_years         21524 non-null  int64  \n",
      " 3   education         21524 non-null  object \n",
      " 4   education_id      21524 non-null  int64  \n",
      " 5   family_status     21524 non-null  object \n",
      " 6   family_status_id  21524 non-null  int64  \n",
      " 7   gender            21524 non-null  object \n",
      " 8   income_type       21524 non-null  object \n",
      " 9   debt              21524 non-null  int64  \n",
      " 10  total_income      21524 non-null  float64\n",
      " 11  purpose           21524 non-null  object \n",
      "dtypes: float64(2), int64(5), object(5)\n",
      "memory usage: 2.1+ MB\n"
     ]
    }
   ],
   "source": [
    "data.info()#еще раз вызываем метод info() и смотрим на тип данных в total_income"
   ]
  },
  {
   "cell_type": "markdown",
   "id": "bbb0f2c1",
   "metadata": {},
   "source": [
    "Заменим вещественный тип данных на целочисленный в этом столбце"
   ]
  },
  {
   "cell_type": "code",
   "execution_count": 71,
   "id": "58ffecdd",
   "metadata": {},
   "outputs": [],
   "source": [
    "data['total_income'] = data['total_income'].astype('int')#применяем метод astype"
   ]
  },
  {
   "cell_type": "code",
   "execution_count": 72,
   "id": "9a645264",
   "metadata": {},
   "outputs": [
    {
     "name": "stdout",
     "output_type": "stream",
     "text": [
      "<class 'pandas.core.frame.DataFrame'>\n",
      "Int64Index: 21524 entries, 0 to 21524\n",
      "Data columns (total 12 columns):\n",
      " #   Column            Non-Null Count  Dtype  \n",
      "---  ------            --------------  -----  \n",
      " 0   children          21524 non-null  int64  \n",
      " 1   days_employed     19350 non-null  float64\n",
      " 2   dob_years         21524 non-null  int64  \n",
      " 3   education         21524 non-null  object \n",
      " 4   education_id      21524 non-null  int64  \n",
      " 5   family_status     21524 non-null  object \n",
      " 6   family_status_id  21524 non-null  int64  \n",
      " 7   gender            21524 non-null  object \n",
      " 8   income_type       21524 non-null  object \n",
      " 9   debt              21524 non-null  int64  \n",
      " 10  total_income      21524 non-null  int64  \n",
      " 11  purpose           21524 non-null  object \n",
      "dtypes: float64(1), int64(6), object(5)\n",
      "memory usage: 2.1+ MB\n"
     ]
    }
   ],
   "source": [
    "data.info()"
   ]
  },
  {
   "cell_type": "markdown",
   "id": "031baee7",
   "metadata": {},
   "source": [
    "Все верно, тип данных стал верным."
   ]
  },
  {
   "cell_type": "markdown",
   "id": "f4eecba4",
   "metadata": {},
   "source": [
    "### Шаг 2.4. Удаление дубликатов."
   ]
  },
  {
   "cell_type": "code",
   "execution_count": 73,
   "id": "341db6f6",
   "metadata": {},
   "outputs": [
    {
     "data": {
      "text/html": [
       "<div>\n",
       "<style scoped>\n",
       "    .dataframe tbody tr th:only-of-type {\n",
       "        vertical-align: middle;\n",
       "    }\n",
       "\n",
       "    .dataframe tbody tr th {\n",
       "        vertical-align: top;\n",
       "    }\n",
       "\n",
       "    .dataframe thead th {\n",
       "        text-align: right;\n",
       "    }\n",
       "</style>\n",
       "<table border=\"1\" class=\"dataframe\">\n",
       "  <thead>\n",
       "    <tr style=\"text-align: right;\">\n",
       "      <th></th>\n",
       "      <th>children</th>\n",
       "      <th>days_employed</th>\n",
       "      <th>dob_years</th>\n",
       "      <th>education</th>\n",
       "      <th>education_id</th>\n",
       "      <th>family_status</th>\n",
       "      <th>family_status_id</th>\n",
       "      <th>gender</th>\n",
       "      <th>income_type</th>\n",
       "      <th>debt</th>\n",
       "      <th>total_income</th>\n",
       "      <th>purpose</th>\n",
       "    </tr>\n",
       "  </thead>\n",
       "  <tbody>\n",
       "    <tr>\n",
       "      <th>0</th>\n",
       "      <td>1</td>\n",
       "      <td>8437.673028</td>\n",
       "      <td>42</td>\n",
       "      <td>высшее</td>\n",
       "      <td>0</td>\n",
       "      <td>женат / замужем</td>\n",
       "      <td>0</td>\n",
       "      <td>F</td>\n",
       "      <td>сотрудник</td>\n",
       "      <td>0</td>\n",
       "      <td>253875</td>\n",
       "      <td>покупка жилья</td>\n",
       "    </tr>\n",
       "    <tr>\n",
       "      <th>1</th>\n",
       "      <td>1</td>\n",
       "      <td>4024.803754</td>\n",
       "      <td>36</td>\n",
       "      <td>среднее</td>\n",
       "      <td>1</td>\n",
       "      <td>женат / замужем</td>\n",
       "      <td>0</td>\n",
       "      <td>F</td>\n",
       "      <td>сотрудник</td>\n",
       "      <td>0</td>\n",
       "      <td>112080</td>\n",
       "      <td>приобретение автомобиля</td>\n",
       "    </tr>\n",
       "    <tr>\n",
       "      <th>2</th>\n",
       "      <td>0</td>\n",
       "      <td>5623.422610</td>\n",
       "      <td>33</td>\n",
       "      <td>Среднее</td>\n",
       "      <td>1</td>\n",
       "      <td>женат / замужем</td>\n",
       "      <td>0</td>\n",
       "      <td>M</td>\n",
       "      <td>сотрудник</td>\n",
       "      <td>0</td>\n",
       "      <td>145885</td>\n",
       "      <td>покупка жилья</td>\n",
       "    </tr>\n",
       "    <tr>\n",
       "      <th>3</th>\n",
       "      <td>3</td>\n",
       "      <td>4124.747207</td>\n",
       "      <td>32</td>\n",
       "      <td>среднее</td>\n",
       "      <td>1</td>\n",
       "      <td>женат / замужем</td>\n",
       "      <td>0</td>\n",
       "      <td>M</td>\n",
       "      <td>сотрудник</td>\n",
       "      <td>0</td>\n",
       "      <td>267628</td>\n",
       "      <td>дополнительное образование</td>\n",
       "    </tr>\n",
       "    <tr>\n",
       "      <th>4</th>\n",
       "      <td>0</td>\n",
       "      <td>1630.019381</td>\n",
       "      <td>53</td>\n",
       "      <td>среднее</td>\n",
       "      <td>1</td>\n",
       "      <td>гражданский брак</td>\n",
       "      <td>1</td>\n",
       "      <td>F</td>\n",
       "      <td>пенсионер</td>\n",
       "      <td>0</td>\n",
       "      <td>158616</td>\n",
       "      <td>сыграть свадьбу</td>\n",
       "    </tr>\n",
       "    <tr>\n",
       "      <th>5</th>\n",
       "      <td>0</td>\n",
       "      <td>926.185831</td>\n",
       "      <td>27</td>\n",
       "      <td>высшее</td>\n",
       "      <td>0</td>\n",
       "      <td>гражданский брак</td>\n",
       "      <td>1</td>\n",
       "      <td>M</td>\n",
       "      <td>компаньон</td>\n",
       "      <td>0</td>\n",
       "      <td>255763</td>\n",
       "      <td>покупка жилья</td>\n",
       "    </tr>\n",
       "    <tr>\n",
       "      <th>6</th>\n",
       "      <td>0</td>\n",
       "      <td>2879.202052</td>\n",
       "      <td>43</td>\n",
       "      <td>высшее</td>\n",
       "      <td>0</td>\n",
       "      <td>женат / замужем</td>\n",
       "      <td>0</td>\n",
       "      <td>F</td>\n",
       "      <td>компаньон</td>\n",
       "      <td>0</td>\n",
       "      <td>240525</td>\n",
       "      <td>операции с жильем</td>\n",
       "    </tr>\n",
       "    <tr>\n",
       "      <th>7</th>\n",
       "      <td>0</td>\n",
       "      <td>152.779569</td>\n",
       "      <td>50</td>\n",
       "      <td>СРЕДНЕЕ</td>\n",
       "      <td>1</td>\n",
       "      <td>женат / замужем</td>\n",
       "      <td>0</td>\n",
       "      <td>M</td>\n",
       "      <td>сотрудник</td>\n",
       "      <td>0</td>\n",
       "      <td>135823</td>\n",
       "      <td>образование</td>\n",
       "    </tr>\n",
       "    <tr>\n",
       "      <th>8</th>\n",
       "      <td>2</td>\n",
       "      <td>6929.865299</td>\n",
       "      <td>35</td>\n",
       "      <td>ВЫСШЕЕ</td>\n",
       "      <td>0</td>\n",
       "      <td>гражданский брак</td>\n",
       "      <td>1</td>\n",
       "      <td>F</td>\n",
       "      <td>сотрудник</td>\n",
       "      <td>0</td>\n",
       "      <td>95856</td>\n",
       "      <td>на проведение свадьбы</td>\n",
       "    </tr>\n",
       "    <tr>\n",
       "      <th>9</th>\n",
       "      <td>0</td>\n",
       "      <td>2188.756445</td>\n",
       "      <td>41</td>\n",
       "      <td>среднее</td>\n",
       "      <td>1</td>\n",
       "      <td>женат / замужем</td>\n",
       "      <td>0</td>\n",
       "      <td>M</td>\n",
       "      <td>сотрудник</td>\n",
       "      <td>0</td>\n",
       "      <td>144425</td>\n",
       "      <td>покупка жилья для семьи</td>\n",
       "    </tr>\n",
       "  </tbody>\n",
       "</table>\n",
       "</div>"
      ],
      "text/plain": [
       "   children  days_employed  dob_years education  education_id  \\\n",
       "0         1    8437.673028         42    высшее             0   \n",
       "1         1    4024.803754         36   среднее             1   \n",
       "2         0    5623.422610         33   Среднее             1   \n",
       "3         3    4124.747207         32   среднее             1   \n",
       "4         0    1630.019381         53   среднее             1   \n",
       "5         0     926.185831         27    высшее             0   \n",
       "6         0    2879.202052         43    высшее             0   \n",
       "7         0     152.779569         50   СРЕДНЕЕ             1   \n",
       "8         2    6929.865299         35    ВЫСШЕЕ             0   \n",
       "9         0    2188.756445         41   среднее             1   \n",
       "\n",
       "      family_status  family_status_id gender income_type  debt  total_income  \\\n",
       "0   женат / замужем                 0      F   сотрудник     0        253875   \n",
       "1   женат / замужем                 0      F   сотрудник     0        112080   \n",
       "2   женат / замужем                 0      M   сотрудник     0        145885   \n",
       "3   женат / замужем                 0      M   сотрудник     0        267628   \n",
       "4  гражданский брак                 1      F   пенсионер     0        158616   \n",
       "5  гражданский брак                 1      M   компаньон     0        255763   \n",
       "6   женат / замужем                 0      F   компаньон     0        240525   \n",
       "7   женат / замужем                 0      M   сотрудник     0        135823   \n",
       "8  гражданский брак                 1      F   сотрудник     0         95856   \n",
       "9   женат / замужем                 0      M   сотрудник     0        144425   \n",
       "\n",
       "                      purpose  \n",
       "0               покупка жилья  \n",
       "1     приобретение автомобиля  \n",
       "2               покупка жилья  \n",
       "3  дополнительное образование  \n",
       "4             сыграть свадьбу  \n",
       "5               покупка жилья  \n",
       "6           операции с жильем  \n",
       "7                 образование  \n",
       "8       на проведение свадьбы  \n",
       "9     покупка жилья для семьи  "
      ]
     },
     "execution_count": 73,
     "metadata": {},
     "output_type": "execute_result"
    }
   ],
   "source": [
    "data.head(10)#выведем ещё раз первые 10 строк датасета"
   ]
  },
  {
   "cell_type": "code",
   "execution_count": 74,
   "id": "456b3fab",
   "metadata": {},
   "outputs": [
    {
     "data": {
      "text/plain": [
       "55"
      ]
     },
     "execution_count": 74,
     "metadata": {},
     "output_type": "execute_result"
    }
   ],
   "source": [
    "data.duplicated().sum()#найдём количество явных дубликатов"
   ]
  },
  {
   "cell_type": "code",
   "execution_count": 75,
   "id": "9de30e68",
   "metadata": {},
   "outputs": [
    {
     "data": {
      "text/plain": [
       "0"
      ]
     },
     "execution_count": 75,
     "metadata": {},
     "output_type": "execute_result"
    }
   ],
   "source": [
    "data = data.drop_duplicates().reset_index(drop=True)#удаляем явные дубликаты с новыми индексами\n",
    "data.duplicated().sum()"
   ]
  },
  {
   "cell_type": "markdown",
   "id": "1c59c10e",
   "metadata": {},
   "source": [
    "Мы удалили явные дубликаты. Теперь нужно удалить дубликаты с учетом регистра"
   ]
  },
  {
   "cell_type": "code",
   "execution_count": 76,
   "id": "6bc265da",
   "metadata": {},
   "outputs": [],
   "source": [
    "data['education'] = data['education'].str.lower()\n",
    "data['family_status'] = data['family_status'].str.lower()\n",
    "data['gender'] = data['gender'].str.lower()\n",
    "data['income_type'] = data['income_type'].str.lower()\n",
    "data['purpose'] = data['purpose'].str.lower()#делаем нижний регистр во всех столбцах, где есть строчные буквы, перезаписав их"
   ]
  },
  {
   "cell_type": "code",
   "execution_count": 77,
   "id": "b53bd0f2",
   "metadata": {},
   "outputs": [],
   "source": [
    "data = data.drop_duplicates().reset_index(drop=True)#удаляем дубликаты в данных столбцах"
   ]
  },
  {
   "cell_type": "markdown",
   "id": "e6d52e88",
   "metadata": {},
   "source": [
    "Мы удалили все возможные дубликаты. Теперь проверим нашу работу для каждого из взятых столбцов методом `value_counts`"
   ]
  },
  {
   "cell_type": "code",
   "execution_count": 78,
   "id": "5bbe1da2",
   "metadata": {},
   "outputs": [
    {
     "data": {
      "text/plain": [
       "среднее                15171\n",
       "высшее                  5250\n",
       "неоконченное высшее      743\n",
       "начальное                282\n",
       "ученая степень             6\n",
       "Name: education, dtype: int64"
      ]
     },
     "execution_count": 78,
     "metadata": {},
     "output_type": "execute_result"
    }
   ],
   "source": [
    "data['education'].value_counts()"
   ]
  },
  {
   "cell_type": "code",
   "execution_count": 79,
   "id": "478c2c8e",
   "metadata": {},
   "outputs": [
    {
     "data": {
      "text/plain": [
       "женат / замужем          12339\n",
       "гражданский брак          4149\n",
       "не женат / не замужем     2810\n",
       "в разводе                 1195\n",
       "вдовец / вдова             959\n",
       "Name: family_status, dtype: int64"
      ]
     },
     "execution_count": 79,
     "metadata": {},
     "output_type": "execute_result"
    }
   ],
   "source": [
    "data['family_status'].value_counts()"
   ]
  },
  {
   "cell_type": "code",
   "execution_count": 80,
   "id": "ba1c9e01",
   "metadata": {},
   "outputs": [
    {
     "data": {
      "text/plain": [
       "f    14173\n",
       "m     7279\n",
       "Name: gender, dtype: int64"
      ]
     },
     "execution_count": 80,
     "metadata": {},
     "output_type": "execute_result"
    }
   ],
   "source": [
    "data['gender'].value_counts()"
   ]
  },
  {
   "cell_type": "code",
   "execution_count": 81,
   "id": "4d465a41",
   "metadata": {},
   "outputs": [
    {
     "data": {
      "text/plain": [
       "сотрудник          11083\n",
       "компаньон           5077\n",
       "пенсионер           3829\n",
       "госслужащий         1457\n",
       "безработный            2\n",
       "предприниматель        2\n",
       "студент                1\n",
       "в декрете              1\n",
       "Name: income_type, dtype: int64"
      ]
     },
     "execution_count": 81,
     "metadata": {},
     "output_type": "execute_result"
    }
   ],
   "source": [
    "data['income_type'].value_counts()"
   ]
  },
  {
   "cell_type": "code",
   "execution_count": 82,
   "id": "a889b0e0",
   "metadata": {},
   "outputs": [
    {
     "data": {
      "text/plain": [
       "свадьба                                   791\n",
       "на проведение свадьбы                     767\n",
       "сыграть свадьбу                           765\n",
       "операции с недвижимостью                  675\n",
       "покупка коммерческой недвижимости         661\n",
       "операции с жильем                         652\n",
       "покупка жилья для сдачи                   651\n",
       "операции с коммерческой недвижимостью     650\n",
       "покупка жилья                             646\n",
       "жилье                                     646\n",
       "покупка жилья для семьи                   638\n",
       "строительство собственной недвижимости    635\n",
       "недвижимость                              633\n",
       "операции со своей недвижимостью           627\n",
       "строительство жилой недвижимости          624\n",
       "покупка недвижимости                      620\n",
       "покупка своего жилья                      620\n",
       "строительство недвижимости                619\n",
       "ремонт жилью                              607\n",
       "покупка жилой недвижимости                606\n",
       "на покупку своего автомобиля              505\n",
       "заняться высшим образованием              496\n",
       "автомобиль                                494\n",
       "сделка с подержанным автомобилем          486\n",
       "свой автомобиль                           478\n",
       "на покупку подержанного автомобиля        478\n",
       "автомобили                                478\n",
       "на покупку автомобиля                     471\n",
       "приобретение автомобиля                   461\n",
       "дополнительное образование                460\n",
       "сделка с автомобилем                      455\n",
       "высшее образование                        452\n",
       "образование                               447\n",
       "получение дополнительного образования     446\n",
       "получение образования                     442\n",
       "профильное образование                    436\n",
       "получение высшего образования             426\n",
       "заняться образованием                     408\n",
       "Name: purpose, dtype: int64"
      ]
     },
     "execution_count": 82,
     "metadata": {},
     "output_type": "execute_result"
    }
   ],
   "source": [
    "data['purpose'].value_counts()"
   ]
  },
  {
   "cell_type": "markdown",
   "id": "458ae2a9",
   "metadata": {},
   "source": [
    "Мы удалили сначала явные дубликаты, затем все дубликаты, приведенные к нижнему регистру. В итоге мы видим, что дубликатов в столбцах не осталось\n",
    "\n",
    "Такие дубликаты чаще всего могут появляться при заполнение данных сотрудниками, которые могут \"не заметить\" такие опечатки\n",
    "\n"
   ]
  },
  {
   "cell_type": "markdown",
   "id": "c807fafe",
   "metadata": {},
   "source": [
    "### Шаг 2.5. Формирование дополнительных датафреймов словарей, декомпозиция исходного датафрейма."
   ]
  },
  {
   "cell_type": "code",
   "execution_count": 83,
   "id": "15a422f3",
   "metadata": {},
   "outputs": [
    {
     "data": {
      "text/html": [
       "<div>\n",
       "<style scoped>\n",
       "    .dataframe tbody tr th:only-of-type {\n",
       "        vertical-align: middle;\n",
       "    }\n",
       "\n",
       "    .dataframe tbody tr th {\n",
       "        vertical-align: top;\n",
       "    }\n",
       "\n",
       "    .dataframe thead th {\n",
       "        text-align: right;\n",
       "    }\n",
       "</style>\n",
       "<table border=\"1\" class=\"dataframe\">\n",
       "  <thead>\n",
       "    <tr style=\"text-align: right;\">\n",
       "      <th></th>\n",
       "      <th>education_id</th>\n",
       "    </tr>\n",
       "    <tr>\n",
       "      <th>education</th>\n",
       "      <th></th>\n",
       "    </tr>\n",
       "  </thead>\n",
       "  <tbody>\n",
       "    <tr>\n",
       "      <th>высшее</th>\n",
       "      <td>0</td>\n",
       "    </tr>\n",
       "    <tr>\n",
       "      <th>начальное</th>\n",
       "      <td>3</td>\n",
       "    </tr>\n",
       "    <tr>\n",
       "      <th>неоконченное высшее</th>\n",
       "      <td>2</td>\n",
       "    </tr>\n",
       "    <tr>\n",
       "      <th>среднее</th>\n",
       "      <td>1</td>\n",
       "    </tr>\n",
       "    <tr>\n",
       "      <th>ученая степень</th>\n",
       "      <td>4</td>\n",
       "    </tr>\n",
       "  </tbody>\n",
       "</table>\n",
       "</div>"
      ],
      "text/plain": [
       "                     education_id\n",
       "education                        \n",
       "высшее                          0\n",
       "начальное                       3\n",
       "неоконченное высшее             2\n",
       "среднее                         1\n",
       "ученая степень                  4"
      ]
     },
     "metadata": {},
     "output_type": "display_data"
    }
   ],
   "source": [
    "data_education = data.pivot_table(index='education', values='education_id')\n",
    "display(data_education)#создаёем первый датафрейм по education"
   ]
  },
  {
   "cell_type": "code",
   "execution_count": 84,
   "id": "101357f4",
   "metadata": {},
   "outputs": [
    {
     "data": {
      "text/html": [
       "<div>\n",
       "<style scoped>\n",
       "    .dataframe tbody tr th:only-of-type {\n",
       "        vertical-align: middle;\n",
       "    }\n",
       "\n",
       "    .dataframe tbody tr th {\n",
       "        vertical-align: top;\n",
       "    }\n",
       "\n",
       "    .dataframe thead th {\n",
       "        text-align: right;\n",
       "    }\n",
       "</style>\n",
       "<table border=\"1\" class=\"dataframe\">\n",
       "  <thead>\n",
       "    <tr style=\"text-align: right;\">\n",
       "      <th></th>\n",
       "      <th>family_status_id</th>\n",
       "    </tr>\n",
       "    <tr>\n",
       "      <th>family_status</th>\n",
       "      <th></th>\n",
       "    </tr>\n",
       "  </thead>\n",
       "  <tbody>\n",
       "    <tr>\n",
       "      <th>в разводе</th>\n",
       "      <td>3</td>\n",
       "    </tr>\n",
       "    <tr>\n",
       "      <th>вдовец / вдова</th>\n",
       "      <td>2</td>\n",
       "    </tr>\n",
       "    <tr>\n",
       "      <th>гражданский брак</th>\n",
       "      <td>1</td>\n",
       "    </tr>\n",
       "    <tr>\n",
       "      <th>женат / замужем</th>\n",
       "      <td>0</td>\n",
       "    </tr>\n",
       "    <tr>\n",
       "      <th>не женат / не замужем</th>\n",
       "      <td>4</td>\n",
       "    </tr>\n",
       "  </tbody>\n",
       "</table>\n",
       "</div>"
      ],
      "text/plain": [
       "                       family_status_id\n",
       "family_status                          \n",
       "в разводе                             3\n",
       "вдовец / вдова                        2\n",
       "гражданский брак                      1\n",
       "женат / замужем                       0\n",
       "не женат / не замужем                 4"
      ]
     },
     "metadata": {},
     "output_type": "display_data"
    }
   ],
   "source": [
    "data_family = data.pivot_table(index='family_status', values='family_status_id')\n",
    "data_family['family_status_id'] = data_family['family_status_id'].astype('int')\n",
    "display(data_family)#создаем второй датафрейм по family_status"
   ]
  },
  {
   "cell_type": "code",
   "execution_count": 85,
   "id": "de69a281",
   "metadata": {},
   "outputs": [
    {
     "data": {
      "text/html": [
       "<div>\n",
       "<style scoped>\n",
       "    .dataframe tbody tr th:only-of-type {\n",
       "        vertical-align: middle;\n",
       "    }\n",
       "\n",
       "    .dataframe tbody tr th {\n",
       "        vertical-align: top;\n",
       "    }\n",
       "\n",
       "    .dataframe thead th {\n",
       "        text-align: right;\n",
       "    }\n",
       "</style>\n",
       "<table border=\"1\" class=\"dataframe\">\n",
       "  <thead>\n",
       "    <tr style=\"text-align: right;\">\n",
       "      <th></th>\n",
       "      <th>children</th>\n",
       "      <th>days_employed</th>\n",
       "      <th>dob_years</th>\n",
       "      <th>education_id</th>\n",
       "      <th>family_status_id</th>\n",
       "      <th>gender</th>\n",
       "      <th>income_type</th>\n",
       "      <th>debt</th>\n",
       "      <th>total_income</th>\n",
       "      <th>purpose</th>\n",
       "    </tr>\n",
       "  </thead>\n",
       "  <tbody>\n",
       "    <tr>\n",
       "      <th>0</th>\n",
       "      <td>1</td>\n",
       "      <td>8437.673028</td>\n",
       "      <td>42</td>\n",
       "      <td>0</td>\n",
       "      <td>0</td>\n",
       "      <td>f</td>\n",
       "      <td>сотрудник</td>\n",
       "      <td>0</td>\n",
       "      <td>253875</td>\n",
       "      <td>покупка жилья</td>\n",
       "    </tr>\n",
       "    <tr>\n",
       "      <th>1</th>\n",
       "      <td>1</td>\n",
       "      <td>4024.803754</td>\n",
       "      <td>36</td>\n",
       "      <td>1</td>\n",
       "      <td>0</td>\n",
       "      <td>f</td>\n",
       "      <td>сотрудник</td>\n",
       "      <td>0</td>\n",
       "      <td>112080</td>\n",
       "      <td>приобретение автомобиля</td>\n",
       "    </tr>\n",
       "    <tr>\n",
       "      <th>2</th>\n",
       "      <td>0</td>\n",
       "      <td>5623.422610</td>\n",
       "      <td>33</td>\n",
       "      <td>1</td>\n",
       "      <td>0</td>\n",
       "      <td>m</td>\n",
       "      <td>сотрудник</td>\n",
       "      <td>0</td>\n",
       "      <td>145885</td>\n",
       "      <td>покупка жилья</td>\n",
       "    </tr>\n",
       "    <tr>\n",
       "      <th>3</th>\n",
       "      <td>3</td>\n",
       "      <td>4124.747207</td>\n",
       "      <td>32</td>\n",
       "      <td>1</td>\n",
       "      <td>0</td>\n",
       "      <td>m</td>\n",
       "      <td>сотрудник</td>\n",
       "      <td>0</td>\n",
       "      <td>267628</td>\n",
       "      <td>дополнительное образование</td>\n",
       "    </tr>\n",
       "    <tr>\n",
       "      <th>4</th>\n",
       "      <td>0</td>\n",
       "      <td>1630.019381</td>\n",
       "      <td>53</td>\n",
       "      <td>1</td>\n",
       "      <td>1</td>\n",
       "      <td>f</td>\n",
       "      <td>пенсионер</td>\n",
       "      <td>0</td>\n",
       "      <td>158616</td>\n",
       "      <td>сыграть свадьбу</td>\n",
       "    </tr>\n",
       "    <tr>\n",
       "      <th>...</th>\n",
       "      <td>...</td>\n",
       "      <td>...</td>\n",
       "      <td>...</td>\n",
       "      <td>...</td>\n",
       "      <td>...</td>\n",
       "      <td>...</td>\n",
       "      <td>...</td>\n",
       "      <td>...</td>\n",
       "      <td>...</td>\n",
       "      <td>...</td>\n",
       "    </tr>\n",
       "    <tr>\n",
       "      <th>21447</th>\n",
       "      <td>1</td>\n",
       "      <td>4529.316663</td>\n",
       "      <td>43</td>\n",
       "      <td>1</td>\n",
       "      <td>1</td>\n",
       "      <td>f</td>\n",
       "      <td>компаньон</td>\n",
       "      <td>0</td>\n",
       "      <td>224791</td>\n",
       "      <td>операции с жильем</td>\n",
       "    </tr>\n",
       "    <tr>\n",
       "      <th>21448</th>\n",
       "      <td>0</td>\n",
       "      <td>1630.019381</td>\n",
       "      <td>67</td>\n",
       "      <td>1</td>\n",
       "      <td>0</td>\n",
       "      <td>f</td>\n",
       "      <td>пенсионер</td>\n",
       "      <td>0</td>\n",
       "      <td>155999</td>\n",
       "      <td>сделка с автомобилем</td>\n",
       "    </tr>\n",
       "    <tr>\n",
       "      <th>21449</th>\n",
       "      <td>1</td>\n",
       "      <td>2113.346888</td>\n",
       "      <td>38</td>\n",
       "      <td>1</td>\n",
       "      <td>1</td>\n",
       "      <td>m</td>\n",
       "      <td>сотрудник</td>\n",
       "      <td>1</td>\n",
       "      <td>89672</td>\n",
       "      <td>недвижимость</td>\n",
       "    </tr>\n",
       "    <tr>\n",
       "      <th>21450</th>\n",
       "      <td>3</td>\n",
       "      <td>3112.481705</td>\n",
       "      <td>38</td>\n",
       "      <td>1</td>\n",
       "      <td>0</td>\n",
       "      <td>m</td>\n",
       "      <td>сотрудник</td>\n",
       "      <td>1</td>\n",
       "      <td>244093</td>\n",
       "      <td>на покупку своего автомобиля</td>\n",
       "    </tr>\n",
       "    <tr>\n",
       "      <th>21451</th>\n",
       "      <td>2</td>\n",
       "      <td>1984.507589</td>\n",
       "      <td>40</td>\n",
       "      <td>1</td>\n",
       "      <td>0</td>\n",
       "      <td>f</td>\n",
       "      <td>сотрудник</td>\n",
       "      <td>0</td>\n",
       "      <td>82047</td>\n",
       "      <td>на покупку автомобиля</td>\n",
       "    </tr>\n",
       "  </tbody>\n",
       "</table>\n",
       "<p>21452 rows × 10 columns</p>\n",
       "</div>"
      ],
      "text/plain": [
       "       children  days_employed  dob_years  education_id  family_status_id  \\\n",
       "0             1    8437.673028         42             0                 0   \n",
       "1             1    4024.803754         36             1                 0   \n",
       "2             0    5623.422610         33             1                 0   \n",
       "3             3    4124.747207         32             1                 0   \n",
       "4             0    1630.019381         53             1                 1   \n",
       "...         ...            ...        ...           ...               ...   \n",
       "21447         1    4529.316663         43             1                 1   \n",
       "21448         0    1630.019381         67             1                 0   \n",
       "21449         1    2113.346888         38             1                 1   \n",
       "21450         3    3112.481705         38             1                 0   \n",
       "21451         2    1984.507589         40             1                 0   \n",
       "\n",
       "      gender income_type  debt  total_income                       purpose  \n",
       "0          f   сотрудник     0        253875                 покупка жилья  \n",
       "1          f   сотрудник     0        112080       приобретение автомобиля  \n",
       "2          m   сотрудник     0        145885                 покупка жилья  \n",
       "3          m   сотрудник     0        267628    дополнительное образование  \n",
       "4          f   пенсионер     0        158616               сыграть свадьбу  \n",
       "...      ...         ...   ...           ...                           ...  \n",
       "21447      f   компаньон     0        224791             операции с жильем  \n",
       "21448      f   пенсионер     0        155999          сделка с автомобилем  \n",
       "21449      m   сотрудник     1         89672                  недвижимость  \n",
       "21450      m   сотрудник     1        244093  на покупку своего автомобиля  \n",
       "21451      f   сотрудник     0         82047         на покупку автомобиля  \n",
       "\n",
       "[21452 rows x 10 columns]"
      ]
     },
     "execution_count": 85,
     "metadata": {},
     "output_type": "execute_result"
    }
   ],
   "source": [
    "data.drop(columns = ['education', 'family_status'], axis = 1)# удаляем два столбца из исходного датафрейма"
   ]
  },
  {
   "cell_type": "markdown",
   "id": "1c0be20e",
   "metadata": {},
   "source": [
    "В этом пункте мы создали два новых датафрейма и удалили столбцы `education` и `family_status` из исходного"
   ]
  },
  {
   "cell_type": "markdown",
   "id": "9567ec9a",
   "metadata": {},
   "source": [
    "### Шаг 2.6. Категоризация дохода."
   ]
  },
  {
   "cell_type": "code",
   "execution_count": 86,
   "id": "b7d832f3",
   "metadata": {},
   "outputs": [],
   "source": [
    "def income_group(number):\n",
    "    if number <= 30000:\n",
    "        return 'E'\n",
    "    if number <= 50000:\n",
    "        return 'D'\n",
    "    if number <= 200000:\n",
    "        return 'C'\n",
    "    if number <= 1000000:\n",
    "        return 'B'\n",
    "    return 'A'#напишем функцию категоризации доходов"
   ]
  },
  {
   "cell_type": "code",
   "execution_count": 87,
   "id": "66dc9e89",
   "metadata": {},
   "outputs": [],
   "source": [
    "data['total_income_category'] = data['total_income'].apply(income_group)\n",
    "#применим функцию к столбцу total_income"
   ]
  },
  {
   "cell_type": "code",
   "execution_count": 88,
   "id": "e4e13933",
   "metadata": {},
   "outputs": [
    {
     "data": {
      "text/html": [
       "<div>\n",
       "<style scoped>\n",
       "    .dataframe tbody tr th:only-of-type {\n",
       "        vertical-align: middle;\n",
       "    }\n",
       "\n",
       "    .dataframe tbody tr th {\n",
       "        vertical-align: top;\n",
       "    }\n",
       "\n",
       "    .dataframe thead th {\n",
       "        text-align: right;\n",
       "    }\n",
       "</style>\n",
       "<table border=\"1\" class=\"dataframe\">\n",
       "  <thead>\n",
       "    <tr style=\"text-align: right;\">\n",
       "      <th></th>\n",
       "      <th>children</th>\n",
       "      <th>days_employed</th>\n",
       "      <th>dob_years</th>\n",
       "      <th>education</th>\n",
       "      <th>education_id</th>\n",
       "      <th>family_status</th>\n",
       "      <th>family_status_id</th>\n",
       "      <th>gender</th>\n",
       "      <th>income_type</th>\n",
       "      <th>debt</th>\n",
       "      <th>total_income</th>\n",
       "      <th>purpose</th>\n",
       "      <th>total_income_category</th>\n",
       "    </tr>\n",
       "  </thead>\n",
       "  <tbody>\n",
       "    <tr>\n",
       "      <th>0</th>\n",
       "      <td>1</td>\n",
       "      <td>8437.673028</td>\n",
       "      <td>42</td>\n",
       "      <td>высшее</td>\n",
       "      <td>0</td>\n",
       "      <td>женат / замужем</td>\n",
       "      <td>0</td>\n",
       "      <td>f</td>\n",
       "      <td>сотрудник</td>\n",
       "      <td>0</td>\n",
       "      <td>253875</td>\n",
       "      <td>покупка жилья</td>\n",
       "      <td>B</td>\n",
       "    </tr>\n",
       "    <tr>\n",
       "      <th>1</th>\n",
       "      <td>1</td>\n",
       "      <td>4024.803754</td>\n",
       "      <td>36</td>\n",
       "      <td>среднее</td>\n",
       "      <td>1</td>\n",
       "      <td>женат / замужем</td>\n",
       "      <td>0</td>\n",
       "      <td>f</td>\n",
       "      <td>сотрудник</td>\n",
       "      <td>0</td>\n",
       "      <td>112080</td>\n",
       "      <td>приобретение автомобиля</td>\n",
       "      <td>C</td>\n",
       "    </tr>\n",
       "    <tr>\n",
       "      <th>2</th>\n",
       "      <td>0</td>\n",
       "      <td>5623.422610</td>\n",
       "      <td>33</td>\n",
       "      <td>среднее</td>\n",
       "      <td>1</td>\n",
       "      <td>женат / замужем</td>\n",
       "      <td>0</td>\n",
       "      <td>m</td>\n",
       "      <td>сотрудник</td>\n",
       "      <td>0</td>\n",
       "      <td>145885</td>\n",
       "      <td>покупка жилья</td>\n",
       "      <td>C</td>\n",
       "    </tr>\n",
       "    <tr>\n",
       "      <th>3</th>\n",
       "      <td>3</td>\n",
       "      <td>4124.747207</td>\n",
       "      <td>32</td>\n",
       "      <td>среднее</td>\n",
       "      <td>1</td>\n",
       "      <td>женат / замужем</td>\n",
       "      <td>0</td>\n",
       "      <td>m</td>\n",
       "      <td>сотрудник</td>\n",
       "      <td>0</td>\n",
       "      <td>267628</td>\n",
       "      <td>дополнительное образование</td>\n",
       "      <td>B</td>\n",
       "    </tr>\n",
       "    <tr>\n",
       "      <th>4</th>\n",
       "      <td>0</td>\n",
       "      <td>1630.019381</td>\n",
       "      <td>53</td>\n",
       "      <td>среднее</td>\n",
       "      <td>1</td>\n",
       "      <td>гражданский брак</td>\n",
       "      <td>1</td>\n",
       "      <td>f</td>\n",
       "      <td>пенсионер</td>\n",
       "      <td>0</td>\n",
       "      <td>158616</td>\n",
       "      <td>сыграть свадьбу</td>\n",
       "      <td>C</td>\n",
       "    </tr>\n",
       "  </tbody>\n",
       "</table>\n",
       "</div>"
      ],
      "text/plain": [
       "   children  days_employed  dob_years education  education_id  \\\n",
       "0         1    8437.673028         42    высшее             0   \n",
       "1         1    4024.803754         36   среднее             1   \n",
       "2         0    5623.422610         33   среднее             1   \n",
       "3         3    4124.747207         32   среднее             1   \n",
       "4         0    1630.019381         53   среднее             1   \n",
       "\n",
       "      family_status  family_status_id gender income_type  debt  total_income  \\\n",
       "0   женат / замужем                 0      f   сотрудник     0        253875   \n",
       "1   женат / замужем                 0      f   сотрудник     0        112080   \n",
       "2   женат / замужем                 0      m   сотрудник     0        145885   \n",
       "3   женат / замужем                 0      m   сотрудник     0        267628   \n",
       "4  гражданский брак                 1      f   пенсионер     0        158616   \n",
       "\n",
       "                      purpose total_income_category  \n",
       "0               покупка жилья                     B  \n",
       "1     приобретение автомобиля                     C  \n",
       "2               покупка жилья                     C  \n",
       "3  дополнительное образование                     B  \n",
       "4             сыграть свадьбу                     C  "
      ]
     },
     "execution_count": 88,
     "metadata": {},
     "output_type": "execute_result"
    }
   ],
   "source": [
    "data.head()#выводим первые пять строк для проверки"
   ]
  },
  {
   "cell_type": "markdown",
   "id": "17713a3b",
   "metadata": {},
   "source": [
    "### Шаг 2.7. Категоризация целей кредита."
   ]
  },
  {
   "cell_type": "code",
   "execution_count": 89,
   "id": "f937949d",
   "metadata": {},
   "outputs": [],
   "source": [
    "def purpose_group(purpose):\n",
    "    if 'авто' in purpose:\n",
    "        return 'операции с автомобилем'\n",
    "    if 'недвиж' in purpose or 'жиль' in purpose:\n",
    "        return 'операции с недвижимостью'\n",
    "    if 'свадьб' in purpose:\n",
    "        return 'проведение свадьбы'\n",
    "    if 'образован' in purpose:\n",
    "        return 'получение образования'\n",
    "#напишем функцию категоризации целей кредита"
   ]
  },
  {
   "cell_type": "code",
   "execution_count": 90,
   "id": "6aa77f7f",
   "metadata": {},
   "outputs": [],
   "source": [
    "#data['purpose_category'] = data['purpose'].apply(purpose_group)#применяем функцию\n",
    "#мы увидели ошибку при вызове функции"
   ]
  },
  {
   "cell_type": "markdown",
   "id": "43a5bd71",
   "metadata": {},
   "source": [
    "Мы увидели, что в столбце `purpose` содержатся данные типа `float`. Нужно это изменить"
   ]
  },
  {
   "cell_type": "code",
   "execution_count": 91,
   "id": "891196cf",
   "metadata": {},
   "outputs": [],
   "source": [
    "data['purpose'] = data['purpose'].astype('str')#меняем тип данных на str"
   ]
  },
  {
   "cell_type": "code",
   "execution_count": 92,
   "id": "af270e47",
   "metadata": {},
   "outputs": [
    {
     "data": {
      "text/html": [
       "<div>\n",
       "<style scoped>\n",
       "    .dataframe tbody tr th:only-of-type {\n",
       "        vertical-align: middle;\n",
       "    }\n",
       "\n",
       "    .dataframe tbody tr th {\n",
       "        vertical-align: top;\n",
       "    }\n",
       "\n",
       "    .dataframe thead th {\n",
       "        text-align: right;\n",
       "    }\n",
       "</style>\n",
       "<table border=\"1\" class=\"dataframe\">\n",
       "  <thead>\n",
       "    <tr style=\"text-align: right;\">\n",
       "      <th></th>\n",
       "      <th>children</th>\n",
       "      <th>days_employed</th>\n",
       "      <th>dob_years</th>\n",
       "      <th>education</th>\n",
       "      <th>education_id</th>\n",
       "      <th>family_status</th>\n",
       "      <th>family_status_id</th>\n",
       "      <th>gender</th>\n",
       "      <th>income_type</th>\n",
       "      <th>debt</th>\n",
       "      <th>total_income</th>\n",
       "      <th>purpose</th>\n",
       "      <th>total_income_category</th>\n",
       "      <th>purpose_category</th>\n",
       "    </tr>\n",
       "  </thead>\n",
       "  <tbody>\n",
       "    <tr>\n",
       "      <th>0</th>\n",
       "      <td>1</td>\n",
       "      <td>8437.673028</td>\n",
       "      <td>42</td>\n",
       "      <td>высшее</td>\n",
       "      <td>0</td>\n",
       "      <td>женат / замужем</td>\n",
       "      <td>0</td>\n",
       "      <td>f</td>\n",
       "      <td>сотрудник</td>\n",
       "      <td>0</td>\n",
       "      <td>253875</td>\n",
       "      <td>покупка жилья</td>\n",
       "      <td>B</td>\n",
       "      <td>операции с недвижимостью</td>\n",
       "    </tr>\n",
       "    <tr>\n",
       "      <th>1</th>\n",
       "      <td>1</td>\n",
       "      <td>4024.803754</td>\n",
       "      <td>36</td>\n",
       "      <td>среднее</td>\n",
       "      <td>1</td>\n",
       "      <td>женат / замужем</td>\n",
       "      <td>0</td>\n",
       "      <td>f</td>\n",
       "      <td>сотрудник</td>\n",
       "      <td>0</td>\n",
       "      <td>112080</td>\n",
       "      <td>приобретение автомобиля</td>\n",
       "      <td>C</td>\n",
       "      <td>операции с автомобилем</td>\n",
       "    </tr>\n",
       "    <tr>\n",
       "      <th>2</th>\n",
       "      <td>0</td>\n",
       "      <td>5623.422610</td>\n",
       "      <td>33</td>\n",
       "      <td>среднее</td>\n",
       "      <td>1</td>\n",
       "      <td>женат / замужем</td>\n",
       "      <td>0</td>\n",
       "      <td>m</td>\n",
       "      <td>сотрудник</td>\n",
       "      <td>0</td>\n",
       "      <td>145885</td>\n",
       "      <td>покупка жилья</td>\n",
       "      <td>C</td>\n",
       "      <td>операции с недвижимостью</td>\n",
       "    </tr>\n",
       "    <tr>\n",
       "      <th>3</th>\n",
       "      <td>3</td>\n",
       "      <td>4124.747207</td>\n",
       "      <td>32</td>\n",
       "      <td>среднее</td>\n",
       "      <td>1</td>\n",
       "      <td>женат / замужем</td>\n",
       "      <td>0</td>\n",
       "      <td>m</td>\n",
       "      <td>сотрудник</td>\n",
       "      <td>0</td>\n",
       "      <td>267628</td>\n",
       "      <td>дополнительное образование</td>\n",
       "      <td>B</td>\n",
       "      <td>получение образования</td>\n",
       "    </tr>\n",
       "    <tr>\n",
       "      <th>4</th>\n",
       "      <td>0</td>\n",
       "      <td>1630.019381</td>\n",
       "      <td>53</td>\n",
       "      <td>среднее</td>\n",
       "      <td>1</td>\n",
       "      <td>гражданский брак</td>\n",
       "      <td>1</td>\n",
       "      <td>f</td>\n",
       "      <td>пенсионер</td>\n",
       "      <td>0</td>\n",
       "      <td>158616</td>\n",
       "      <td>сыграть свадьбу</td>\n",
       "      <td>C</td>\n",
       "      <td>проведение свадьбы</td>\n",
       "    </tr>\n",
       "    <tr>\n",
       "      <th>...</th>\n",
       "      <td>...</td>\n",
       "      <td>...</td>\n",
       "      <td>...</td>\n",
       "      <td>...</td>\n",
       "      <td>...</td>\n",
       "      <td>...</td>\n",
       "      <td>...</td>\n",
       "      <td>...</td>\n",
       "      <td>...</td>\n",
       "      <td>...</td>\n",
       "      <td>...</td>\n",
       "      <td>...</td>\n",
       "      <td>...</td>\n",
       "      <td>...</td>\n",
       "    </tr>\n",
       "    <tr>\n",
       "      <th>21447</th>\n",
       "      <td>1</td>\n",
       "      <td>4529.316663</td>\n",
       "      <td>43</td>\n",
       "      <td>среднее</td>\n",
       "      <td>1</td>\n",
       "      <td>гражданский брак</td>\n",
       "      <td>1</td>\n",
       "      <td>f</td>\n",
       "      <td>компаньон</td>\n",
       "      <td>0</td>\n",
       "      <td>224791</td>\n",
       "      <td>операции с жильем</td>\n",
       "      <td>B</td>\n",
       "      <td>операции с недвижимостью</td>\n",
       "    </tr>\n",
       "    <tr>\n",
       "      <th>21448</th>\n",
       "      <td>0</td>\n",
       "      <td>1630.019381</td>\n",
       "      <td>67</td>\n",
       "      <td>среднее</td>\n",
       "      <td>1</td>\n",
       "      <td>женат / замужем</td>\n",
       "      <td>0</td>\n",
       "      <td>f</td>\n",
       "      <td>пенсионер</td>\n",
       "      <td>0</td>\n",
       "      <td>155999</td>\n",
       "      <td>сделка с автомобилем</td>\n",
       "      <td>C</td>\n",
       "      <td>операции с автомобилем</td>\n",
       "    </tr>\n",
       "    <tr>\n",
       "      <th>21449</th>\n",
       "      <td>1</td>\n",
       "      <td>2113.346888</td>\n",
       "      <td>38</td>\n",
       "      <td>среднее</td>\n",
       "      <td>1</td>\n",
       "      <td>гражданский брак</td>\n",
       "      <td>1</td>\n",
       "      <td>m</td>\n",
       "      <td>сотрудник</td>\n",
       "      <td>1</td>\n",
       "      <td>89672</td>\n",
       "      <td>недвижимость</td>\n",
       "      <td>C</td>\n",
       "      <td>операции с недвижимостью</td>\n",
       "    </tr>\n",
       "    <tr>\n",
       "      <th>21450</th>\n",
       "      <td>3</td>\n",
       "      <td>3112.481705</td>\n",
       "      <td>38</td>\n",
       "      <td>среднее</td>\n",
       "      <td>1</td>\n",
       "      <td>женат / замужем</td>\n",
       "      <td>0</td>\n",
       "      <td>m</td>\n",
       "      <td>сотрудник</td>\n",
       "      <td>1</td>\n",
       "      <td>244093</td>\n",
       "      <td>на покупку своего автомобиля</td>\n",
       "      <td>B</td>\n",
       "      <td>операции с автомобилем</td>\n",
       "    </tr>\n",
       "    <tr>\n",
       "      <th>21451</th>\n",
       "      <td>2</td>\n",
       "      <td>1984.507589</td>\n",
       "      <td>40</td>\n",
       "      <td>среднее</td>\n",
       "      <td>1</td>\n",
       "      <td>женат / замужем</td>\n",
       "      <td>0</td>\n",
       "      <td>f</td>\n",
       "      <td>сотрудник</td>\n",
       "      <td>0</td>\n",
       "      <td>82047</td>\n",
       "      <td>на покупку автомобиля</td>\n",
       "      <td>C</td>\n",
       "      <td>операции с автомобилем</td>\n",
       "    </tr>\n",
       "  </tbody>\n",
       "</table>\n",
       "<p>21452 rows × 14 columns</p>\n",
       "</div>"
      ],
      "text/plain": [
       "       children  days_employed  dob_years education  education_id  \\\n",
       "0             1    8437.673028         42    высшее             0   \n",
       "1             1    4024.803754         36   среднее             1   \n",
       "2             0    5623.422610         33   среднее             1   \n",
       "3             3    4124.747207         32   среднее             1   \n",
       "4             0    1630.019381         53   среднее             1   \n",
       "...         ...            ...        ...       ...           ...   \n",
       "21447         1    4529.316663         43   среднее             1   \n",
       "21448         0    1630.019381         67   среднее             1   \n",
       "21449         1    2113.346888         38   среднее             1   \n",
       "21450         3    3112.481705         38   среднее             1   \n",
       "21451         2    1984.507589         40   среднее             1   \n",
       "\n",
       "          family_status  family_status_id gender income_type  debt  \\\n",
       "0       женат / замужем                 0      f   сотрудник     0   \n",
       "1       женат / замужем                 0      f   сотрудник     0   \n",
       "2       женат / замужем                 0      m   сотрудник     0   \n",
       "3       женат / замужем                 0      m   сотрудник     0   \n",
       "4      гражданский брак                 1      f   пенсионер     0   \n",
       "...                 ...               ...    ...         ...   ...   \n",
       "21447  гражданский брак                 1      f   компаньон     0   \n",
       "21448   женат / замужем                 0      f   пенсионер     0   \n",
       "21449  гражданский брак                 1      m   сотрудник     1   \n",
       "21450   женат / замужем                 0      m   сотрудник     1   \n",
       "21451   женат / замужем                 0      f   сотрудник     0   \n",
       "\n",
       "       total_income                       purpose total_income_category  \\\n",
       "0            253875                 покупка жилья                     B   \n",
       "1            112080       приобретение автомобиля                     C   \n",
       "2            145885                 покупка жилья                     C   \n",
       "3            267628    дополнительное образование                     B   \n",
       "4            158616               сыграть свадьбу                     C   \n",
       "...             ...                           ...                   ...   \n",
       "21447        224791             операции с жильем                     B   \n",
       "21448        155999          сделка с автомобилем                     C   \n",
       "21449         89672                  недвижимость                     C   \n",
       "21450        244093  на покупку своего автомобиля                     B   \n",
       "21451         82047         на покупку автомобиля                     C   \n",
       "\n",
       "               purpose_category  \n",
       "0      операции с недвижимостью  \n",
       "1        операции с автомобилем  \n",
       "2      операции с недвижимостью  \n",
       "3         получение образования  \n",
       "4            проведение свадьбы  \n",
       "...                         ...  \n",
       "21447  операции с недвижимостью  \n",
       "21448    операции с автомобилем  \n",
       "21449  операции с недвижимостью  \n",
       "21450    операции с автомобилем  \n",
       "21451    операции с автомобилем  \n",
       "\n",
       "[21452 rows x 14 columns]"
      ]
     },
     "metadata": {},
     "output_type": "display_data"
    }
   ],
   "source": [
    "data['purpose_category'] = data['purpose'].apply(purpose_group)\n",
    "display(data)#применяем функцию ещё раз и выводим датасет на экран"
   ]
  },
  {
   "cell_type": "markdown",
   "id": "4b66c1eb",
   "metadata": {},
   "source": [
    "Мы создали верную функцию для категризации целей кредита и добавили новый столбец - `purpose_category`"
   ]
  },
  {
   "cell_type": "markdown",
   "id": "fa7f28ac",
   "metadata": {},
   "source": [
    "### Ответы на вопросы."
   ]
  },
  {
   "cell_type": "markdown",
   "id": "b644ccbd",
   "metadata": {},
   "source": [
    "##### Вопрос 1: "
   ]
  },
  {
   "cell_type": "markdown",
   "id": "75b81a55",
   "metadata": {},
   "source": [
    "Есть ли зависимость между количеством детей и возвратом кредита в срок?"
   ]
  },
  {
   "cell_type": "code",
   "execution_count": 93,
   "id": "f72ef855",
   "metadata": {},
   "outputs": [
    {
     "data": {
      "text/html": [
       "<div>\n",
       "<style scoped>\n",
       "    .dataframe tbody tr th:only-of-type {\n",
       "        vertical-align: middle;\n",
       "    }\n",
       "\n",
       "    .dataframe tbody tr th {\n",
       "        vertical-align: top;\n",
       "    }\n",
       "\n",
       "    .dataframe thead th {\n",
       "        text-align: right;\n",
       "    }\n",
       "</style>\n",
       "<table border=\"1\" class=\"dataframe\">\n",
       "  <thead>\n",
       "    <tr style=\"text-align: right;\">\n",
       "      <th></th>\n",
       "      <th>amount</th>\n",
       "      <th>percentage</th>\n",
       "    </tr>\n",
       "    <tr>\n",
       "      <th>children</th>\n",
       "      <th></th>\n",
       "      <th></th>\n",
       "    </tr>\n",
       "  </thead>\n",
       "  <tbody>\n",
       "    <tr>\n",
       "      <th>0</th>\n",
       "      <td>14165.0</td>\n",
       "      <td>7.56%</td>\n",
       "    </tr>\n",
       "    <tr>\n",
       "      <th>1</th>\n",
       "      <td>4855.0</td>\n",
       "      <td>9.17%</td>\n",
       "    </tr>\n",
       "    <tr>\n",
       "      <th>2</th>\n",
       "      <td>2052.0</td>\n",
       "      <td>9.45%</td>\n",
       "    </tr>\n",
       "    <tr>\n",
       "      <th>3</th>\n",
       "      <td>330.0</td>\n",
       "      <td>8.18%</td>\n",
       "    </tr>\n",
       "    <tr>\n",
       "      <th>4</th>\n",
       "      <td>41.0</td>\n",
       "      <td>9.76%</td>\n",
       "    </tr>\n",
       "    <tr>\n",
       "      <th>5</th>\n",
       "      <td>9.0</td>\n",
       "      <td>0.00%</td>\n",
       "    </tr>\n",
       "  </tbody>\n",
       "</table>\n",
       "</div>"
      ],
      "text/plain": [
       "           amount percentage\n",
       "children                    \n",
       "0         14165.0      7.56%\n",
       "1          4855.0      9.17%\n",
       "2          2052.0      9.45%\n",
       "3           330.0      8.18%\n",
       "4            41.0      9.76%\n",
       "5             9.0      0.00%"
      ]
     },
     "execution_count": 93,
     "metadata": {},
     "output_type": "execute_result"
    }
   ],
   "source": [
    "#создадим сводную таблицу для этого вопроса\n",
    "borrowers = data.pivot_table(index = 'children', values='debt', aggfunc = ('mean', lambda X:\n",
    "                                                                       X.count()))\n",
    "\n",
    "#создадим функцию для перевода соотношения в проценты \n",
    "def percent(value):\n",
    "    return \"{0:.2%}\".format(value)\n",
    "\n",
    "# изменим название столбцов и применяем функцию \n",
    "borrowers = borrowers.rename(columns={'<lambda_0>': 'amount', 'mean': 'percentage'})\n",
    "borrowers['percentage'] = borrowers['percentage'].apply(percent)\n",
    "borrowers.sort_values(by='amount', ascending=False)\n"
   ]
  },
  {
   "cell_type": "markdown",
   "id": "b1d8d999",
   "metadata": {},
   "source": [
    "##### Вывод 1:"
   ]
  },
  {
   "cell_type": "markdown",
   "id": "608042d2",
   "metadata": {},
   "source": [
    "Из данной таблицы можно сделать вывод, что зависимость опредленно присутствует. Самые ответсвенные семьи по выплате кредита являются те, у которых нет детей. Затем идут семьи с 3 детьми, а уже после те, у кого 1, 2 или 4 ребёнка.  "
   ]
  },
  {
   "cell_type": "markdown",
   "id": "88c5a6f9",
   "metadata": {},
   "source": [
    "##### Вопрос 2: "
   ]
  },
  {
   "cell_type": "markdown",
   "id": "158e698a",
   "metadata": {},
   "source": [
    "Есть ли зависимость между семейным положением и возвратом кредита в срок?"
   ]
  },
  {
   "cell_type": "code",
   "execution_count": 94,
   "id": "fa076844",
   "metadata": {},
   "outputs": [
    {
     "data": {
      "text/html": [
       "<div>\n",
       "<style scoped>\n",
       "    .dataframe tbody tr th:only-of-type {\n",
       "        vertical-align: middle;\n",
       "    }\n",
       "\n",
       "    .dataframe tbody tr th {\n",
       "        vertical-align: top;\n",
       "    }\n",
       "\n",
       "    .dataframe thead th {\n",
       "        text-align: right;\n",
       "    }\n",
       "</style>\n",
       "<table border=\"1\" class=\"dataframe\">\n",
       "  <thead>\n",
       "    <tr style=\"text-align: right;\">\n",
       "      <th></th>\n",
       "      <th>amount</th>\n",
       "      <th>percentage</th>\n",
       "    </tr>\n",
       "    <tr>\n",
       "      <th>family_status</th>\n",
       "      <th></th>\n",
       "      <th></th>\n",
       "    </tr>\n",
       "  </thead>\n",
       "  <tbody>\n",
       "    <tr>\n",
       "      <th>женат / замужем</th>\n",
       "      <td>12339.0</td>\n",
       "      <td>7.55%</td>\n",
       "    </tr>\n",
       "    <tr>\n",
       "      <th>гражданский брак</th>\n",
       "      <td>4149.0</td>\n",
       "      <td>9.35%</td>\n",
       "    </tr>\n",
       "    <tr>\n",
       "      <th>не женат / не замужем</th>\n",
       "      <td>2810.0</td>\n",
       "      <td>9.75%</td>\n",
       "    </tr>\n",
       "    <tr>\n",
       "      <th>в разводе</th>\n",
       "      <td>1195.0</td>\n",
       "      <td>7.11%</td>\n",
       "    </tr>\n",
       "    <tr>\n",
       "      <th>вдовец / вдова</th>\n",
       "      <td>959.0</td>\n",
       "      <td>6.57%</td>\n",
       "    </tr>\n",
       "  </tbody>\n",
       "</table>\n",
       "</div>"
      ],
      "text/plain": [
       "                        amount percentage\n",
       "family_status                            \n",
       "женат / замужем        12339.0      7.55%\n",
       "гражданский брак        4149.0      9.35%\n",
       "не женат / не замужем   2810.0      9.75%\n",
       "в разводе               1195.0      7.11%\n",
       "вдовец / вдова           959.0      6.57%"
      ]
     },
     "execution_count": 94,
     "metadata": {},
     "output_type": "execute_result"
    }
   ],
   "source": [
    "#создадим свобдную таблицу\n",
    "family = data.pivot_table(index = 'family_status', values='debt', aggfunc = ('mean', lambda X:\n",
    "                                                                       X.count()))\n",
    "\n",
    "# затем снова применим функцию для процентов и переименуем столбцы\n",
    "family['mean'] = family['mean'].apply(percent)\n",
    "family = family.rename(columns={\"<lambda_0>\": \"amount\", \"mean\": \"percentage\"})\n",
    "family.sort_values(by='amount', ascending=False)"
   ]
  },
  {
   "cell_type": "markdown",
   "id": "74296de6",
   "metadata": {},
   "source": [
    "##### Вывод 2:"
   ]
  },
  {
   "cell_type": "markdown",
   "id": "40e67bf0",
   "metadata": {},
   "source": [
    "Как мы видим из таблицы, зависимость явно присутсвует. Отвественее всего к возврату кредита относятся вдовцы - всего `6.55%`. А самыми неответсвенными клиентами являются те, кто не состоят в браке - `10.49%`."
   ]
  },
  {
   "cell_type": "markdown",
   "id": "3e139a1b",
   "metadata": {},
   "source": [
    "##### Вопрос 3: "
   ]
  },
  {
   "cell_type": "markdown",
   "id": "daf47518",
   "metadata": {},
   "source": [
    "Есть ли зависимость между уровнем дохода и возвратом кредита в срок?"
   ]
  },
  {
   "cell_type": "code",
   "execution_count": 95,
   "id": "9d0a1709",
   "metadata": {},
   "outputs": [
    {
     "data": {
      "text/html": [
       "<div>\n",
       "<style scoped>\n",
       "    .dataframe tbody tr th:only-of-type {\n",
       "        vertical-align: middle;\n",
       "    }\n",
       "\n",
       "    .dataframe tbody tr th {\n",
       "        vertical-align: top;\n",
       "    }\n",
       "\n",
       "    .dataframe thead th {\n",
       "        text-align: right;\n",
       "    }\n",
       "</style>\n",
       "<table border=\"1\" class=\"dataframe\">\n",
       "  <thead>\n",
       "    <tr style=\"text-align: right;\">\n",
       "      <th></th>\n",
       "      <th>amount</th>\n",
       "      <th>percentage</th>\n",
       "    </tr>\n",
       "    <tr>\n",
       "      <th>total_income_category</th>\n",
       "      <th></th>\n",
       "      <th></th>\n",
       "    </tr>\n",
       "  </thead>\n",
       "  <tbody>\n",
       "    <tr>\n",
       "      <th>C</th>\n",
       "      <td>16015.0</td>\n",
       "      <td>8.49%</td>\n",
       "    </tr>\n",
       "    <tr>\n",
       "      <th>B</th>\n",
       "      <td>5040.0</td>\n",
       "      <td>7.06%</td>\n",
       "    </tr>\n",
       "    <tr>\n",
       "      <th>D</th>\n",
       "      <td>350.0</td>\n",
       "      <td>6.00%</td>\n",
       "    </tr>\n",
       "    <tr>\n",
       "      <th>A</th>\n",
       "      <td>25.0</td>\n",
       "      <td>8.00%</td>\n",
       "    </tr>\n",
       "    <tr>\n",
       "      <th>E</th>\n",
       "      <td>22.0</td>\n",
       "      <td>9.09%</td>\n",
       "    </tr>\n",
       "  </tbody>\n",
       "</table>\n",
       "</div>"
      ],
      "text/plain": [
       "                        amount percentage\n",
       "total_income_category                    \n",
       "C                      16015.0      8.49%\n",
       "B                       5040.0      7.06%\n",
       "D                        350.0      6.00%\n",
       "A                         25.0      8.00%\n",
       "E                         22.0      9.09%"
      ]
     },
     "execution_count": 95,
     "metadata": {},
     "output_type": "execute_result"
    }
   ],
   "source": [
    "#применим такие же действия для столбца total_income_category\n",
    "income = data.pivot_table(index = 'total_income_category', values='debt', aggfunc = ('mean', lambda X:\n",
    "                                                                       X.count()))\n",
    "\n",
    "income['mean'] = income['mean'].apply(percent)\n",
    "income = income.rename(columns={\"<lambda_0>\": 'amount', 'mean': 'percentage'})\n",
    "income.sort_values(by='amount', ascending=False)"
   ]
  },
  {
   "cell_type": "markdown",
   "id": "2f357a17",
   "metadata": {},
   "source": [
    "##### Вывод 3:"
   ]
  },
  {
   "cell_type": "markdown",
   "id": "73c4cd58",
   "metadata": {},
   "source": [
    "Здесь также присутствует зависимость. Самый выоский средний показатель имеют клиенты с низким доходом, но в этой строке у нас всего 8 записей, что является очень маленькой частью. Самый низкий показатель имеют клиенты с высоким уровнем дохода."
   ]
  },
  {
   "cell_type": "markdown",
   "id": "20edec72",
   "metadata": {},
   "source": [
    "##### Вопрос 4: "
   ]
  },
  {
   "cell_type": "markdown",
   "id": "2240c371",
   "metadata": {},
   "source": [
    "Как разные цели кредита влияют на его возврат в срок?"
   ]
  },
  {
   "cell_type": "code",
   "execution_count": 96,
   "id": "da3e16fb",
   "metadata": {},
   "outputs": [
    {
     "data": {
      "text/html": [
       "<div>\n",
       "<style scoped>\n",
       "    .dataframe tbody tr th:only-of-type {\n",
       "        vertical-align: middle;\n",
       "    }\n",
       "\n",
       "    .dataframe tbody tr th {\n",
       "        vertical-align: top;\n",
       "    }\n",
       "\n",
       "    .dataframe thead th {\n",
       "        text-align: right;\n",
       "    }\n",
       "</style>\n",
       "<table border=\"1\" class=\"dataframe\">\n",
       "  <thead>\n",
       "    <tr style=\"text-align: right;\">\n",
       "      <th></th>\n",
       "      <th>amount</th>\n",
       "      <th>percentage</th>\n",
       "    </tr>\n",
       "    <tr>\n",
       "      <th>purpose_category</th>\n",
       "      <th></th>\n",
       "      <th></th>\n",
       "    </tr>\n",
       "  </thead>\n",
       "  <tbody>\n",
       "    <tr>\n",
       "      <th>операции с недвижимостью</th>\n",
       "      <td>10810.0</td>\n",
       "      <td>7.23%</td>\n",
       "    </tr>\n",
       "    <tr>\n",
       "      <th>операции с автомобилем</th>\n",
       "      <td>4306.0</td>\n",
       "      <td>9.36%</td>\n",
       "    </tr>\n",
       "    <tr>\n",
       "      <th>получение образования</th>\n",
       "      <td>4013.0</td>\n",
       "      <td>9.22%</td>\n",
       "    </tr>\n",
       "    <tr>\n",
       "      <th>проведение свадьбы</th>\n",
       "      <td>2323.0</td>\n",
       "      <td>8.01%</td>\n",
       "    </tr>\n",
       "  </tbody>\n",
       "</table>\n",
       "</div>"
      ],
      "text/plain": [
       "                           amount percentage\n",
       "purpose_category                            \n",
       "операции с недвижимостью  10810.0      7.23%\n",
       "операции с автомобилем     4306.0      9.36%\n",
       "получение образования      4013.0      9.22%\n",
       "проведение свадьбы         2323.0      8.01%"
      ]
     },
     "execution_count": 96,
     "metadata": {},
     "output_type": "execute_result"
    }
   ],
   "source": [
    "#применим такие же действия для столбца purpose_category\n",
    "purpose = data.pivot_table(index = 'purpose_category', values='debt', aggfunc = ('mean', lambda X:\n",
    "                                                                       X.count()))\n",
    "\n",
    "purpose['mean'] = purpose['mean'].apply(percent)\n",
    "purpose = purpose.rename(columns={\"<lambda_0>\": 'amount', 'mean': 'percentage'})\n",
    "purpose.sort_values(by='amount', ascending=False)"
   ]
  },
  {
   "cell_type": "markdown",
   "id": "8ae91269",
   "metadata": {},
   "source": [
    "##### Вывод 4:"
   ]
  },
  {
   "cell_type": "markdown",
   "id": "0ba63779",
   "metadata": {},
   "source": [
    "Лучшее значение у тех, кто собирается покупать недвижимость - `7.73%`. А самый худший показатель у клиентов с целью покупки авто - `10.01%`."
   ]
  },
  {
   "cell_type": "markdown",
   "id": "01955fca",
   "metadata": {},
   "source": [
    "## Общий вывод:"
   ]
  },
  {
   "cell_type": "markdown",
   "id": "9b6154aa",
   "metadata": {},
   "source": [
    "В данном проекте мы увидели, что все категории имеют зависимость с выплатой кредита в срок. Мы поняли, что семейной положение, уровень дохода, количество детей и цели взятия сильно влияют на выплату кредита и нужно их все учитывать."
   ]
  },
  {
   "cell_type": "markdown",
   "id": "fcf6a230",
   "metadata": {},
   "source": [
    "#### Категория детей: \n",
    "\n",
    "1. Самые надежные клиенты - те, у кого нет детей\n",
    "\n",
    "2. Самые безответсвенные - семьи с 4 детьми "
   ]
  },
  {
   "cell_type": "markdown",
   "id": "be99b298",
   "metadata": {},
   "source": [
    "#### По семейному статусу: \n",
    "\n",
    "1. Самые надежные клиенты - вдовцы\n",
    "\n",
    "2. Самые безответсвенные - люди, не состоявшие в браке"
   ]
  },
  {
   "cell_type": "markdown",
   "id": "018c6a87",
   "metadata": {},
   "source": [
    "#### По уровню дохода: \n",
    "\n",
    "1. Самые надежные клиенты - те, у кого низкий доход\n",
    "\n",
    "2. Самые безответсвенные - у кого доход выше среднего"
   ]
  },
  {
   "cell_type": "markdown",
   "id": "d4ba6a17",
   "metadata": {},
   "source": [
    "#### По цели взятия кредита: \n",
    "\n",
    "1. Самые надежные клиенты - покупка квартиры\n",
    "\n",
    "2. Самые безответсвенные - покупка авто  "
   ]
  }
 ],
 "metadata": {
  "ExecuteTimeLog": [
   {
    "duration": 43,
    "start_time": "2022-04-09T15:16:40.109Z"
   },
   {
    "duration": 372,
    "start_time": "2022-04-09T15:16:43.144Z"
   },
   {
    "duration": 67,
    "start_time": "2022-04-09T15:16:43.541Z"
   },
   {
    "duration": 25,
    "start_time": "2022-04-09T15:16:43.908Z"
   },
   {
    "duration": 24,
    "start_time": "2022-04-09T15:17:10.024Z"
   },
   {
    "duration": 7,
    "start_time": "2022-04-09T15:24:08.928Z"
   },
   {
    "duration": 6,
    "start_time": "2022-04-09T15:24:31.494Z"
   },
   {
    "duration": 6,
    "start_time": "2022-04-09T15:25:06.898Z"
   },
   {
    "duration": 6,
    "start_time": "2022-04-09T15:25:19.262Z"
   },
   {
    "duration": 20,
    "start_time": "2022-04-09T15:26:03.825Z"
   },
   {
    "duration": 17,
    "start_time": "2022-04-09T15:26:18.673Z"
   },
   {
    "duration": 13,
    "start_time": "2022-04-09T15:32:04.137Z"
   },
   {
    "duration": 49,
    "start_time": "2022-04-11T07:27:41.316Z"
   },
   {
    "duration": 413,
    "start_time": "2022-04-11T07:27:45.126Z"
   },
   {
    "duration": 62,
    "start_time": "2022-04-11T07:27:45.541Z"
   },
   {
    "duration": 25,
    "start_time": "2022-04-11T07:27:45.605Z"
   },
   {
    "duration": 16,
    "start_time": "2022-04-11T07:27:45.864Z"
   },
   {
    "duration": 11,
    "start_time": "2022-04-11T07:27:46.196Z"
   },
   {
    "duration": 3,
    "start_time": "2022-04-11T07:27:46.854Z"
   },
   {
    "duration": 5,
    "start_time": "2022-04-11T07:28:37.902Z"
   },
   {
    "duration": 7,
    "start_time": "2022-04-11T07:30:02.788Z"
   },
   {
    "duration": 11,
    "start_time": "2022-04-11T07:31:04.652Z"
   },
   {
    "duration": 15,
    "start_time": "2022-04-11T07:36:23.318Z"
   },
   {
    "duration": 4,
    "start_time": "2022-04-11T07:38:52.196Z"
   },
   {
    "duration": 14,
    "start_time": "2022-04-11T11:46:54.891Z"
   },
   {
    "duration": 551,
    "start_time": "2022-04-24T10:31:03.467Z"
   },
   {
    "duration": 90,
    "start_time": "2022-04-24T10:31:04.021Z"
   },
   {
    "duration": 43,
    "start_time": "2022-04-24T10:31:04.114Z"
   },
   {
    "duration": 22,
    "start_time": "2022-04-24T10:31:04.262Z"
   },
   {
    "duration": 14,
    "start_time": "2022-04-24T10:31:08.932Z"
   },
   {
    "duration": 6,
    "start_time": "2022-04-24T10:31:11.408Z"
   },
   {
    "duration": 6,
    "start_time": "2022-04-24T10:31:12.223Z"
   },
   {
    "duration": 6,
    "start_time": "2022-04-24T10:31:16.720Z"
   },
   {
    "duration": 14,
    "start_time": "2022-04-24T10:31:17.895Z"
   },
   {
    "duration": 5,
    "start_time": "2022-04-24T10:31:22.351Z"
   },
   {
    "duration": 16,
    "start_time": "2022-04-24T10:31:25.157Z"
   },
   {
    "duration": 11,
    "start_time": "2022-04-24T10:31:33.618Z"
   },
   {
    "duration": 105,
    "start_time": "2022-04-24T10:32:03.588Z"
   },
   {
    "duration": 9,
    "start_time": "2022-04-24T10:32:41.671Z"
   },
   {
    "duration": 19,
    "start_time": "2022-04-24T10:34:27.713Z"
   },
   {
    "duration": 11,
    "start_time": "2022-04-24T10:38:38.518Z"
   },
   {
    "duration": 10,
    "start_time": "2022-04-24T10:39:59.909Z"
   },
   {
    "duration": 12,
    "start_time": "2022-04-24T10:40:08.432Z"
   },
   {
    "duration": 72,
    "start_time": "2022-04-24T10:48:18.172Z"
   },
   {
    "duration": 9,
    "start_time": "2022-04-24T10:48:18.589Z"
   },
   {
    "duration": 492,
    "start_time": "2022-04-24T10:48:25.538Z"
   },
   {
    "duration": 79,
    "start_time": "2022-04-24T10:48:26.033Z"
   },
   {
    "duration": 42,
    "start_time": "2022-04-24T10:48:26.115Z"
   },
   {
    "duration": 34,
    "start_time": "2022-04-24T10:48:26.213Z"
   },
   {
    "duration": 13,
    "start_time": "2022-04-24T10:48:26.723Z"
   },
   {
    "duration": 7,
    "start_time": "2022-04-24T10:48:27.556Z"
   },
   {
    "duration": 7,
    "start_time": "2022-04-24T10:48:27.717Z"
   },
   {
    "duration": 8,
    "start_time": "2022-04-24T10:48:28.921Z"
   },
   {
    "duration": 23,
    "start_time": "2022-04-24T10:48:28.932Z"
   },
   {
    "duration": 9,
    "start_time": "2022-04-24T10:48:30.217Z"
   },
   {
    "duration": 16,
    "start_time": "2022-04-24T10:48:30.811Z"
   },
   {
    "duration": 103,
    "start_time": "2022-04-24T10:48:31.895Z"
   },
   {
    "duration": 18,
    "start_time": "2022-04-24T10:48:59.514Z"
   },
   {
    "duration": 42,
    "start_time": "2022-04-24T10:49:41.971Z"
   },
   {
    "duration": 30,
    "start_time": "2022-04-24T10:50:41.457Z"
   },
   {
    "duration": 194,
    "start_time": "2022-04-24T10:54:34.458Z"
   },
   {
    "duration": 214,
    "start_time": "2022-04-24T10:54:46.376Z"
   },
   {
    "duration": 39,
    "start_time": "2022-04-24T10:55:09.108Z"
   },
   {
    "duration": 37,
    "start_time": "2022-04-24T10:55:58.162Z"
   },
   {
    "duration": 51,
    "start_time": "2022-04-24T10:56:30.255Z"
   },
   {
    "duration": 528,
    "start_time": "2022-05-04T07:56:37.440Z"
   },
   {
    "duration": 86,
    "start_time": "2022-05-04T07:56:37.971Z"
   },
   {
    "duration": 40,
    "start_time": "2022-05-04T07:56:38.059Z"
   },
   {
    "duration": 15,
    "start_time": "2022-05-04T07:56:38.101Z"
   },
   {
    "duration": 10,
    "start_time": "2022-05-04T07:56:39.574Z"
   },
   {
    "duration": 5,
    "start_time": "2022-05-04T07:56:40.980Z"
   },
   {
    "duration": 5,
    "start_time": "2022-05-04T07:56:42.587Z"
   },
   {
    "duration": 7,
    "start_time": "2022-05-04T07:56:43.706Z"
   },
   {
    "duration": 11,
    "start_time": "2022-05-04T07:56:44.688Z"
   },
   {
    "duration": 4,
    "start_time": "2022-05-04T07:56:47.323Z"
   },
   {
    "duration": 21,
    "start_time": "2022-05-04T07:56:47.940Z"
   },
   {
    "duration": 24,
    "start_time": "2022-05-04T07:56:50.728Z"
   },
   {
    "duration": 78,
    "start_time": "2022-05-04T07:56:57.317Z"
   },
   {
    "duration": 4,
    "start_time": "2022-05-04T07:57:50.651Z"
   },
   {
    "duration": 6,
    "start_time": "2022-05-04T07:58:27.751Z"
   },
   {
    "duration": 9,
    "start_time": "2022-05-04T08:00:06.449Z"
   },
   {
    "duration": 17,
    "start_time": "2022-05-04T08:01:15.556Z"
   },
   {
    "duration": 19,
    "start_time": "2022-05-04T09:00:26.904Z"
   },
   {
    "duration": 3,
    "start_time": "2022-05-04T09:01:18.692Z"
   },
   {
    "duration": 13,
    "start_time": "2022-05-04T09:02:48.040Z"
   },
   {
    "duration": 12,
    "start_time": "2022-05-04T09:02:53.990Z"
   },
   {
    "duration": 12,
    "start_time": "2022-05-04T09:03:25.005Z"
   },
   {
    "duration": 25,
    "start_time": "2022-05-04T09:03:29.346Z"
   },
   {
    "duration": 177,
    "start_time": "2022-05-04T09:05:07.963Z"
   },
   {
    "duration": 384,
    "start_time": "2022-05-05T17:13:23.207Z"
   },
   {
    "duration": 70,
    "start_time": "2022-05-05T17:13:23.592Z"
   },
   {
    "duration": 24,
    "start_time": "2022-05-05T17:13:24.307Z"
   },
   {
    "duration": 17,
    "start_time": "2022-05-05T17:13:25.098Z"
   },
   {
    "duration": 12,
    "start_time": "2022-05-05T17:13:25.897Z"
   },
   {
    "duration": 6,
    "start_time": "2022-05-05T17:13:26.877Z"
   },
   {
    "duration": 5,
    "start_time": "2022-05-05T17:13:27.288Z"
   },
   {
    "duration": 5,
    "start_time": "2022-05-05T17:13:28.640Z"
   },
   {
    "duration": 10,
    "start_time": "2022-05-05T17:13:29.889Z"
   },
   {
    "duration": 3,
    "start_time": "2022-05-05T17:13:31.277Z"
   },
   {
    "duration": 22,
    "start_time": "2022-05-05T17:13:32.082Z"
   },
   {
    "duration": 21,
    "start_time": "2022-05-05T17:13:33.267Z"
   },
   {
    "duration": 13,
    "start_time": "2022-05-05T17:13:35.583Z"
   },
   {
    "duration": 25,
    "start_time": "2022-05-05T17:13:36.520Z"
   },
   {
    "duration": 13,
    "start_time": "2022-05-05T17:13:44.473Z"
   },
   {
    "duration": 4,
    "start_time": "2022-05-05T17:13:46.125Z"
   },
   {
    "duration": 13,
    "start_time": "2022-05-05T17:13:46.680Z"
   },
   {
    "duration": 15,
    "start_time": "2022-05-05T17:25:08.563Z"
   },
   {
    "duration": 28,
    "start_time": "2022-05-05T17:26:07.822Z"
   },
   {
    "duration": 45,
    "start_time": "2022-05-05T17:28:58.625Z"
   },
   {
    "duration": 62,
    "start_time": "2022-05-05T17:32:10.164Z"
   },
   {
    "duration": 14,
    "start_time": "2022-05-05T17:37:13.777Z"
   },
   {
    "duration": 3,
    "start_time": "2022-05-05T18:31:21.328Z"
   },
   {
    "duration": 62,
    "start_time": "2022-05-05T18:31:21.548Z"
   },
   {
    "duration": 18,
    "start_time": "2022-05-05T18:31:21.738Z"
   },
   {
    "duration": 13,
    "start_time": "2022-05-05T18:31:22.679Z"
   },
   {
    "duration": 11,
    "start_time": "2022-05-05T18:31:24.136Z"
   },
   {
    "duration": 3,
    "start_time": "2022-05-05T18:31:25.184Z"
   },
   {
    "duration": 4,
    "start_time": "2022-05-05T18:31:25.488Z"
   },
   {
    "duration": 4,
    "start_time": "2022-05-05T18:31:26.388Z"
   },
   {
    "duration": 9,
    "start_time": "2022-05-05T18:31:26.956Z"
   },
   {
    "duration": 3,
    "start_time": "2022-05-05T18:31:28.377Z"
   },
   {
    "duration": 24,
    "start_time": "2022-05-05T18:31:28.724Z"
   },
   {
    "duration": 32,
    "start_time": "2022-05-05T18:31:29.593Z"
   },
   {
    "duration": 9,
    "start_time": "2022-05-05T18:31:30.783Z"
   },
   {
    "duration": 35,
    "start_time": "2022-05-05T18:31:31.320Z"
   },
   {
    "duration": 14,
    "start_time": "2022-05-05T18:31:33.636Z"
   },
   {
    "duration": 6,
    "start_time": "2022-05-05T18:31:34.720Z"
   },
   {
    "duration": 22,
    "start_time": "2022-05-05T18:31:35.188Z"
   },
   {
    "duration": 19,
    "start_time": "2022-05-05T18:31:36.978Z"
   },
   {
    "duration": 19,
    "start_time": "2022-05-05T18:31:38.628Z"
   },
   {
    "duration": 41,
    "start_time": "2022-05-05T18:31:39.488Z"
   },
   {
    "duration": 3292,
    "start_time": "2022-05-05T18:31:40.780Z"
   },
   {
    "duration": 67,
    "start_time": "2022-05-05T18:35:19.775Z"
   },
   {
    "duration": 37,
    "start_time": "2022-05-05T18:39:26.824Z"
   },
   {
    "duration": 19,
    "start_time": "2022-05-05T18:39:38.272Z"
   },
   {
    "duration": 25,
    "start_time": "2022-05-05T18:39:51.136Z"
   },
   {
    "duration": 47,
    "start_time": "2022-05-05T18:39:56.797Z"
   },
   {
    "duration": 6,
    "start_time": "2022-05-05T18:45:37.187Z"
   },
   {
    "duration": 11,
    "start_time": "2022-05-05T18:49:34.375Z"
   },
   {
    "duration": 6,
    "start_time": "2022-05-05T18:49:38.271Z"
   },
   {
    "duration": 38,
    "start_time": "2022-05-05T18:50:01.195Z"
   },
   {
    "duration": 13,
    "start_time": "2022-05-05T18:50:07.522Z"
   },
   {
    "duration": 6,
    "start_time": "2022-05-05T18:50:08.572Z"
   },
   {
    "duration": 3,
    "start_time": "2022-05-05T18:51:30.654Z"
   },
   {
    "duration": 93,
    "start_time": "2022-05-05T18:51:30.877Z"
   },
   {
    "duration": 19,
    "start_time": "2022-05-05T18:51:31.151Z"
   },
   {
    "duration": 16,
    "start_time": "2022-05-05T18:51:31.373Z"
   },
   {
    "duration": 10,
    "start_time": "2022-05-05T18:51:31.935Z"
   },
   {
    "duration": 5,
    "start_time": "2022-05-05T18:51:32.490Z"
   },
   {
    "duration": 4,
    "start_time": "2022-05-05T18:51:32.865Z"
   },
   {
    "duration": 4,
    "start_time": "2022-05-05T18:51:33.454Z"
   },
   {
    "duration": 10,
    "start_time": "2022-05-05T18:51:33.849Z"
   },
   {
    "duration": 4,
    "start_time": "2022-05-05T18:51:34.683Z"
   },
   {
    "duration": 22,
    "start_time": "2022-05-05T18:51:34.942Z"
   },
   {
    "duration": 20,
    "start_time": "2022-05-05T18:51:35.752Z"
   },
   {
    "duration": 9,
    "start_time": "2022-05-05T18:51:36.970Z"
   },
   {
    "duration": 28,
    "start_time": "2022-05-05T18:51:38.118Z"
   },
   {
    "duration": 22,
    "start_time": "2022-05-05T18:51:39.518Z"
   },
   {
    "duration": 5,
    "start_time": "2022-05-05T18:51:40.277Z"
   },
   {
    "duration": 16,
    "start_time": "2022-05-05T18:51:40.530Z"
   },
   {
    "duration": 14,
    "start_time": "2022-05-05T18:51:42.354Z"
   },
   {
    "duration": 14,
    "start_time": "2022-05-05T18:51:43.448Z"
   },
   {
    "duration": 27,
    "start_time": "2022-05-05T18:51:49.426Z"
   },
   {
    "duration": 42,
    "start_time": "2022-05-05T18:51:56.251Z"
   },
   {
    "duration": 13,
    "start_time": "2022-05-05T18:51:57.862Z"
   },
   {
    "duration": 6,
    "start_time": "2022-05-05T18:52:00.989Z"
   },
   {
    "duration": 38,
    "start_time": "2022-05-05T18:52:42.718Z"
   },
   {
    "duration": 15,
    "start_time": "2022-05-05T18:52:43.524Z"
   },
   {
    "duration": 11,
    "start_time": "2022-05-05T18:52:44.793Z"
   },
   {
    "duration": 21,
    "start_time": "2022-05-05T18:53:04.175Z"
   },
   {
    "duration": 10,
    "start_time": "2022-05-05T18:53:04.566Z"
   },
   {
    "duration": 7,
    "start_time": "2022-05-05T18:53:05.799Z"
   },
   {
    "duration": 29,
    "start_time": "2022-05-05T18:54:30.594Z"
   },
   {
    "duration": 16,
    "start_time": "2022-05-05T18:54:32.206Z"
   },
   {
    "duration": 7,
    "start_time": "2022-05-05T18:55:35.725Z"
   },
   {
    "duration": 8,
    "start_time": "2022-05-05T18:55:36.926Z"
   },
   {
    "duration": 7,
    "start_time": "2022-05-05T18:55:37.940Z"
   },
   {
    "duration": 7,
    "start_time": "2022-05-05T18:55:38.775Z"
   },
   {
    "duration": 14,
    "start_time": "2022-05-05T19:07:18.370Z"
   },
   {
    "duration": 12,
    "start_time": "2022-05-05T19:07:37.078Z"
   },
   {
    "duration": 15,
    "start_time": "2022-05-05T19:08:42.329Z"
   },
   {
    "duration": 12,
    "start_time": "2022-05-05T19:08:47.014Z"
   },
   {
    "duration": 13,
    "start_time": "2022-05-05T19:09:03.984Z"
   },
   {
    "duration": 18,
    "start_time": "2022-05-05T19:15:54.270Z"
   },
   {
    "duration": 4,
    "start_time": "2022-05-05T19:23:32.906Z"
   },
   {
    "duration": 11,
    "start_time": "2022-05-05T19:24:51.495Z"
   },
   {
    "duration": 20,
    "start_time": "2022-05-05T19:25:54.300Z"
   },
   {
    "duration": 7,
    "start_time": "2022-05-05T19:44:19.128Z"
   },
   {
    "duration": 7,
    "start_time": "2022-05-05T19:44:48.668Z"
   },
   {
    "duration": 3,
    "start_time": "2022-05-05T19:44:57.233Z"
   },
   {
    "duration": 877,
    "start_time": "2022-05-05T19:44:57.635Z"
   },
   {
    "duration": 429,
    "start_time": "2022-05-06T05:55:45.982Z"
   },
   {
    "duration": 63,
    "start_time": "2022-05-06T05:55:47.002Z"
   },
   {
    "duration": 26,
    "start_time": "2022-05-06T05:55:47.247Z"
   },
   {
    "duration": 15,
    "start_time": "2022-05-06T05:55:47.616Z"
   },
   {
    "duration": 10,
    "start_time": "2022-05-06T05:55:48.250Z"
   },
   {
    "duration": 5,
    "start_time": "2022-05-06T05:55:49.163Z"
   },
   {
    "duration": 5,
    "start_time": "2022-05-06T05:55:49.260Z"
   },
   {
    "duration": 5,
    "start_time": "2022-05-06T05:55:49.502Z"
   },
   {
    "duration": 11,
    "start_time": "2022-05-06T05:55:50.399Z"
   },
   {
    "duration": 4,
    "start_time": "2022-05-06T05:55:50.753Z"
   },
   {
    "duration": 28,
    "start_time": "2022-05-06T05:55:50.819Z"
   },
   {
    "duration": 24,
    "start_time": "2022-05-06T05:55:50.988Z"
   },
   {
    "duration": 14,
    "start_time": "2022-05-06T05:55:51.220Z"
   },
   {
    "duration": 30,
    "start_time": "2022-05-06T05:55:51.261Z"
   },
   {
    "duration": 15,
    "start_time": "2022-05-06T05:55:51.484Z"
   },
   {
    "duration": 5,
    "start_time": "2022-05-06T05:55:51.653Z"
   },
   {
    "duration": 16,
    "start_time": "2022-05-06T05:55:51.735Z"
   },
   {
    "duration": 16,
    "start_time": "2022-05-06T05:55:51.991Z"
   },
   {
    "duration": 17,
    "start_time": "2022-05-06T05:55:52.071Z"
   },
   {
    "duration": 28,
    "start_time": "2022-05-06T05:55:52.171Z"
   },
   {
    "duration": 49,
    "start_time": "2022-05-06T05:55:52.321Z"
   },
   {
    "duration": 17,
    "start_time": "2022-05-06T05:55:52.405Z"
   },
   {
    "duration": 6,
    "start_time": "2022-05-06T05:55:52.573Z"
   },
   {
    "duration": 7,
    "start_time": "2022-05-06T05:55:52.655Z"
   },
   {
    "duration": 6,
    "start_time": "2022-05-06T05:55:52.743Z"
   },
   {
    "duration": 6,
    "start_time": "2022-05-06T05:55:52.829Z"
   },
   {
    "duration": 7,
    "start_time": "2022-05-06T05:55:52.912Z"
   },
   {
    "duration": 14,
    "start_time": "2022-05-06T05:55:53.165Z"
   },
   {
    "duration": 14,
    "start_time": "2022-05-06T05:55:53.252Z"
   },
   {
    "duration": 21,
    "start_time": "2022-05-06T05:55:53.343Z"
   },
   {
    "duration": 3,
    "start_time": "2022-05-06T05:55:53.578Z"
   },
   {
    "duration": 8,
    "start_time": "2022-05-06T05:55:53.662Z"
   },
   {
    "duration": 14,
    "start_time": "2022-05-06T05:55:53.746Z"
   },
   {
    "duration": 3,
    "start_time": "2022-05-06T05:55:53.924Z"
   },
   {
    "duration": 600,
    "start_time": "2022-05-06T05:55:54.001Z"
   },
   {
    "duration": 7,
    "start_time": "2022-05-06T05:56:25.811Z"
   },
   {
    "duration": 8,
    "start_time": "2022-05-06T05:56:39.979Z"
   },
   {
    "duration": 29,
    "start_time": "2022-05-06T06:03:35.560Z"
   },
   {
    "duration": 8,
    "start_time": "2022-05-06T06:04:54.600Z"
   },
   {
    "duration": 15,
    "start_time": "2022-05-06T06:05:10.489Z"
   },
   {
    "duration": 11,
    "start_time": "2022-05-06T06:05:24.556Z"
   },
   {
    "duration": 13,
    "start_time": "2022-05-06T06:05:46.190Z"
   },
   {
    "duration": 14,
    "start_time": "2022-05-06T06:05:46.613Z"
   },
   {
    "duration": 3,
    "start_time": "2022-05-06T06:05:52.798Z"
   },
   {
    "duration": 54,
    "start_time": "2022-05-06T06:05:53.365Z"
   },
   {
    "duration": 20,
    "start_time": "2022-05-06T06:05:53.620Z"
   },
   {
    "duration": 15,
    "start_time": "2022-05-06T06:05:53.836Z"
   },
   {
    "duration": 11,
    "start_time": "2022-05-06T06:05:54.752Z"
   },
   {
    "duration": 4,
    "start_time": "2022-05-06T06:05:55.362Z"
   },
   {
    "duration": 4,
    "start_time": "2022-05-06T06:05:55.587Z"
   },
   {
    "duration": 5,
    "start_time": "2022-05-06T06:05:56.254Z"
   },
   {
    "duration": 11,
    "start_time": "2022-05-06T06:05:56.683Z"
   },
   {
    "duration": 4,
    "start_time": "2022-05-06T06:05:57.720Z"
   },
   {
    "duration": 23,
    "start_time": "2022-05-06T06:05:57.979Z"
   },
   {
    "duration": 22,
    "start_time": "2022-05-06T06:06:07.060Z"
   },
   {
    "duration": 9,
    "start_time": "2022-05-06T06:06:10.621Z"
   },
   {
    "duration": 27,
    "start_time": "2022-05-06T06:06:11.180Z"
   },
   {
    "duration": 14,
    "start_time": "2022-05-06T06:06:19.841Z"
   },
   {
    "duration": 4,
    "start_time": "2022-05-06T06:06:21.027Z"
   },
   {
    "duration": 15,
    "start_time": "2022-05-06T06:06:22.144Z"
   },
   {
    "duration": 15,
    "start_time": "2022-05-06T06:06:25.933Z"
   },
   {
    "duration": 16,
    "start_time": "2022-05-06T06:06:29.983Z"
   },
   {
    "duration": 28,
    "start_time": "2022-05-06T06:06:35.851Z"
   },
   {
    "duration": 47,
    "start_time": "2022-05-06T06:06:37.459Z"
   },
   {
    "duration": 17,
    "start_time": "2022-05-06T06:06:38.628Z"
   },
   {
    "duration": 14,
    "start_time": "2022-05-06T06:07:38.231Z"
   },
   {
    "duration": 6,
    "start_time": "2022-05-06T06:07:39.845Z"
   },
   {
    "duration": 6,
    "start_time": "2022-05-06T06:07:43.517Z"
   },
   {
    "duration": 8,
    "start_time": "2022-05-06T06:07:43.525Z"
   },
   {
    "duration": 2,
    "start_time": "2022-05-06T06:08:11.253Z"
   },
   {
    "duration": 56,
    "start_time": "2022-05-06T06:08:12.744Z"
   },
   {
    "duration": 19,
    "start_time": "2022-05-06T06:08:13.032Z"
   },
   {
    "duration": 15,
    "start_time": "2022-05-06T06:08:13.530Z"
   },
   {
    "duration": 11,
    "start_time": "2022-05-06T06:08:14.531Z"
   },
   {
    "duration": 4,
    "start_time": "2022-05-06T06:08:14.782Z"
   },
   {
    "duration": 3,
    "start_time": "2022-05-06T06:08:14.876Z"
   },
   {
    "duration": 4,
    "start_time": "2022-05-06T06:08:15.124Z"
   },
   {
    "duration": 10,
    "start_time": "2022-05-06T06:08:15.286Z"
   },
   {
    "duration": 4,
    "start_time": "2022-05-06T06:08:15.925Z"
   },
   {
    "duration": 22,
    "start_time": "2022-05-06T06:08:16.177Z"
   },
   {
    "duration": 23,
    "start_time": "2022-05-06T06:08:16.820Z"
   },
   {
    "duration": 11,
    "start_time": "2022-05-06T06:08:19.300Z"
   },
   {
    "duration": 24,
    "start_time": "2022-05-06T06:08:19.472Z"
   },
   {
    "duration": 15,
    "start_time": "2022-05-06T06:08:20.856Z"
   },
   {
    "duration": 5,
    "start_time": "2022-05-06T06:08:21.889Z"
   },
   {
    "duration": 15,
    "start_time": "2022-05-06T06:08:22.464Z"
   },
   {
    "duration": 16,
    "start_time": "2022-05-06T06:08:23.420Z"
   },
   {
    "duration": 17,
    "start_time": "2022-05-06T06:08:24.483Z"
   },
   {
    "duration": 27,
    "start_time": "2022-05-06T06:08:24.955Z"
   },
   {
    "duration": 48,
    "start_time": "2022-05-06T06:08:27.099Z"
   },
   {
    "duration": 23,
    "start_time": "2022-05-06T06:08:28.453Z"
   },
   {
    "duration": 7,
    "start_time": "2022-05-06T06:08:30.223Z"
   },
   {
    "duration": 7,
    "start_time": "2022-05-06T06:08:33.320Z"
   },
   {
    "duration": 7,
    "start_time": "2022-05-06T06:08:33.836Z"
   },
   {
    "duration": 7,
    "start_time": "2022-05-06T06:08:34.465Z"
   },
   {
    "duration": 7,
    "start_time": "2022-05-06T06:08:35.995Z"
   },
   {
    "duration": 15,
    "start_time": "2022-05-06T06:08:40.640Z"
   },
   {
    "duration": 15,
    "start_time": "2022-05-06T06:08:46.798Z"
   },
   {
    "duration": 20,
    "start_time": "2022-05-06T06:08:49.444Z"
   },
   {
    "duration": 3,
    "start_time": "2022-05-06T06:08:57.137Z"
   },
   {
    "duration": 9,
    "start_time": "2022-05-06T06:08:57.773Z"
   },
   {
    "duration": 14,
    "start_time": "2022-05-06T06:08:58.383Z"
   },
   {
    "duration": 3,
    "start_time": "2022-05-06T06:09:01.004Z"
   },
   {
    "duration": 607,
    "start_time": "2022-05-06T06:09:01.790Z"
   },
   {
    "duration": 5,
    "start_time": "2022-05-06T06:09:04.220Z"
   },
   {
    "duration": 32,
    "start_time": "2022-05-06T06:09:07.262Z"
   },
   {
    "duration": 120,
    "start_time": "2022-05-10T16:00:42.853Z"
   },
   {
    "duration": 705,
    "start_time": "2022-05-10T16:00:52.107Z"
   },
   {
    "duration": 117,
    "start_time": "2022-05-10T16:00:52.815Z"
   },
   {
    "duration": 64,
    "start_time": "2022-05-10T16:00:53.237Z"
   },
   {
    "duration": 24,
    "start_time": "2022-05-10T16:00:53.343Z"
   },
   {
    "duration": 14,
    "start_time": "2022-05-10T16:00:53.595Z"
   },
   {
    "duration": 6,
    "start_time": "2022-05-10T16:00:53.824Z"
   },
   {
    "duration": 6,
    "start_time": "2022-05-10T16:00:53.914Z"
   },
   {
    "duration": 8,
    "start_time": "2022-05-10T16:00:54.165Z"
   },
   {
    "duration": 13,
    "start_time": "2022-05-10T16:00:54.337Z"
   },
   {
    "duration": 5,
    "start_time": "2022-05-10T16:00:54.660Z"
   },
   {
    "duration": 38,
    "start_time": "2022-05-10T16:00:54.755Z"
   },
   {
    "duration": 43,
    "start_time": "2022-05-10T16:00:54.915Z"
   },
   {
    "duration": 19,
    "start_time": "2022-05-10T16:00:55.084Z"
   },
   {
    "duration": 42,
    "start_time": "2022-05-10T16:00:55.178Z"
   },
   {
    "duration": 20,
    "start_time": "2022-05-10T16:00:55.433Z"
   },
   {
    "duration": 7,
    "start_time": "2022-05-10T16:00:55.614Z"
   },
   {
    "duration": 26,
    "start_time": "2022-05-10T16:00:55.669Z"
   },
   {
    "duration": 38,
    "start_time": "2022-05-10T16:00:55.927Z"
   },
   {
    "duration": 27,
    "start_time": "2022-05-10T16:00:56.002Z"
   },
   {
    "duration": 48,
    "start_time": "2022-05-10T16:00:56.103Z"
   },
   {
    "duration": 121,
    "start_time": "2022-05-10T16:00:56.266Z"
   },
   {
    "duration": 57,
    "start_time": "2022-05-10T16:00:56.391Z"
   },
   {
    "duration": 14,
    "start_time": "2022-05-10T16:00:56.502Z"
   },
   {
    "duration": 14,
    "start_time": "2022-05-10T16:00:56.603Z"
   },
   {
    "duration": 14,
    "start_time": "2022-05-10T16:00:56.681Z"
   },
   {
    "duration": 14,
    "start_time": "2022-05-10T16:00:56.754Z"
   },
   {
    "duration": 10,
    "start_time": "2022-05-10T16:00:56.870Z"
   },
   {
    "duration": 26,
    "start_time": "2022-05-10T16:00:57.098Z"
   },
   {
    "duration": 20,
    "start_time": "2022-05-10T16:00:57.170Z"
   },
   {
    "duration": 41,
    "start_time": "2022-05-10T16:00:57.279Z"
   },
   {
    "duration": 6,
    "start_time": "2022-05-10T16:00:57.541Z"
   },
   {
    "duration": 16,
    "start_time": "2022-05-10T16:00:57.619Z"
   },
   {
    "duration": 38,
    "start_time": "2022-05-10T16:00:57.694Z"
   },
   {
    "duration": 7,
    "start_time": "2022-05-10T16:00:57.845Z"
   },
   {
    "duration": 613,
    "start_time": "2022-05-10T16:00:57.933Z"
   },
   {
    "duration": 0,
    "start_time": "2022-05-10T16:00:58.549Z"
   },
   {
    "duration": 0,
    "start_time": "2022-05-10T16:00:58.551Z"
   },
   {
    "duration": 116,
    "start_time": "2022-05-10T16:00:58.719Z"
   },
   {
    "duration": 5,
    "start_time": "2022-05-10T16:01:06.211Z"
   },
   {
    "duration": 51,
    "start_time": "2022-05-10T16:01:06.892Z"
   },
   {
    "duration": 100,
    "start_time": "2022-05-10T16:01:12.298Z"
   },
   {
    "duration": 331,
    "start_time": "2022-05-10T16:02:17.031Z"
   },
   {
    "duration": 24,
    "start_time": "2022-05-10T16:02:24.189Z"
   },
   {
    "duration": 29,
    "start_time": "2022-05-10T16:02:37.929Z"
   },
   {
    "duration": 6,
    "start_time": "2022-05-10T17:37:51.052Z"
   },
   {
    "duration": 27,
    "start_time": "2022-05-10T17:37:56.313Z"
   },
   {
    "duration": 23,
    "start_time": "2022-05-10T17:38:57.349Z"
   },
   {
    "duration": 16,
    "start_time": "2022-05-10T17:41:24.581Z"
   },
   {
    "duration": 30,
    "start_time": "2022-05-10T17:41:33.102Z"
   },
   {
    "duration": 35,
    "start_time": "2022-05-10T17:42:38.488Z"
   },
   {
    "duration": 30,
    "start_time": "2022-05-10T17:43:53.804Z"
   },
   {
    "duration": 35,
    "start_time": "2022-05-10T17:47:44.103Z"
   },
   {
    "duration": 29,
    "start_time": "2022-05-10T17:48:08.861Z"
   },
   {
    "duration": 24,
    "start_time": "2022-05-10T17:49:59.528Z"
   },
   {
    "duration": 22,
    "start_time": "2022-05-10T17:51:37.186Z"
   },
   {
    "duration": 17,
    "start_time": "2022-05-10T17:51:39.882Z"
   },
   {
    "duration": 21,
    "start_time": "2022-05-10T17:52:17.208Z"
   },
   {
    "duration": 25,
    "start_time": "2022-05-10T17:52:40.975Z"
   },
   {
    "duration": 26,
    "start_time": "2022-05-10T17:53:53.301Z"
   },
   {
    "duration": 22,
    "start_time": "2022-05-10T17:55:10.834Z"
   },
   {
    "duration": 98,
    "start_time": "2022-05-10T17:58:16.149Z"
   },
   {
    "duration": 30,
    "start_time": "2022-05-10T17:58:22.696Z"
   },
   {
    "duration": 24,
    "start_time": "2022-05-10T17:59:06.432Z"
   },
   {
    "duration": 25,
    "start_time": "2022-05-10T17:59:31.591Z"
   },
   {
    "duration": 22,
    "start_time": "2022-05-10T17:59:47.687Z"
   },
   {
    "duration": 32,
    "start_time": "2022-05-10T17:59:59.968Z"
   },
   {
    "duration": 43,
    "start_time": "2022-05-10T18:00:27.759Z"
   },
   {
    "duration": 32,
    "start_time": "2022-05-10T18:08:00.798Z"
   },
   {
    "duration": 33,
    "start_time": "2022-05-10T18:08:10.637Z"
   },
   {
    "duration": 102,
    "start_time": "2022-05-10T18:10:00.693Z"
   },
   {
    "duration": 32,
    "start_time": "2022-05-10T18:14:44.501Z"
   },
   {
    "duration": 15,
    "start_time": "2022-05-10T18:23:18.807Z"
   },
   {
    "duration": 46,
    "start_time": "2022-05-10T18:24:00.278Z"
   },
   {
    "duration": 31,
    "start_time": "2022-05-10T18:25:10.510Z"
   },
   {
    "duration": 10,
    "start_time": "2022-05-10T18:34:16.928Z"
   },
   {
    "duration": 5,
    "start_time": "2022-05-10T18:34:29.112Z"
   },
   {
    "duration": 83,
    "start_time": "2022-05-10T18:34:29.586Z"
   },
   {
    "duration": 37,
    "start_time": "2022-05-10T18:34:29.877Z"
   },
   {
    "duration": 29,
    "start_time": "2022-05-10T18:34:30.169Z"
   },
   {
    "duration": 21,
    "start_time": "2022-05-10T18:34:32.994Z"
   },
   {
    "duration": 7,
    "start_time": "2022-05-10T18:34:34.379Z"
   },
   {
    "duration": 6,
    "start_time": "2022-05-10T18:34:34.803Z"
   },
   {
    "duration": 6,
    "start_time": "2022-05-10T18:34:36.210Z"
   },
   {
    "duration": 15,
    "start_time": "2022-05-10T18:34:37.054Z"
   },
   {
    "duration": 5,
    "start_time": "2022-05-10T18:34:39.617Z"
   },
   {
    "duration": 42,
    "start_time": "2022-05-10T18:34:40.092Z"
   },
   {
    "duration": 39,
    "start_time": "2022-05-10T18:34:41.032Z"
   },
   {
    "duration": 15,
    "start_time": "2022-05-10T18:34:42.229Z"
   },
   {
    "duration": 43,
    "start_time": "2022-05-10T18:34:42.797Z"
   },
   {
    "duration": 5,
    "start_time": "2022-05-10T18:34:46.783Z"
   },
   {
    "duration": 12,
    "start_time": "2022-05-10T18:34:47.365Z"
   },
   {
    "duration": 28,
    "start_time": "2022-05-10T18:34:48.981Z"
   },
   {
    "duration": 5,
    "start_time": "2022-05-10T18:34:50.171Z"
   },
   {
    "duration": 34,
    "start_time": "2022-05-10T18:34:50.747Z"
   },
   {
    "duration": 29,
    "start_time": "2022-05-10T18:34:53.163Z"
   },
   {
    "duration": 35,
    "start_time": "2022-05-10T18:34:53.895Z"
   },
   {
    "duration": 64,
    "start_time": "2022-05-10T18:34:54.505Z"
   },
   {
    "duration": 116,
    "start_time": "2022-05-10T18:34:57.565Z"
   },
   {
    "duration": 50,
    "start_time": "2022-05-10T18:34:58.149Z"
   },
   {
    "duration": 9,
    "start_time": "2022-05-10T18:34:59.015Z"
   },
   {
    "duration": 9,
    "start_time": "2022-05-10T18:34:59.838Z"
   },
   {
    "duration": 10,
    "start_time": "2022-05-10T18:35:00.353Z"
   },
   {
    "duration": 11,
    "start_time": "2022-05-10T18:35:01.323Z"
   },
   {
    "duration": 11,
    "start_time": "2022-05-10T18:35:03.952Z"
   },
   {
    "duration": 26,
    "start_time": "2022-05-10T18:35:06.631Z"
   },
   {
    "duration": 37,
    "start_time": "2022-05-10T18:35:06.660Z"
   },
   {
    "duration": 48,
    "start_time": "2022-05-10T18:35:07.849Z"
   },
   {
    "duration": 7,
    "start_time": "2022-05-10T18:35:09.646Z"
   },
   {
    "duration": 18,
    "start_time": "2022-05-10T18:35:10.234Z"
   },
   {
    "duration": 38,
    "start_time": "2022-05-10T18:35:10.744Z"
   },
   {
    "duration": 5,
    "start_time": "2022-05-10T18:35:11.703Z"
   },
   {
    "duration": 450,
    "start_time": "2022-05-10T18:35:12.268Z"
   },
   {
    "duration": 6,
    "start_time": "2022-05-10T18:35:14.006Z"
   },
   {
    "duration": 55,
    "start_time": "2022-05-10T18:35:14.660Z"
   },
   {
    "duration": 49,
    "start_time": "2022-05-10T18:35:17.698Z"
   },
   {
    "duration": 44,
    "start_time": "2022-05-10T18:35:22.458Z"
   },
   {
    "duration": 39,
    "start_time": "2022-05-10T18:40:39.086Z"
   },
   {
    "duration": 31,
    "start_time": "2022-05-10T18:40:48.734Z"
   },
   {
    "duration": 12,
    "start_time": "2022-05-10T18:45:13.728Z"
   },
   {
    "duration": 21,
    "start_time": "2022-05-10T18:45:22.110Z"
   },
   {
    "duration": 29,
    "start_time": "2022-05-10T18:46:03.307Z"
   },
   {
    "duration": 34,
    "start_time": "2022-05-10T18:47:04.591Z"
   },
   {
    "duration": 33,
    "start_time": "2022-05-10T18:54:53.513Z"
   },
   {
    "duration": 33,
    "start_time": "2022-05-10T18:55:23.735Z"
   },
   {
    "duration": 31,
    "start_time": "2022-05-10T18:55:42.595Z"
   },
   {
    "duration": 473,
    "start_time": "2022-05-11T08:37:27.403Z"
   },
   {
    "duration": 97,
    "start_time": "2022-05-11T08:37:27.879Z"
   },
   {
    "duration": 34,
    "start_time": "2022-05-11T08:37:27.978Z"
   },
   {
    "duration": 20,
    "start_time": "2022-05-11T08:37:28.014Z"
   },
   {
    "duration": 15,
    "start_time": "2022-05-11T08:37:28.037Z"
   },
   {
    "duration": 4,
    "start_time": "2022-05-11T08:37:28.054Z"
   },
   {
    "duration": 10,
    "start_time": "2022-05-11T08:37:28.060Z"
   },
   {
    "duration": 33,
    "start_time": "2022-05-11T08:37:28.071Z"
   },
   {
    "duration": 15,
    "start_time": "2022-05-11T08:37:28.106Z"
   },
   {
    "duration": 4,
    "start_time": "2022-05-11T08:37:28.122Z"
   },
   {
    "duration": 23,
    "start_time": "2022-05-11T08:37:28.128Z"
   },
   {
    "duration": 47,
    "start_time": "2022-05-11T08:37:28.153Z"
   },
   {
    "duration": 10,
    "start_time": "2022-05-11T08:37:28.202Z"
   },
   {
    "duration": 27,
    "start_time": "2022-05-11T08:37:28.215Z"
   },
   {
    "duration": 3,
    "start_time": "2022-05-11T08:37:28.243Z"
   },
   {
    "duration": 10,
    "start_time": "2022-05-11T08:37:28.248Z"
   },
   {
    "duration": 40,
    "start_time": "2022-05-11T08:37:28.260Z"
   },
   {
    "duration": 5,
    "start_time": "2022-05-11T08:37:28.302Z"
   },
   {
    "duration": 28,
    "start_time": "2022-05-11T08:37:28.309Z"
   },
   {
    "duration": 17,
    "start_time": "2022-05-11T08:37:28.338Z"
   },
   {
    "duration": 17,
    "start_time": "2022-05-11T08:37:28.357Z"
   },
   {
    "duration": 50,
    "start_time": "2022-05-11T08:37:28.375Z"
   },
   {
    "duration": 47,
    "start_time": "2022-05-11T08:37:28.427Z"
   },
   {
    "duration": 49,
    "start_time": "2022-05-11T08:37:28.476Z"
   },
   {
    "duration": 9,
    "start_time": "2022-05-11T08:37:28.528Z"
   },
   {
    "duration": 11,
    "start_time": "2022-05-11T08:37:28.538Z"
   },
   {
    "duration": 10,
    "start_time": "2022-05-11T08:37:28.551Z"
   },
   {
    "duration": 10,
    "start_time": "2022-05-11T08:37:28.563Z"
   },
   {
    "duration": 28,
    "start_time": "2022-05-11T08:37:28.574Z"
   },
   {
    "duration": 21,
    "start_time": "2022-05-11T08:37:28.604Z"
   },
   {
    "duration": 14,
    "start_time": "2022-05-11T08:37:28.627Z"
   },
   {
    "duration": 24,
    "start_time": "2022-05-11T08:37:28.643Z"
   },
   {
    "duration": 33,
    "start_time": "2022-05-11T08:37:28.668Z"
   },
   {
    "duration": 10,
    "start_time": "2022-05-11T08:37:28.702Z"
   },
   {
    "duration": 26,
    "start_time": "2022-05-11T08:37:28.713Z"
   },
   {
    "duration": 6,
    "start_time": "2022-05-11T08:37:28.740Z"
   },
   {
    "duration": 1002,
    "start_time": "2022-05-11T08:37:28.748Z"
   },
   {
    "duration": 0,
    "start_time": "2022-05-11T08:37:29.752Z"
   },
   {
    "duration": 0,
    "start_time": "2022-05-11T08:37:29.754Z"
   },
   {
    "duration": 0,
    "start_time": "2022-05-11T08:37:29.755Z"
   },
   {
    "duration": 0,
    "start_time": "2022-05-11T08:37:29.756Z"
   },
   {
    "duration": 0,
    "start_time": "2022-05-11T08:37:29.757Z"
   },
   {
    "duration": 0,
    "start_time": "2022-05-11T08:37:29.758Z"
   },
   {
    "duration": 6,
    "start_time": "2022-05-11T08:42:30.156Z"
   },
   {
    "duration": 17,
    "start_time": "2022-05-11T08:42:55.547Z"
   },
   {
    "duration": 4,
    "start_time": "2022-05-11T08:45:22.714Z"
   },
   {
    "duration": 30,
    "start_time": "2022-05-11T08:45:22.829Z"
   },
   {
    "duration": 24,
    "start_time": "2022-05-11T08:45:26.122Z"
   },
   {
    "duration": 20,
    "start_time": "2022-05-11T08:45:26.148Z"
   },
   {
    "duration": 18,
    "start_time": "2022-05-11T08:45:26.169Z"
   },
   {
    "duration": 22,
    "start_time": "2022-05-11T08:45:26.189Z"
   },
   {
    "duration": 11,
    "start_time": "2022-05-11T08:46:10.964Z"
   },
   {
    "duration": 13,
    "start_time": "2022-05-11T08:47:16.952Z"
   },
   {
    "duration": 76,
    "start_time": "2022-05-11T14:27:31.841Z"
   },
   {
    "duration": 541,
    "start_time": "2022-05-11T14:27:39.958Z"
   },
   {
    "duration": 75,
    "start_time": "2022-05-11T14:27:40.502Z"
   },
   {
    "duration": 39,
    "start_time": "2022-05-11T14:27:41.327Z"
   },
   {
    "duration": 21,
    "start_time": "2022-05-11T14:27:42.376Z"
   },
   {
    "duration": 14,
    "start_time": "2022-05-11T14:27:44.023Z"
   },
   {
    "duration": 5,
    "start_time": "2022-05-11T14:27:45.473Z"
   },
   {
    "duration": 7,
    "start_time": "2022-05-11T14:27:45.935Z"
   },
   {
    "duration": 6,
    "start_time": "2022-05-11T14:27:47.605Z"
   },
   {
    "duration": 12,
    "start_time": "2022-05-11T14:27:48.364Z"
   },
   {
    "duration": 5,
    "start_time": "2022-05-11T14:27:49.978Z"
   },
   {
    "duration": 36,
    "start_time": "2022-05-11T14:27:50.339Z"
   },
   {
    "duration": 37,
    "start_time": "2022-05-11T14:27:51.323Z"
   },
   {
    "duration": 18,
    "start_time": "2022-05-11T14:27:52.493Z"
   },
   {
    "duration": 43,
    "start_time": "2022-05-11T14:27:53.041Z"
   },
   {
    "duration": 4,
    "start_time": "2022-05-11T14:27:54.323Z"
   },
   {
    "duration": 11,
    "start_time": "2022-05-11T14:27:54.744Z"
   },
   {
    "duration": 10,
    "start_time": "2022-05-11T14:27:58.370Z"
   },
   {
    "duration": 10,
    "start_time": "2022-05-11T14:28:55.685Z"
   },
   {
    "duration": 7,
    "start_time": "2022-05-11T14:34:17.597Z"
   },
   {
    "duration": 7,
    "start_time": "2022-05-11T14:36:44.677Z"
   },
   {
    "duration": 20,
    "start_time": "2022-05-11T14:36:51.782Z"
   },
   {
    "duration": 6,
    "start_time": "2022-05-11T14:36:55.233Z"
   },
   {
    "duration": 20,
    "start_time": "2022-05-11T14:36:55.526Z"
   },
   {
    "duration": 25,
    "start_time": "2022-05-11T14:36:56.487Z"
   },
   {
    "duration": 24,
    "start_time": "2022-05-11T14:36:56.937Z"
   },
   {
    "duration": 39,
    "start_time": "2022-05-11T14:36:57.638Z"
   },
   {
    "duration": 65,
    "start_time": "2022-05-11T14:37:01.792Z"
   },
   {
    "duration": 31,
    "start_time": "2022-05-11T14:37:02.174Z"
   },
   {
    "duration": 13,
    "start_time": "2022-05-11T14:37:03.593Z"
   },
   {
    "duration": 9,
    "start_time": "2022-05-11T14:37:04.432Z"
   },
   {
    "duration": 9,
    "start_time": "2022-05-11T14:37:05.012Z"
   },
   {
    "duration": 10,
    "start_time": "2022-05-11T14:37:05.436Z"
   },
   {
    "duration": 10,
    "start_time": "2022-05-11T14:37:07.274Z"
   },
   {
    "duration": 21,
    "start_time": "2022-05-11T14:37:10.522Z"
   },
   {
    "duration": 58,
    "start_time": "2022-05-11T14:38:17.569Z"
   },
   {
    "duration": 24,
    "start_time": "2022-05-11T14:38:58.265Z"
   },
   {
    "duration": 24,
    "start_time": "2022-05-11T14:39:03.308Z"
   },
   {
    "duration": 19,
    "start_time": "2022-05-11T14:39:42.098Z"
   },
   {
    "duration": 21,
    "start_time": "2022-05-11T14:41:01.390Z"
   },
   {
    "duration": 33,
    "start_time": "2022-05-11T14:41:06.499Z"
   },
   {
    "duration": 4,
    "start_time": "2022-05-11T14:41:08.632Z"
   },
   {
    "duration": 12,
    "start_time": "2022-05-11T14:41:09.168Z"
   },
   {
    "duration": 21,
    "start_time": "2022-05-11T14:41:09.826Z"
   },
   {
    "duration": 5,
    "start_time": "2022-05-11T14:41:10.849Z"
   },
   {
    "duration": 1504,
    "start_time": "2022-05-11T14:41:18.135Z"
   },
   {
    "duration": 3,
    "start_time": "2022-05-11T14:41:48.777Z"
   },
   {
    "duration": 6,
    "start_time": "2022-05-11T14:41:53.251Z"
   },
   {
    "duration": 45,
    "start_time": "2022-05-11T14:41:54.141Z"
   },
   {
    "duration": 35,
    "start_time": "2022-05-11T14:41:58.012Z"
   },
   {
    "duration": 18,
    "start_time": "2022-05-11T14:42:00.239Z"
   },
   {
    "duration": 31,
    "start_time": "2022-05-11T14:42:04.824Z"
   },
   {
    "duration": 29,
    "start_time": "2022-05-11T14:42:09.825Z"
   },
   {
    "duration": 30,
    "start_time": "2022-05-11T14:42:12.086Z"
   },
   {
    "duration": 383,
    "start_time": "2022-05-12T09:11:08.120Z"
   },
   {
    "duration": 60,
    "start_time": "2022-05-12T09:11:08.505Z"
   },
   {
    "duration": 34,
    "start_time": "2022-05-12T09:11:08.567Z"
   },
   {
    "duration": 17,
    "start_time": "2022-05-12T09:11:08.603Z"
   },
   {
    "duration": 11,
    "start_time": "2022-05-12T09:11:08.622Z"
   },
   {
    "duration": 5,
    "start_time": "2022-05-12T09:11:08.634Z"
   },
   {
    "duration": 7,
    "start_time": "2022-05-12T09:11:08.640Z"
   },
   {
    "duration": 6,
    "start_time": "2022-05-12T09:11:08.649Z"
   },
   {
    "duration": 11,
    "start_time": "2022-05-12T09:11:08.689Z"
   },
   {
    "duration": 6,
    "start_time": "2022-05-12T09:11:08.702Z"
   },
   {
    "duration": 28,
    "start_time": "2022-05-12T09:11:08.710Z"
   },
   {
    "duration": 50,
    "start_time": "2022-05-12T09:11:08.739Z"
   },
   {
    "duration": 13,
    "start_time": "2022-05-12T09:11:08.791Z"
   },
   {
    "duration": 30,
    "start_time": "2022-05-12T09:11:08.806Z"
   },
   {
    "duration": 3,
    "start_time": "2022-05-12T09:11:08.838Z"
   },
   {
    "duration": 18,
    "start_time": "2022-05-12T09:11:08.843Z"
   },
   {
    "duration": 6,
    "start_time": "2022-05-12T09:11:16.647Z"
   },
   {
    "duration": 7,
    "start_time": "2022-05-12T09:13:28.073Z"
   },
   {
    "duration": 25,
    "start_time": "2022-05-12T09:14:25.399Z"
   },
   {
    "duration": 1010,
    "start_time": "2022-05-12T09:15:16.650Z"
   },
   {
    "duration": 7,
    "start_time": "2022-05-12T09:15:51.123Z"
   },
   {
    "duration": 91,
    "start_time": "2022-05-12T10:19:31.920Z"
   },
   {
    "duration": 594,
    "start_time": "2022-05-12T10:19:56.930Z"
   },
   {
    "duration": 222,
    "start_time": "2022-05-12T10:19:57.527Z"
   },
   {
    "duration": 62,
    "start_time": "2022-05-12T10:19:58.339Z"
   },
   {
    "duration": 23,
    "start_time": "2022-05-12T10:19:58.873Z"
   },
   {
    "duration": 19,
    "start_time": "2022-05-12T10:20:00.577Z"
   },
   {
    "duration": 6,
    "start_time": "2022-05-12T10:20:02.025Z"
   },
   {
    "duration": 6,
    "start_time": "2022-05-12T10:20:02.396Z"
   },
   {
    "duration": 7,
    "start_time": "2022-05-12T10:20:03.740Z"
   },
   {
    "duration": 19,
    "start_time": "2022-05-12T10:20:04.690Z"
   },
   {
    "duration": 6,
    "start_time": "2022-05-12T10:20:05.868Z"
   },
   {
    "duration": 37,
    "start_time": "2022-05-12T10:20:06.190Z"
   },
   {
    "duration": 57,
    "start_time": "2022-05-12T10:20:06.839Z"
   },
   {
    "duration": 18,
    "start_time": "2022-05-12T10:20:07.818Z"
   },
   {
    "duration": 43,
    "start_time": "2022-05-12T10:20:08.200Z"
   },
   {
    "duration": 5,
    "start_time": "2022-05-12T10:20:10.743Z"
   },
   {
    "duration": 85,
    "start_time": "2022-05-12T10:20:11.348Z"
   },
   {
    "duration": 37,
    "start_time": "2022-05-12T10:20:43.111Z"
   },
   {
    "duration": 29,
    "start_time": "2022-05-12T10:22:30.881Z"
   },
   {
    "duration": 8,
    "start_time": "2022-05-12T10:22:33.436Z"
   },
   {
    "duration": 12,
    "start_time": "2022-05-12T10:22:35.149Z"
   },
   {
    "duration": 50,
    "start_time": "2022-05-12T10:22:37.165Z"
   },
   {
    "duration": 10,
    "start_time": "2022-05-12T10:22:40.509Z"
   },
   {
    "duration": 10,
    "start_time": "2022-05-12T10:23:19.201Z"
   },
   {
    "duration": 7,
    "start_time": "2022-05-12T10:23:21.785Z"
   },
   {
    "duration": 19,
    "start_time": "2022-05-12T10:27:46.228Z"
   },
   {
    "duration": 31,
    "start_time": "2022-05-12T10:29:35.272Z"
   },
   {
    "duration": 9,
    "start_time": "2022-05-12T10:30:16.993Z"
   },
   {
    "duration": 9,
    "start_time": "2022-05-12T10:30:32.025Z"
   },
   {
    "duration": 12,
    "start_time": "2022-05-12T10:30:42.674Z"
   },
   {
    "duration": 595,
    "start_time": "2022-05-12T10:30:57.434Z"
   },
   {
    "duration": 90,
    "start_time": "2022-05-12T10:30:58.032Z"
   },
   {
    "duration": 69,
    "start_time": "2022-05-12T10:30:58.124Z"
   },
   {
    "duration": 21,
    "start_time": "2022-05-12T10:30:58.196Z"
   },
   {
    "duration": 34,
    "start_time": "2022-05-12T10:30:58.220Z"
   },
   {
    "duration": 8,
    "start_time": "2022-05-12T10:30:58.256Z"
   },
   {
    "duration": 19,
    "start_time": "2022-05-12T10:30:58.267Z"
   },
   {
    "duration": 8,
    "start_time": "2022-05-12T10:30:58.289Z"
   },
   {
    "duration": 52,
    "start_time": "2022-05-12T10:30:58.301Z"
   },
   {
    "duration": 8,
    "start_time": "2022-05-12T10:30:58.359Z"
   },
   {
    "duration": 53,
    "start_time": "2022-05-12T10:30:58.369Z"
   },
   {
    "duration": 83,
    "start_time": "2022-05-12T10:30:58.425Z"
   },
   {
    "duration": 20,
    "start_time": "2022-05-12T10:30:58.510Z"
   },
   {
    "duration": 56,
    "start_time": "2022-05-12T10:30:58.532Z"
   },
   {
    "duration": 5,
    "start_time": "2022-05-12T10:30:58.591Z"
   },
   {
    "duration": 24,
    "start_time": "2022-05-12T10:30:58.598Z"
   },
   {
    "duration": 7,
    "start_time": "2022-05-12T10:30:58.624Z"
   },
   {
    "duration": 41,
    "start_time": "2022-05-12T10:30:58.632Z"
   },
   {
    "duration": 50,
    "start_time": "2022-05-12T10:30:58.675Z"
   },
   {
    "duration": 26,
    "start_time": "2022-05-12T10:30:58.727Z"
   },
   {
    "duration": 23,
    "start_time": "2022-05-12T10:30:58.758Z"
   },
   {
    "duration": 25,
    "start_time": "2022-05-12T10:30:58.784Z"
   },
   {
    "duration": 6,
    "start_time": "2022-05-12T10:30:58.811Z"
   },
   {
    "duration": 55,
    "start_time": "2022-05-12T10:30:58.819Z"
   },
   {
    "duration": 36,
    "start_time": "2022-05-12T10:30:58.877Z"
   },
   {
    "duration": 54,
    "start_time": "2022-05-12T10:30:58.916Z"
   },
   {
    "duration": 51,
    "start_time": "2022-05-12T10:30:58.972Z"
   },
   {
    "duration": 145,
    "start_time": "2022-05-12T10:30:59.029Z"
   },
   {
    "duration": 36,
    "start_time": "2022-05-12T10:30:59.177Z"
   },
   {
    "duration": 10,
    "start_time": "2022-05-12T10:30:59.215Z"
   },
   {
    "duration": 60,
    "start_time": "2022-05-12T10:30:59.227Z"
   },
   {
    "duration": 20,
    "start_time": "2022-05-12T10:30:59.289Z"
   },
   {
    "duration": 26,
    "start_time": "2022-05-12T10:30:59.312Z"
   },
   {
    "duration": 30,
    "start_time": "2022-05-12T10:30:59.340Z"
   },
   {
    "duration": 42,
    "start_time": "2022-05-12T10:30:59.373Z"
   },
   {
    "duration": 24,
    "start_time": "2022-05-12T10:30:59.418Z"
   },
   {
    "duration": 77,
    "start_time": "2022-05-12T10:30:59.444Z"
   },
   {
    "duration": 16,
    "start_time": "2022-05-12T10:30:59.524Z"
   },
   {
    "duration": 51,
    "start_time": "2022-05-12T10:30:59.542Z"
   },
   {
    "duration": 42,
    "start_time": "2022-05-12T10:30:59.595Z"
   },
   {
    "duration": 34,
    "start_time": "2022-05-12T10:30:59.640Z"
   },
   {
    "duration": 35,
    "start_time": "2022-05-12T10:30:59.678Z"
   },
   {
    "duration": 45,
    "start_time": "2022-05-12T10:30:59.715Z"
   },
   {
    "duration": 76,
    "start_time": "2022-05-12T10:30:59.763Z"
   },
   {
    "duration": 43,
    "start_time": "2022-05-12T10:30:59.841Z"
   },
   {
    "duration": 24,
    "start_time": "2022-05-12T10:30:59.887Z"
   },
   {
    "duration": 69,
    "start_time": "2022-05-12T10:30:59.913Z"
   },
   {
    "duration": 33,
    "start_time": "2022-05-12T10:30:59.985Z"
   },
   {
    "duration": 62,
    "start_time": "2022-05-12T10:31:00.021Z"
   },
   {
    "duration": 133,
    "start_time": "2022-05-12T10:33:45.001Z"
   },
   {
    "duration": 4,
    "start_time": "2022-05-12T10:33:55.836Z"
   },
   {
    "duration": 84,
    "start_time": "2022-05-12T10:33:56.353Z"
   },
   {
    "duration": 32,
    "start_time": "2022-05-12T10:33:56.679Z"
   },
   {
    "duration": 21,
    "start_time": "2022-05-12T10:33:57.007Z"
   },
   {
    "duration": 23,
    "start_time": "2022-05-12T10:33:58.266Z"
   },
   {
    "duration": 6,
    "start_time": "2022-05-12T10:33:59.433Z"
   },
   {
    "duration": 6,
    "start_time": "2022-05-12T10:33:59.725Z"
   },
   {
    "duration": 8,
    "start_time": "2022-05-12T10:34:00.875Z"
   },
   {
    "duration": 23,
    "start_time": "2022-05-12T10:34:01.574Z"
   },
   {
    "duration": 5,
    "start_time": "2022-05-12T10:34:02.918Z"
   },
   {
    "duration": 37,
    "start_time": "2022-05-12T10:34:03.192Z"
   },
   {
    "duration": 48,
    "start_time": "2022-05-12T10:34:03.945Z"
   },
   {
    "duration": 16,
    "start_time": "2022-05-12T10:34:04.708Z"
   },
   {
    "duration": 43,
    "start_time": "2022-05-12T10:34:04.875Z"
   },
   {
    "duration": 5,
    "start_time": "2022-05-12T10:34:05.415Z"
   },
   {
    "duration": 28,
    "start_time": "2022-05-12T10:34:06.008Z"
   },
   {
    "duration": 7,
    "start_time": "2022-05-12T10:34:08.209Z"
   },
   {
    "duration": 12,
    "start_time": "2022-05-12T10:34:09.659Z"
   },
   {
    "duration": 43,
    "start_time": "2022-05-12T10:34:10.776Z"
   },
   {
    "duration": 19,
    "start_time": "2022-05-12T10:34:14.451Z"
   },
   {
    "duration": 15,
    "start_time": "2022-05-12T10:34:27.324Z"
   },
   {
    "duration": 1671,
    "start_time": "2022-05-12T10:37:05.378Z"
   },
   {
    "duration": 2666,
    "start_time": "2022-05-12T10:37:32.638Z"
   },
   {
    "duration": 530,
    "start_time": "2022-05-12T10:37:49.606Z"
   },
   {
    "duration": 83,
    "start_time": "2022-05-12T10:37:50.139Z"
   },
   {
    "duration": 66,
    "start_time": "2022-05-12T10:37:50.224Z"
   },
   {
    "duration": 20,
    "start_time": "2022-05-12T10:37:50.292Z"
   },
   {
    "duration": 12,
    "start_time": "2022-05-12T10:37:50.315Z"
   },
   {
    "duration": 10,
    "start_time": "2022-05-12T10:37:50.353Z"
   },
   {
    "duration": 10,
    "start_time": "2022-05-12T10:37:50.366Z"
   },
   {
    "duration": 12,
    "start_time": "2022-05-12T10:37:50.379Z"
   },
   {
    "duration": 15,
    "start_time": "2022-05-12T10:37:50.394Z"
   },
   {
    "duration": 43,
    "start_time": "2022-05-12T10:37:50.413Z"
   },
   {
    "duration": 48,
    "start_time": "2022-05-12T10:37:50.458Z"
   },
   {
    "duration": 56,
    "start_time": "2022-05-12T10:37:50.508Z"
   },
   {
    "duration": 19,
    "start_time": "2022-05-12T10:37:50.567Z"
   },
   {
    "duration": 67,
    "start_time": "2022-05-12T10:37:50.588Z"
   },
   {
    "duration": 7,
    "start_time": "2022-05-12T10:37:50.658Z"
   },
   {
    "duration": 38,
    "start_time": "2022-05-12T10:37:50.668Z"
   },
   {
    "duration": 7,
    "start_time": "2022-05-12T10:37:50.708Z"
   },
   {
    "duration": 10,
    "start_time": "2022-05-12T10:37:50.718Z"
   },
   {
    "duration": 74,
    "start_time": "2022-05-12T10:37:50.731Z"
   },
   {
    "duration": 11,
    "start_time": "2022-05-12T10:37:50.807Z"
   },
   {
    "duration": 14,
    "start_time": "2022-05-12T10:37:50.820Z"
   },
   {
    "duration": 46,
    "start_time": "2022-05-12T10:37:50.836Z"
   },
   {
    "duration": 5,
    "start_time": "2022-05-12T10:37:50.884Z"
   },
   {
    "duration": 28,
    "start_time": "2022-05-12T10:37:50.891Z"
   },
   {
    "duration": 67,
    "start_time": "2022-05-12T10:37:50.921Z"
   },
   {
    "duration": 25,
    "start_time": "2022-05-12T10:37:50.991Z"
   },
   {
    "duration": 81,
    "start_time": "2022-05-12T10:37:51.019Z"
   },
   {
    "duration": 94,
    "start_time": "2022-05-12T10:37:51.105Z"
   },
   {
    "duration": 30,
    "start_time": "2022-05-12T10:37:51.201Z"
   },
   {
    "duration": 9,
    "start_time": "2022-05-12T10:37:51.233Z"
   },
   {
    "duration": 33,
    "start_time": "2022-05-12T10:37:51.256Z"
   },
   {
    "duration": 14,
    "start_time": "2022-05-12T10:37:51.291Z"
   },
   {
    "duration": 13,
    "start_time": "2022-05-12T10:37:51.307Z"
   },
   {
    "duration": 15,
    "start_time": "2022-05-12T10:37:51.322Z"
   },
   {
    "duration": 44,
    "start_time": "2022-05-12T10:37:51.339Z"
   },
   {
    "duration": 18,
    "start_time": "2022-05-12T10:37:51.385Z"
   },
   {
    "duration": 55,
    "start_time": "2022-05-12T10:37:51.405Z"
   },
   {
    "duration": 9,
    "start_time": "2022-05-12T10:37:51.463Z"
   },
   {
    "duration": 17,
    "start_time": "2022-05-12T10:37:51.475Z"
   },
   {
    "duration": 24,
    "start_time": "2022-05-12T10:37:51.495Z"
   },
   {
    "duration": 35,
    "start_time": "2022-05-12T10:37:51.521Z"
   },
   {
    "duration": 4,
    "start_time": "2022-05-12T10:37:51.558Z"
   },
   {
    "duration": 22,
    "start_time": "2022-05-12T10:37:51.565Z"
   },
   {
    "duration": 45,
    "start_time": "2022-05-12T10:37:51.589Z"
   },
   {
    "duration": 61,
    "start_time": "2022-05-12T10:37:51.636Z"
   },
   {
    "duration": 19,
    "start_time": "2022-05-12T10:37:51.699Z"
   },
   {
    "duration": 55,
    "start_time": "2022-05-12T10:37:51.720Z"
   },
   {
    "duration": 41,
    "start_time": "2022-05-12T10:37:51.782Z"
   },
   {
    "duration": 59,
    "start_time": "2022-05-12T10:37:51.826Z"
   },
   {
    "duration": 1762,
    "start_time": "2022-05-12T10:37:51.887Z"
   },
   {
    "duration": 2290,
    "start_time": "2022-05-12T10:38:04.424Z"
   },
   {
    "duration": 19,
    "start_time": "2022-05-12T10:38:14.091Z"
   },
   {
    "duration": 1842,
    "start_time": "2022-05-12T10:38:36.514Z"
   },
   {
    "duration": 8,
    "start_time": "2022-05-12T10:39:03.047Z"
   },
   {
    "duration": 6,
    "start_time": "2022-05-12T10:39:16.388Z"
   },
   {
    "duration": 6,
    "start_time": "2022-05-12T10:39:30.439Z"
   },
   {
    "duration": 10,
    "start_time": "2022-05-12T10:39:42.276Z"
   },
   {
    "duration": 7,
    "start_time": "2022-05-12T10:40:03.603Z"
   },
   {
    "duration": 110,
    "start_time": "2022-05-12T10:40:39.904Z"
   },
   {
    "duration": 9,
    "start_time": "2022-05-12T10:40:47.497Z"
   },
   {
    "duration": 1743,
    "start_time": "2022-05-12T10:41:58.729Z"
   },
   {
    "duration": 57,
    "start_time": "2022-05-12T10:42:10.474Z"
   },
   {
    "duration": 1278,
    "start_time": "2022-05-12T10:42:36.888Z"
   },
   {
    "duration": 33,
    "start_time": "2022-05-12T10:43:30.802Z"
   },
   {
    "duration": 7,
    "start_time": "2022-05-12T10:43:56.477Z"
   },
   {
    "duration": 47,
    "start_time": "2022-05-12T10:49:32.376Z"
   },
   {
    "duration": 37,
    "start_time": "2022-05-12T10:50:01.714Z"
   },
   {
    "duration": 376,
    "start_time": "2022-05-13T11:38:43.418Z"
   },
   {
    "duration": 64,
    "start_time": "2022-05-13T11:38:43.796Z"
   },
   {
    "duration": 25,
    "start_time": "2022-05-13T11:38:43.862Z"
   },
   {
    "duration": 20,
    "start_time": "2022-05-13T11:38:43.888Z"
   },
   {
    "duration": 13,
    "start_time": "2022-05-13T11:38:43.911Z"
   },
   {
    "duration": 12,
    "start_time": "2022-05-13T11:38:43.926Z"
   },
   {
    "duration": 4,
    "start_time": "2022-05-13T11:38:43.940Z"
   },
   {
    "duration": 7,
    "start_time": "2022-05-13T11:38:43.946Z"
   },
   {
    "duration": 10,
    "start_time": "2022-05-13T11:38:43.954Z"
   },
   {
    "duration": 5,
    "start_time": "2022-05-13T11:38:43.966Z"
   },
   {
    "duration": 48,
    "start_time": "2022-05-13T11:38:43.973Z"
   },
   {
    "duration": 22,
    "start_time": "2022-05-13T11:38:44.023Z"
   },
   {
    "duration": 10,
    "start_time": "2022-05-13T11:38:44.046Z"
   },
   {
    "duration": 50,
    "start_time": "2022-05-13T11:38:44.059Z"
   },
   {
    "duration": 5,
    "start_time": "2022-05-13T11:38:44.110Z"
   },
   {
    "duration": 19,
    "start_time": "2022-05-13T11:38:44.116Z"
   },
   {
    "duration": 5,
    "start_time": "2022-05-13T11:38:44.136Z"
   },
   {
    "duration": 7,
    "start_time": "2022-05-13T11:38:44.143Z"
   },
   {
    "duration": 56,
    "start_time": "2022-05-13T11:38:44.151Z"
   },
   {
    "duration": 13,
    "start_time": "2022-05-13T11:38:44.208Z"
   },
   {
    "duration": 9,
    "start_time": "2022-05-13T11:38:44.222Z"
   },
   {
    "duration": 15,
    "start_time": "2022-05-13T11:38:44.233Z"
   },
   {
    "duration": 3,
    "start_time": "2022-05-13T11:38:44.250Z"
   },
   {
    "duration": 14,
    "start_time": "2022-05-13T11:38:44.255Z"
   },
   {
    "duration": 35,
    "start_time": "2022-05-13T11:38:44.271Z"
   },
   {
    "duration": 30,
    "start_time": "2022-05-13T11:38:44.307Z"
   },
   {
    "duration": 26,
    "start_time": "2022-05-13T11:38:44.339Z"
   },
   {
    "duration": 87,
    "start_time": "2022-05-13T11:38:44.367Z"
   },
   {
    "duration": 49,
    "start_time": "2022-05-13T11:38:44.456Z"
   },
   {
    "duration": 11,
    "start_time": "2022-05-13T11:38:44.508Z"
   },
   {
    "duration": 13,
    "start_time": "2022-05-13T11:38:44.521Z"
   },
   {
    "duration": 10,
    "start_time": "2022-05-13T11:38:44.535Z"
   },
   {
    "duration": 11,
    "start_time": "2022-05-13T11:38:44.546Z"
   },
   {
    "duration": 10,
    "start_time": "2022-05-13T11:38:44.559Z"
   },
   {
    "duration": 23,
    "start_time": "2022-05-13T11:38:44.570Z"
   },
   {
    "duration": 21,
    "start_time": "2022-05-13T11:38:44.602Z"
   },
   {
    "duration": 23,
    "start_time": "2022-05-13T11:38:44.625Z"
   },
   {
    "duration": 6,
    "start_time": "2022-05-13T11:38:44.649Z"
   },
   {
    "duration": 22,
    "start_time": "2022-05-13T11:38:44.657Z"
   },
   {
    "duration": 27,
    "start_time": "2022-05-13T11:38:44.680Z"
   },
   {
    "duration": 21,
    "start_time": "2022-05-13T11:38:44.711Z"
   },
   {
    "duration": 18,
    "start_time": "2022-05-13T11:38:44.734Z"
   },
   {
    "duration": 8,
    "start_time": "2022-05-13T11:38:44.754Z"
   },
   {
    "duration": 31,
    "start_time": "2022-05-13T11:38:44.764Z"
   },
   {
    "duration": 88,
    "start_time": "2022-05-13T11:38:44.796Z"
   },
   {
    "duration": 0,
    "start_time": "2022-05-13T11:38:44.886Z"
   },
   {
    "duration": 0,
    "start_time": "2022-05-13T11:38:44.887Z"
   },
   {
    "duration": 0,
    "start_time": "2022-05-13T11:38:44.888Z"
   },
   {
    "duration": 0,
    "start_time": "2022-05-13T11:38:44.901Z"
   },
   {
    "duration": 0,
    "start_time": "2022-05-13T11:38:44.904Z"
   },
   {
    "duration": 11,
    "start_time": "2022-05-13T11:39:36.903Z"
   },
   {
    "duration": 20,
    "start_time": "2022-05-13T11:42:55.030Z"
   },
   {
    "duration": 12,
    "start_time": "2022-05-13T11:42:58.057Z"
   },
   {
    "duration": 14,
    "start_time": "2022-05-13T11:43:48.826Z"
   },
   {
    "duration": 13,
    "start_time": "2022-05-13T11:44:13.181Z"
   },
   {
    "duration": 29,
    "start_time": "2022-05-13T11:44:44.837Z"
   },
   {
    "duration": 19,
    "start_time": "2022-05-13T11:44:56.323Z"
   },
   {
    "duration": 35,
    "start_time": "2022-05-13T11:52:04.206Z"
   },
   {
    "duration": 394,
    "start_time": "2022-05-13T12:10:27.164Z"
   },
   {
    "duration": 71,
    "start_time": "2022-05-13T12:10:27.560Z"
   },
   {
    "duration": 29,
    "start_time": "2022-05-13T12:10:27.633Z"
   },
   {
    "duration": 18,
    "start_time": "2022-05-13T12:10:27.664Z"
   },
   {
    "duration": 11,
    "start_time": "2022-05-13T12:10:27.684Z"
   },
   {
    "duration": 29,
    "start_time": "2022-05-13T12:10:27.697Z"
   },
   {
    "duration": 8,
    "start_time": "2022-05-13T12:10:27.727Z"
   },
   {
    "duration": 14,
    "start_time": "2022-05-13T12:10:27.736Z"
   },
   {
    "duration": 18,
    "start_time": "2022-05-13T12:10:27.752Z"
   },
   {
    "duration": 4,
    "start_time": "2022-05-13T12:10:27.771Z"
   },
   {
    "duration": 31,
    "start_time": "2022-05-13T12:10:27.777Z"
   },
   {
    "duration": 34,
    "start_time": "2022-05-13T12:10:27.810Z"
   },
   {
    "duration": 11,
    "start_time": "2022-05-13T12:10:27.846Z"
   },
   {
    "duration": 27,
    "start_time": "2022-05-13T12:10:27.860Z"
   },
   {
    "duration": 3,
    "start_time": "2022-05-13T12:10:27.889Z"
   },
   {
    "duration": 18,
    "start_time": "2022-05-13T12:10:27.923Z"
   },
   {
    "duration": 7,
    "start_time": "2022-05-13T12:10:27.943Z"
   },
   {
    "duration": 15,
    "start_time": "2022-05-13T12:10:27.951Z"
   },
   {
    "duration": 35,
    "start_time": "2022-05-13T12:10:27.968Z"
   },
   {
    "duration": 19,
    "start_time": "2022-05-13T12:10:28.005Z"
   },
   {
    "duration": 4,
    "start_time": "2022-05-13T12:10:51.654Z"
   },
   {
    "duration": 3,
    "start_time": "2022-05-13T12:11:02.302Z"
   },
   {
    "duration": 69,
    "start_time": "2022-05-13T12:11:02.308Z"
   },
   {
    "duration": 20,
    "start_time": "2022-05-13T12:11:02.379Z"
   },
   {
    "duration": 31,
    "start_time": "2022-05-13T12:11:02.401Z"
   },
   {
    "duration": 11,
    "start_time": "2022-05-13T12:11:02.434Z"
   },
   {
    "duration": 30,
    "start_time": "2022-05-13T12:11:02.446Z"
   },
   {
    "duration": 107,
    "start_time": "2022-05-13T12:11:02.478Z"
   },
   {
    "duration": 49,
    "start_time": "2022-05-13T12:11:02.587Z"
   },
   {
    "duration": 43,
    "start_time": "2022-05-13T12:11:02.638Z"
   },
   {
    "duration": 16,
    "start_time": "2022-05-13T12:11:02.682Z"
   },
   {
    "duration": 51,
    "start_time": "2022-05-13T12:11:02.700Z"
   },
   {
    "duration": 24,
    "start_time": "2022-05-13T12:11:02.753Z"
   },
   {
    "duration": 10,
    "start_time": "2022-05-13T12:11:02.779Z"
   },
   {
    "duration": 46,
    "start_time": "2022-05-13T12:11:02.793Z"
   },
   {
    "duration": 4,
    "start_time": "2022-05-13T12:11:02.841Z"
   },
   {
    "duration": 6,
    "start_time": "2022-05-13T12:11:04.522Z"
   },
   {
    "duration": 25,
    "start_time": "2022-05-13T12:11:19.504Z"
   },
   {
    "duration": 10,
    "start_time": "2022-05-13T12:11:31.094Z"
   },
   {
    "duration": 25,
    "start_time": "2022-05-13T12:15:14.470Z"
   },
   {
    "duration": 19,
    "start_time": "2022-05-13T12:17:15.335Z"
   },
   {
    "duration": 3,
    "start_time": "2022-05-13T12:19:33.213Z"
   },
   {
    "duration": 66,
    "start_time": "2022-05-13T12:19:33.218Z"
   },
   {
    "duration": 20,
    "start_time": "2022-05-13T12:19:33.286Z"
   },
   {
    "duration": 23,
    "start_time": "2022-05-13T12:19:33.308Z"
   },
   {
    "duration": 10,
    "start_time": "2022-05-13T12:19:33.333Z"
   },
   {
    "duration": 7,
    "start_time": "2022-05-13T12:19:33.345Z"
   },
   {
    "duration": 8,
    "start_time": "2022-05-13T12:19:33.354Z"
   },
   {
    "duration": 5,
    "start_time": "2022-05-13T12:19:33.364Z"
   },
   {
    "duration": 14,
    "start_time": "2022-05-13T12:19:33.370Z"
   },
   {
    "duration": 3,
    "start_time": "2022-05-13T12:19:33.387Z"
   },
   {
    "duration": 48,
    "start_time": "2022-05-13T12:19:33.392Z"
   },
   {
    "duration": 25,
    "start_time": "2022-05-13T12:19:33.441Z"
   },
   {
    "duration": 10,
    "start_time": "2022-05-13T12:19:33.468Z"
   },
   {
    "duration": 56,
    "start_time": "2022-05-13T12:19:33.479Z"
   },
   {
    "duration": 4,
    "start_time": "2022-05-13T12:19:33.537Z"
   },
   {
    "duration": 9,
    "start_time": "2022-05-13T12:19:33.543Z"
   },
   {
    "duration": 6,
    "start_time": "2022-05-13T12:19:33.554Z"
   },
   {
    "duration": 9,
    "start_time": "2022-05-13T12:19:33.561Z"
   },
   {
    "duration": 64,
    "start_time": "2022-05-13T12:19:33.572Z"
   },
   {
    "duration": 9,
    "start_time": "2022-05-13T12:19:33.639Z"
   },
   {
    "duration": 12,
    "start_time": "2022-05-13T12:19:47.168Z"
   },
   {
    "duration": 9,
    "start_time": "2022-05-13T12:19:57.171Z"
   },
   {
    "duration": 3,
    "start_time": "2022-05-13T12:20:37.904Z"
   },
   {
    "duration": 68,
    "start_time": "2022-05-13T12:20:37.909Z"
   },
   {
    "duration": 21,
    "start_time": "2022-05-13T12:20:37.979Z"
   },
   {
    "duration": 25,
    "start_time": "2022-05-13T12:20:38.003Z"
   },
   {
    "duration": 10,
    "start_time": "2022-05-13T12:20:38.030Z"
   },
   {
    "duration": 5,
    "start_time": "2022-05-13T12:20:38.042Z"
   },
   {
    "duration": 7,
    "start_time": "2022-05-13T12:20:38.049Z"
   },
   {
    "duration": 5,
    "start_time": "2022-05-13T12:20:38.058Z"
   },
   {
    "duration": 10,
    "start_time": "2022-05-13T12:20:38.065Z"
   },
   {
    "duration": 4,
    "start_time": "2022-05-13T12:20:38.077Z"
   },
   {
    "duration": 57,
    "start_time": "2022-05-13T12:20:38.083Z"
   },
   {
    "duration": 25,
    "start_time": "2022-05-13T12:20:38.142Z"
   },
   {
    "duration": 10,
    "start_time": "2022-05-13T12:20:38.169Z"
   },
   {
    "duration": 49,
    "start_time": "2022-05-13T12:20:38.181Z"
   },
   {
    "duration": 3,
    "start_time": "2022-05-13T12:20:38.232Z"
   },
   {
    "duration": 13,
    "start_time": "2022-05-13T12:20:38.237Z"
   },
   {
    "duration": 7,
    "start_time": "2022-05-13T12:20:42.958Z"
   },
   {
    "duration": 5,
    "start_time": "2022-05-13T12:20:52.995Z"
   },
   {
    "duration": 2,
    "start_time": "2022-05-13T12:21:43.804Z"
   },
   {
    "duration": 62,
    "start_time": "2022-05-13T12:21:43.808Z"
   },
   {
    "duration": 20,
    "start_time": "2022-05-13T12:21:43.872Z"
   },
   {
    "duration": 27,
    "start_time": "2022-05-13T12:21:43.894Z"
   },
   {
    "duration": 11,
    "start_time": "2022-05-13T12:21:43.924Z"
   },
   {
    "duration": 5,
    "start_time": "2022-05-13T12:21:43.936Z"
   },
   {
    "duration": 5,
    "start_time": "2022-05-13T12:21:43.943Z"
   },
   {
    "duration": 10,
    "start_time": "2022-05-13T12:21:43.949Z"
   },
   {
    "duration": 18,
    "start_time": "2022-05-13T12:21:43.961Z"
   },
   {
    "duration": 4,
    "start_time": "2022-05-13T12:21:43.981Z"
   },
   {
    "duration": 55,
    "start_time": "2022-05-13T12:21:43.987Z"
   },
   {
    "duration": 23,
    "start_time": "2022-05-13T12:21:44.044Z"
   },
   {
    "duration": 9,
    "start_time": "2022-05-13T12:21:44.070Z"
   },
   {
    "duration": 47,
    "start_time": "2022-05-13T12:21:44.080Z"
   },
   {
    "duration": 7,
    "start_time": "2022-05-13T12:21:44.129Z"
   },
   {
    "duration": 9,
    "start_time": "2022-05-13T12:21:44.138Z"
   },
   {
    "duration": 27,
    "start_time": "2022-05-13T12:21:44.148Z"
   },
   {
    "duration": 4,
    "start_time": "2022-05-13T12:22:00.425Z"
   },
   {
    "duration": 95,
    "start_time": "2022-05-13T12:22:04.942Z"
   },
   {
    "duration": 23,
    "start_time": "2022-05-13T12:22:18.436Z"
   },
   {
    "duration": 3,
    "start_time": "2022-05-13T12:22:26.658Z"
   },
   {
    "duration": 701,
    "start_time": "2022-05-13T12:22:26.663Z"
   },
   {
    "duration": 22,
    "start_time": "2022-05-13T12:22:27.366Z"
   },
   {
    "duration": 37,
    "start_time": "2022-05-13T12:22:27.390Z"
   },
   {
    "duration": 9,
    "start_time": "2022-05-13T12:22:27.430Z"
   },
   {
    "duration": 5,
    "start_time": "2022-05-13T12:22:27.441Z"
   },
   {
    "duration": 9,
    "start_time": "2022-05-13T12:22:27.447Z"
   },
   {
    "duration": 6,
    "start_time": "2022-05-13T12:22:27.458Z"
   },
   {
    "duration": 17,
    "start_time": "2022-05-13T12:22:27.465Z"
   },
   {
    "duration": 4,
    "start_time": "2022-05-13T12:22:27.484Z"
   },
   {
    "duration": 60,
    "start_time": "2022-05-13T12:22:27.489Z"
   },
   {
    "duration": 25,
    "start_time": "2022-05-13T12:22:27.550Z"
   },
   {
    "duration": 11,
    "start_time": "2022-05-13T12:22:27.577Z"
   },
   {
    "duration": 55,
    "start_time": "2022-05-13T12:22:27.589Z"
   },
   {
    "duration": 4,
    "start_time": "2022-05-13T12:22:27.646Z"
   },
   {
    "duration": 19,
    "start_time": "2022-05-13T12:22:27.651Z"
   },
   {
    "duration": 8,
    "start_time": "2022-05-13T12:22:38.079Z"
   },
   {
    "duration": 3,
    "start_time": "2022-05-13T12:23:14.038Z"
   },
   {
    "duration": 73,
    "start_time": "2022-05-13T12:23:14.043Z"
   },
   {
    "duration": 20,
    "start_time": "2022-05-13T12:23:14.118Z"
   },
   {
    "duration": 31,
    "start_time": "2022-05-13T12:23:14.140Z"
   },
   {
    "duration": 25,
    "start_time": "2022-05-13T12:23:14.173Z"
   },
   {
    "duration": 21,
    "start_time": "2022-05-13T12:23:14.200Z"
   },
   {
    "duration": 16,
    "start_time": "2022-05-13T12:23:14.223Z"
   },
   {
    "duration": 23,
    "start_time": "2022-05-13T12:23:14.240Z"
   },
   {
    "duration": 19,
    "start_time": "2022-05-13T12:23:14.265Z"
   },
   {
    "duration": 7,
    "start_time": "2022-05-13T12:23:14.285Z"
   },
   {
    "duration": 27,
    "start_time": "2022-05-13T12:23:14.294Z"
   },
   {
    "duration": 24,
    "start_time": "2022-05-13T12:23:14.323Z"
   },
   {
    "duration": 22,
    "start_time": "2022-05-13T12:23:14.349Z"
   },
   {
    "duration": 0,
    "start_time": "2022-05-13T12:23:14.373Z"
   },
   {
    "duration": 0,
    "start_time": "2022-05-13T12:23:14.374Z"
   },
   {
    "duration": 0,
    "start_time": "2022-05-13T12:23:14.375Z"
   },
   {
    "duration": 0,
    "start_time": "2022-05-13T12:23:14.376Z"
   },
   {
    "duration": 0,
    "start_time": "2022-05-13T12:23:14.377Z"
   },
   {
    "duration": 0,
    "start_time": "2022-05-13T12:23:14.379Z"
   },
   {
    "duration": 0,
    "start_time": "2022-05-13T12:23:14.379Z"
   },
   {
    "duration": 3,
    "start_time": "2022-05-13T12:24:25.760Z"
   },
   {
    "duration": 66,
    "start_time": "2022-05-13T12:24:25.764Z"
   },
   {
    "duration": 20,
    "start_time": "2022-05-13T12:24:25.832Z"
   },
   {
    "duration": 15,
    "start_time": "2022-05-13T12:24:25.854Z"
   },
   {
    "duration": 10,
    "start_time": "2022-05-13T12:24:25.871Z"
   },
   {
    "duration": 4,
    "start_time": "2022-05-13T12:24:25.882Z"
   },
   {
    "duration": 35,
    "start_time": "2022-05-13T12:24:25.888Z"
   },
   {
    "duration": 8,
    "start_time": "2022-05-13T12:24:25.924Z"
   },
   {
    "duration": 10,
    "start_time": "2022-05-13T12:24:25.934Z"
   },
   {
    "duration": 3,
    "start_time": "2022-05-13T12:24:25.947Z"
   },
   {
    "duration": 33,
    "start_time": "2022-05-13T12:24:25.951Z"
   },
   {
    "duration": 47,
    "start_time": "2022-05-13T12:24:25.986Z"
   },
   {
    "duration": 25,
    "start_time": "2022-05-13T12:24:26.035Z"
   },
   {
    "duration": 0,
    "start_time": "2022-05-13T12:24:26.062Z"
   },
   {
    "duration": 0,
    "start_time": "2022-05-13T12:24:26.063Z"
   },
   {
    "duration": 0,
    "start_time": "2022-05-13T12:24:26.064Z"
   },
   {
    "duration": 0,
    "start_time": "2022-05-13T12:24:26.065Z"
   },
   {
    "duration": 0,
    "start_time": "2022-05-13T12:24:26.066Z"
   },
   {
    "duration": 0,
    "start_time": "2022-05-13T12:24:26.067Z"
   },
   {
    "duration": 0,
    "start_time": "2022-05-13T12:24:26.068Z"
   },
   {
    "duration": 22,
    "start_time": "2022-05-13T12:24:43.324Z"
   },
   {
    "duration": 3,
    "start_time": "2022-05-13T12:24:54.368Z"
   },
   {
    "duration": 70,
    "start_time": "2022-05-13T12:24:54.373Z"
   },
   {
    "duration": 19,
    "start_time": "2022-05-13T12:24:54.445Z"
   },
   {
    "duration": 18,
    "start_time": "2022-05-13T12:24:54.466Z"
   },
   {
    "duration": 22,
    "start_time": "2022-05-13T12:24:54.486Z"
   },
   {
    "duration": 5,
    "start_time": "2022-05-13T12:24:54.522Z"
   },
   {
    "duration": 6,
    "start_time": "2022-05-13T12:24:54.529Z"
   },
   {
    "duration": 8,
    "start_time": "2022-05-13T12:24:54.537Z"
   },
   {
    "duration": 15,
    "start_time": "2022-05-13T12:24:54.547Z"
   },
   {
    "duration": 4,
    "start_time": "2022-05-13T12:24:54.564Z"
   },
   {
    "duration": 65,
    "start_time": "2022-05-13T12:24:54.569Z"
   },
   {
    "duration": 31,
    "start_time": "2022-05-13T12:24:54.636Z"
   },
   {
    "duration": 11,
    "start_time": "2022-05-13T12:24:54.669Z"
   },
   {
    "duration": 21,
    "start_time": "2022-05-13T12:25:47.989Z"
   },
   {
    "duration": 8,
    "start_time": "2022-05-13T12:26:01.036Z"
   },
   {
    "duration": 3,
    "start_time": "2022-05-13T12:26:13.584Z"
   },
   {
    "duration": 66,
    "start_time": "2022-05-13T12:26:13.589Z"
   },
   {
    "duration": 21,
    "start_time": "2022-05-13T12:26:13.657Z"
   },
   {
    "duration": 18,
    "start_time": "2022-05-13T12:26:13.680Z"
   },
   {
    "duration": 27,
    "start_time": "2022-05-13T12:26:13.700Z"
   },
   {
    "duration": 6,
    "start_time": "2022-05-13T12:26:13.729Z"
   },
   {
    "duration": 6,
    "start_time": "2022-05-13T12:26:13.737Z"
   },
   {
    "duration": 11,
    "start_time": "2022-05-13T12:26:13.745Z"
   },
   {
    "duration": 11,
    "start_time": "2022-05-13T12:26:13.757Z"
   },
   {
    "duration": 4,
    "start_time": "2022-05-13T12:26:13.771Z"
   },
   {
    "duration": 62,
    "start_time": "2022-05-13T12:26:13.776Z"
   },
   {
    "duration": 23,
    "start_time": "2022-05-13T12:26:13.840Z"
   },
   {
    "duration": 8,
    "start_time": "2022-05-13T12:26:13.865Z"
   },
   {
    "duration": 34,
    "start_time": "2022-05-13T12:26:18.347Z"
   },
   {
    "duration": 5,
    "start_time": "2022-05-13T12:26:19.054Z"
   },
   {
    "duration": 26,
    "start_time": "2022-05-13T12:26:19.215Z"
   },
   {
    "duration": 7,
    "start_time": "2022-05-13T12:26:21.140Z"
   },
   {
    "duration": 8,
    "start_time": "2022-05-13T12:26:21.438Z"
   },
   {
    "duration": 31,
    "start_time": "2022-05-13T12:26:21.806Z"
   },
   {
    "duration": 8,
    "start_time": "2022-05-13T12:26:23.227Z"
   },
   {
    "duration": 10,
    "start_time": "2022-05-13T12:33:43.230Z"
   },
   {
    "duration": 47,
    "start_time": "2022-05-13T13:52:46.571Z"
   },
   {
    "duration": 372,
    "start_time": "2022-05-13T13:52:53.506Z"
   },
   {
    "duration": 64,
    "start_time": "2022-05-13T13:52:53.971Z"
   },
   {
    "duration": 28,
    "start_time": "2022-05-13T13:52:55.018Z"
   },
   {
    "duration": 16,
    "start_time": "2022-05-13T13:52:55.599Z"
   },
   {
    "duration": 12,
    "start_time": "2022-05-13T13:52:56.862Z"
   },
   {
    "duration": 4,
    "start_time": "2022-05-13T13:52:58.216Z"
   },
   {
    "duration": 4,
    "start_time": "2022-05-13T13:52:58.568Z"
   },
   {
    "duration": 5,
    "start_time": "2022-05-13T13:52:59.926Z"
   },
   {
    "duration": 11,
    "start_time": "2022-05-13T13:53:00.642Z"
   },
   {
    "duration": 4,
    "start_time": "2022-05-13T13:53:03.226Z"
   },
   {
    "duration": 22,
    "start_time": "2022-05-13T13:53:03.788Z"
   },
   {
    "duration": 23,
    "start_time": "2022-05-13T13:53:04.862Z"
   },
   {
    "duration": 8,
    "start_time": "2022-05-13T13:53:06.871Z"
   },
   {
    "duration": 25,
    "start_time": "2022-05-13T13:53:07.748Z"
   },
   {
    "duration": 3,
    "start_time": "2022-05-13T13:53:12.923Z"
   },
   {
    "duration": 10,
    "start_time": "2022-05-13T13:55:03.803Z"
   },
   {
    "duration": 5,
    "start_time": "2022-05-13T13:55:05.633Z"
   },
   {
    "duration": 6,
    "start_time": "2022-05-13T13:55:07.357Z"
   },
   {
    "duration": 25,
    "start_time": "2022-05-13T13:55:07.365Z"
   },
   {
    "duration": 8,
    "start_time": "2022-05-13T13:55:09.228Z"
   },
   {
    "duration": 13,
    "start_time": "2022-05-13T13:58:21.025Z"
   }
  ],
  "kernelspec": {
   "display_name": "Python 3 (ipykernel)",
   "language": "python",
   "name": "python3"
  },
  "language_info": {
   "codemirror_mode": {
    "name": "ipython",
    "version": 3
   },
   "file_extension": ".py",
   "mimetype": "text/x-python",
   "name": "python",
   "nbconvert_exporter": "python",
   "pygments_lexer": "ipython3",
   "version": "3.9.7"
  },
  "toc": {
   "base_numbering": 1,
   "nav_menu": {},
   "number_sections": true,
   "sideBar": true,
   "skip_h1_title": true,
   "title_cell": "Table of Contents",
   "title_sidebar": "Contents",
   "toc_cell": false,
   "toc_position": {
    "height": "calc(100% - 180px)",
    "left": "10px",
    "top": "150px",
    "width": "291.81px"
   },
   "toc_section_display": true,
   "toc_window_display": true
  }
 },
 "nbformat": 4,
 "nbformat_minor": 5
}

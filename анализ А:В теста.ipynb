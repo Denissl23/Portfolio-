{
 "cells": [
  {
   "cell_type": "markdown",
   "id": "e84c734d",
   "metadata": {},
   "source": [
    "# Описание проекта"
   ]
  },
  {
   "cell_type": "markdown",
   "id": "0bc18e04",
   "metadata": {},
   "source": [
    "Я — аналитик крупного интернет-магазина. Вместе с отделом маркетинга мы подготовили список гипотез для увеличения выручки.\n",
    "\n",
    "\n",
    "Нужно приоритизировать гипотезы, запустить A/B-тест и проанализировать результаты."
   ]
  },
  {
   "cell_type": "markdown",
   "id": "d36328ad",
   "metadata": {},
   "source": [
    "**Описание данных**\n",
    "\n",
    "\n",
    "**Данные для первой части:**\n",
    "\n",
    "Файл `/datasets/hypothesis.csv`:\n",
    "\n",
    "- `Hypothesis` — краткое описание гипотезы;\n",
    "- `Reach` — охват пользователей по 10-балльной шкале;\n",
    "- `Impact` — влияние на пользователей по 10-балльной шкале;\n",
    "- `Confidence` — уверенность в гипотезе по 10-балльной шкале;\n",
    "- `Efforts` — затраты ресурсов на проверку гипотезы по 10-балльной шкале. Чем больше значение Efforts, тем дороже проверка гипотезы.\n",
    "\n",
    "\n",
    "\n",
    "**Данные для второй части**\n",
    "\n",
    "\n",
    "Файл `/datasets/orders.csv`:\n",
    "\n",
    "- `transactionId` — идентификатор заказа;\n",
    "- `visitorId` — идентификатор пользователя, совершившего заказ;\n",
    "- `date` — дата, когда был совершён заказ;\n",
    "- `revenue` — выручка заказа;\n",
    "- `group` — группа A/B-теста, в которую попал заказ.\n",
    "\n",
    "\n",
    "\n",
    "Файл `/datasets/visitors.csv`:\n",
    "\n",
    "- `date` — дата;\n",
    "- `group` — группа A/B-теста;\n",
    "- `visitors` — количество пользователей в указанную дату в указанной группе A/B-теста\n"
   ]
  },
  {
   "cell_type": "markdown",
   "id": "ed77a3d6",
   "metadata": {},
   "source": [
    "## 1. Приоритизация гипотез\n",
    "\n",
    "- Примените фреймворк ICE для приоритизации гипотез. Отсортируйте их по убыванию приоритета.\n",
    "- Примените фреймворк RICE для приоритизации гипотез. Отсортируйте их по убыванию приоритета.\n",
    "- Укажите, как изменилась приоритизация гипотез при применении RICE вместо ICE. Объясните, почему так произошло."
   ]
  },
  {
   "cell_type": "code",
   "execution_count": 1,
   "id": "e30d0212",
   "metadata": {},
   "outputs": [],
   "source": [
    "import pandas as pd\n",
    "import numpy as np\n",
    "import matplotlib.pyplot as plt\n",
    "import scipy.stats as st\n",
    "pd.set_option('display.max_colwidth', 0)"
   ]
  },
  {
   "cell_type": "code",
   "execution_count": 2,
   "id": "4e51e08c",
   "metadata": {},
   "outputs": [
    {
     "data": {
      "text/html": [
       "<div>\n",
       "<style scoped>\n",
       "    .dataframe tbody tr th:only-of-type {\n",
       "        vertical-align: middle;\n",
       "    }\n",
       "\n",
       "    .dataframe tbody tr th {\n",
       "        vertical-align: top;\n",
       "    }\n",
       "\n",
       "    .dataframe thead th {\n",
       "        text-align: right;\n",
       "    }\n",
       "</style>\n",
       "<table border=\"1\" class=\"dataframe\">\n",
       "  <thead>\n",
       "    <tr style=\"text-align: right;\">\n",
       "      <th></th>\n",
       "      <th>Hypothesis</th>\n",
       "      <th>Reach</th>\n",
       "      <th>Impact</th>\n",
       "      <th>Confidence</th>\n",
       "      <th>Efforts</th>\n",
       "    </tr>\n",
       "  </thead>\n",
       "  <tbody>\n",
       "    <tr>\n",
       "      <th>0</th>\n",
       "      <td>Добавить два новых канала привлечения трафика, что позволит привлекать на 30% больше пользователей</td>\n",
       "      <td>3</td>\n",
       "      <td>10</td>\n",
       "      <td>8</td>\n",
       "      <td>6</td>\n",
       "    </tr>\n",
       "    <tr>\n",
       "      <th>1</th>\n",
       "      <td>Запустить собственную службу доставки, что сократит срок доставки заказов</td>\n",
       "      <td>2</td>\n",
       "      <td>5</td>\n",
       "      <td>4</td>\n",
       "      <td>10</td>\n",
       "    </tr>\n",
       "    <tr>\n",
       "      <th>2</th>\n",
       "      <td>Добавить блоки рекомендаций товаров на сайт интернет магазина, чтобы повысить конверсию и средний чек заказа</td>\n",
       "      <td>8</td>\n",
       "      <td>3</td>\n",
       "      <td>7</td>\n",
       "      <td>3</td>\n",
       "    </tr>\n",
       "    <tr>\n",
       "      <th>3</th>\n",
       "      <td>Изменить структура категорий, что увеличит конверсию, т.к. пользователи быстрее найдут нужный товар</td>\n",
       "      <td>8</td>\n",
       "      <td>3</td>\n",
       "      <td>3</td>\n",
       "      <td>8</td>\n",
       "    </tr>\n",
       "    <tr>\n",
       "      <th>4</th>\n",
       "      <td>Изменить цвет фона главной страницы, чтобы увеличить вовлеченность пользователей</td>\n",
       "      <td>3</td>\n",
       "      <td>1</td>\n",
       "      <td>1</td>\n",
       "      <td>1</td>\n",
       "    </tr>\n",
       "    <tr>\n",
       "      <th>5</th>\n",
       "      <td>Добавить страницу отзывов клиентов о магазине, что позволит увеличить количество заказов</td>\n",
       "      <td>3</td>\n",
       "      <td>2</td>\n",
       "      <td>2</td>\n",
       "      <td>3</td>\n",
       "    </tr>\n",
       "    <tr>\n",
       "      <th>6</th>\n",
       "      <td>Показать на главной странице баннеры с актуальными акциями и распродажами, чтобы увеличить конверсию</td>\n",
       "      <td>5</td>\n",
       "      <td>3</td>\n",
       "      <td>8</td>\n",
       "      <td>3</td>\n",
       "    </tr>\n",
       "    <tr>\n",
       "      <th>7</th>\n",
       "      <td>Добавить форму подписки на все основные страницы, чтобы собрать базу клиентов для email-рассылок</td>\n",
       "      <td>10</td>\n",
       "      <td>7</td>\n",
       "      <td>8</td>\n",
       "      <td>5</td>\n",
       "    </tr>\n",
       "    <tr>\n",
       "      <th>8</th>\n",
       "      <td>Запустить акцию, дающую скидку на товар в день рождения</td>\n",
       "      <td>1</td>\n",
       "      <td>9</td>\n",
       "      <td>9</td>\n",
       "      <td>5</td>\n",
       "    </tr>\n",
       "  </tbody>\n",
       "</table>\n",
       "</div>"
      ],
      "text/plain": [
       "                                                                                                     Hypothesis  \\\n",
       "0  Добавить два новых канала привлечения трафика, что позволит привлекать на 30% больше пользователей             \n",
       "1  Запустить собственную службу доставки, что сократит срок доставки заказов                                      \n",
       "2  Добавить блоки рекомендаций товаров на сайт интернет магазина, чтобы повысить конверсию и средний чек заказа   \n",
       "3  Изменить структура категорий, что увеличит конверсию, т.к. пользователи быстрее найдут нужный товар            \n",
       "4  Изменить цвет фона главной страницы, чтобы увеличить вовлеченность пользователей                               \n",
       "5  Добавить страницу отзывов клиентов о магазине, что позволит увеличить количество заказов                       \n",
       "6  Показать на главной странице баннеры с актуальными акциями и распродажами, чтобы увеличить конверсию           \n",
       "7  Добавить форму подписки на все основные страницы, чтобы собрать базу клиентов для email-рассылок               \n",
       "8  Запустить акцию, дающую скидку на товар в день рождения                                                        \n",
       "\n",
       "   Reach  Impact  Confidence  Efforts  \n",
       "0  3      10      8           6        \n",
       "1  2      5       4           10       \n",
       "2  8      3       7           3        \n",
       "3  8      3       3           8        \n",
       "4  3      1       1           1        \n",
       "5  3      2       2           3        \n",
       "6  5      3       8           3        \n",
       "7  10     7       8           5        \n",
       "8  1      9       9           5        "
      ]
     },
     "execution_count": 2,
     "metadata": {},
     "output_type": "execute_result"
    }
   ],
   "source": [
    "#сохраним файл с гипотезами\n",
    "try:\n",
    "    hypothesis = pd.read_csv('/Users/denis_sl/Desktop/проект A:B /hypothesis.csv')\n",
    "except:\n",
    "    hypothesis = pd.read_csv('/datasets/hypothesis.csv')\n",
    "hypothesis"
   ]
  },
  {
   "cell_type": "code",
   "execution_count": 3,
   "id": "50682f0a",
   "metadata": {},
   "outputs": [
    {
     "name": "stdout",
     "output_type": "stream",
     "text": [
      "<class 'pandas.core.frame.DataFrame'>\n",
      "RangeIndex: 9 entries, 0 to 8\n",
      "Data columns (total 5 columns):\n",
      " #   Column      Non-Null Count  Dtype \n",
      "---  ------      --------------  ----- \n",
      " 0   Hypothesis  9 non-null      object\n",
      " 1   Reach       9 non-null      int64 \n",
      " 2   Impact      9 non-null      int64 \n",
      " 3   Confidence  9 non-null      int64 \n",
      " 4   Efforts     9 non-null      int64 \n",
      "dtypes: int64(4), object(1)\n",
      "memory usage: 488.0+ bytes\n"
     ]
    }
   ],
   "source": [
    "hypothesis.info()"
   ]
  },
  {
   "cell_type": "markdown",
   "id": "2f5d2530",
   "metadata": {},
   "source": [
    "### 1.1 Примените фреймворк ICE для приоритизации гипотез. Отсортируйте их по убыванию приоритета."
   ]
  },
  {
   "attachments": {
    "ICE.png": {
     "image/png": "[encoded data removed]"
    }
   },
   "cell_type": "markdown",
   "id": "fcf74239",
   "metadata": {},
   "source": [
    "![ICE.png](attachment:ICE.png)"
   ]
  },
  {
   "cell_type": "code",
   "execution_count": 4,
   "id": "d838b98d",
   "metadata": {},
   "outputs": [],
   "source": [
    "hypothesis['ICE'] = round(hypothesis['Impact'] * hypothesis['Confidence'] / hypothesis['Efforts'], 1)\n",
    "hypothesis = hypothesis.sort_values('ICE', ascending=False).reset_index(drop=True)"
   ]
  },
  {
   "cell_type": "code",
   "execution_count": 5,
   "id": "677a49ec",
   "metadata": {},
   "outputs": [
    {
     "data": {
      "text/html": [
       "<div>\n",
       "<style scoped>\n",
       "    .dataframe tbody tr th:only-of-type {\n",
       "        vertical-align: middle;\n",
       "    }\n",
       "\n",
       "    .dataframe tbody tr th {\n",
       "        vertical-align: top;\n",
       "    }\n",
       "\n",
       "    .dataframe thead th {\n",
       "        text-align: right;\n",
       "    }\n",
       "</style>\n",
       "<table border=\"1\" class=\"dataframe\">\n",
       "  <thead>\n",
       "    <tr style=\"text-align: right;\">\n",
       "      <th></th>\n",
       "      <th>Hypothesis</th>\n",
       "      <th>Reach</th>\n",
       "      <th>Impact</th>\n",
       "      <th>Confidence</th>\n",
       "      <th>Efforts</th>\n",
       "      <th>ICE</th>\n",
       "    </tr>\n",
       "  </thead>\n",
       "  <tbody>\n",
       "    <tr>\n",
       "      <th>0</th>\n",
       "      <td>Запустить акцию, дающую скидку на товар в день рождения</td>\n",
       "      <td>1</td>\n",
       "      <td>9</td>\n",
       "      <td>9</td>\n",
       "      <td>5</td>\n",
       "      <td>16.2</td>\n",
       "    </tr>\n",
       "    <tr>\n",
       "      <th>1</th>\n",
       "      <td>Добавить два новых канала привлечения трафика, что позволит привлекать на 30% больше пользователей</td>\n",
       "      <td>3</td>\n",
       "      <td>10</td>\n",
       "      <td>8</td>\n",
       "      <td>6</td>\n",
       "      <td>13.3</td>\n",
       "    </tr>\n",
       "    <tr>\n",
       "      <th>2</th>\n",
       "      <td>Добавить форму подписки на все основные страницы, чтобы собрать базу клиентов для email-рассылок</td>\n",
       "      <td>10</td>\n",
       "      <td>7</td>\n",
       "      <td>8</td>\n",
       "      <td>5</td>\n",
       "      <td>11.2</td>\n",
       "    </tr>\n",
       "    <tr>\n",
       "      <th>3</th>\n",
       "      <td>Показать на главной странице баннеры с актуальными акциями и распродажами, чтобы увеличить конверсию</td>\n",
       "      <td>5</td>\n",
       "      <td>3</td>\n",
       "      <td>8</td>\n",
       "      <td>3</td>\n",
       "      <td>8.0</td>\n",
       "    </tr>\n",
       "    <tr>\n",
       "      <th>4</th>\n",
       "      <td>Добавить блоки рекомендаций товаров на сайт интернет магазина, чтобы повысить конверсию и средний чек заказа</td>\n",
       "      <td>8</td>\n",
       "      <td>3</td>\n",
       "      <td>7</td>\n",
       "      <td>3</td>\n",
       "      <td>7.0</td>\n",
       "    </tr>\n",
       "    <tr>\n",
       "      <th>5</th>\n",
       "      <td>Запустить собственную службу доставки, что сократит срок доставки заказов</td>\n",
       "      <td>2</td>\n",
       "      <td>5</td>\n",
       "      <td>4</td>\n",
       "      <td>10</td>\n",
       "      <td>2.0</td>\n",
       "    </tr>\n",
       "    <tr>\n",
       "      <th>6</th>\n",
       "      <td>Добавить страницу отзывов клиентов о магазине, что позволит увеличить количество заказов</td>\n",
       "      <td>3</td>\n",
       "      <td>2</td>\n",
       "      <td>2</td>\n",
       "      <td>3</td>\n",
       "      <td>1.3</td>\n",
       "    </tr>\n",
       "    <tr>\n",
       "      <th>7</th>\n",
       "      <td>Изменить структура категорий, что увеличит конверсию, т.к. пользователи быстрее найдут нужный товар</td>\n",
       "      <td>8</td>\n",
       "      <td>3</td>\n",
       "      <td>3</td>\n",
       "      <td>8</td>\n",
       "      <td>1.1</td>\n",
       "    </tr>\n",
       "    <tr>\n",
       "      <th>8</th>\n",
       "      <td>Изменить цвет фона главной страницы, чтобы увеличить вовлеченность пользователей</td>\n",
       "      <td>3</td>\n",
       "      <td>1</td>\n",
       "      <td>1</td>\n",
       "      <td>1</td>\n",
       "      <td>1.0</td>\n",
       "    </tr>\n",
       "  </tbody>\n",
       "</table>\n",
       "</div>"
      ],
      "text/plain": [
       "                                                                                                     Hypothesis  \\\n",
       "0  Запустить акцию, дающую скидку на товар в день рождения                                                        \n",
       "1  Добавить два новых канала привлечения трафика, что позволит привлекать на 30% больше пользователей             \n",
       "2  Добавить форму подписки на все основные страницы, чтобы собрать базу клиентов для email-рассылок               \n",
       "3  Показать на главной странице баннеры с актуальными акциями и распродажами, чтобы увеличить конверсию           \n",
       "4  Добавить блоки рекомендаций товаров на сайт интернет магазина, чтобы повысить конверсию и средний чек заказа   \n",
       "5  Запустить собственную службу доставки, что сократит срок доставки заказов                                      \n",
       "6  Добавить страницу отзывов клиентов о магазине, что позволит увеличить количество заказов                       \n",
       "7  Изменить структура категорий, что увеличит конверсию, т.к. пользователи быстрее найдут нужный товар            \n",
       "8  Изменить цвет фона главной страницы, чтобы увеличить вовлеченность пользователей                               \n",
       "\n",
       "   Reach  Impact  Confidence  Efforts   ICE  \n",
       "0  1      9       9           5        16.2  \n",
       "1  3      10      8           6        13.3  \n",
       "2  10     7       8           5        11.2  \n",
       "3  5      3       8           3        8.0   \n",
       "4  8      3       7           3        7.0   \n",
       "5  2      5       4           10       2.0   \n",
       "6  3      2       2           3        1.3   \n",
       "7  8      3       3           8        1.1   \n",
       "8  3      1       1           1        1.0   "
      ]
     },
     "execution_count": 5,
     "metadata": {},
     "output_type": "execute_result"
    }
   ],
   "source": [
    "hypothesis"
   ]
  },
  {
   "cell_type": "code",
   "execution_count": 6,
   "id": "f5cc3a16",
   "metadata": {},
   "outputs": [
    {
     "data": {
      "image/png": "[encoded data removed]",
      "text/plain": [
       "<Figure size 432x288 with 1 Axes>"
      ]
     },
     "metadata": {
      "needs_background": "light"
     },
     "output_type": "display_data"
    }
   ],
   "source": [
    "ax = hypothesis[['Hypothesis', 'ICE']].set_index('Hypothesis').sort_values('ICE', ascending=True).plot(kind='barh')\n",
    "ax.set_xlabel('Приоритет')\n",
    "ax.set_ylabel('Гипотеза')\n",
    "ax.set_title('ICE')\n",
    "plt.show()"
   ]
  },
  {
   "cell_type": "markdown",
   "id": "60b91455",
   "metadata": {},
   "source": [
    "### 1.2 Примените фреймворк RICE для приоритизации гипотез. Отсортируйте их по убыванию приоритета."
   ]
  },
  {
   "attachments": {
    "RICE.png": {
     "image/png": "[encoded data removed]"
    }
   },
   "cell_type": "markdown",
   "id": "4ca05b25",
   "metadata": {},
   "source": [
    "![RICE.png](attachment:RICE.png)"
   ]
  },
  {
   "cell_type": "code",
   "execution_count": 7,
   "id": "20529a18",
   "metadata": {},
   "outputs": [],
   "source": [
    "hypothesis['RICE'] = round(hypothesis['Reach'] * hypothesis['Impact'] * hypothesis['Confidence'] / hypothesis['Efforts'], 1)\n",
    "hypothesis = hypothesis.sort_values('RICE', ascending=False).reset_index(drop=True)"
   ]
  },
  {
   "cell_type": "code",
   "execution_count": 8,
   "id": "bcfc18aa",
   "metadata": {},
   "outputs": [
    {
     "data": {
      "text/html": [
       "<div>\n",
       "<style scoped>\n",
       "    .dataframe tbody tr th:only-of-type {\n",
       "        vertical-align: middle;\n",
       "    }\n",
       "\n",
       "    .dataframe tbody tr th {\n",
       "        vertical-align: top;\n",
       "    }\n",
       "\n",
       "    .dataframe thead th {\n",
       "        text-align: right;\n",
       "    }\n",
       "</style>\n",
       "<table border=\"1\" class=\"dataframe\">\n",
       "  <thead>\n",
       "    <tr style=\"text-align: right;\">\n",
       "      <th></th>\n",
       "      <th>Hypothesis</th>\n",
       "      <th>Reach</th>\n",
       "      <th>Impact</th>\n",
       "      <th>Confidence</th>\n",
       "      <th>Efforts</th>\n",
       "      <th>ICE</th>\n",
       "      <th>RICE</th>\n",
       "    </tr>\n",
       "  </thead>\n",
       "  <tbody>\n",
       "    <tr>\n",
       "      <th>0</th>\n",
       "      <td>Добавить форму подписки на все основные страницы, чтобы собрать базу клиентов для email-рассылок</td>\n",
       "      <td>10</td>\n",
       "      <td>7</td>\n",
       "      <td>8</td>\n",
       "      <td>5</td>\n",
       "      <td>11.2</td>\n",
       "      <td>112.0</td>\n",
       "    </tr>\n",
       "    <tr>\n",
       "      <th>1</th>\n",
       "      <td>Добавить блоки рекомендаций товаров на сайт интернет магазина, чтобы повысить конверсию и средний чек заказа</td>\n",
       "      <td>8</td>\n",
       "      <td>3</td>\n",
       "      <td>7</td>\n",
       "      <td>3</td>\n",
       "      <td>7.0</td>\n",
       "      <td>56.0</td>\n",
       "    </tr>\n",
       "    <tr>\n",
       "      <th>2</th>\n",
       "      <td>Добавить два новых канала привлечения трафика, что позволит привлекать на 30% больше пользователей</td>\n",
       "      <td>3</td>\n",
       "      <td>10</td>\n",
       "      <td>8</td>\n",
       "      <td>6</td>\n",
       "      <td>13.3</td>\n",
       "      <td>40.0</td>\n",
       "    </tr>\n",
       "    <tr>\n",
       "      <th>3</th>\n",
       "      <td>Показать на главной странице баннеры с актуальными акциями и распродажами, чтобы увеличить конверсию</td>\n",
       "      <td>5</td>\n",
       "      <td>3</td>\n",
       "      <td>8</td>\n",
       "      <td>3</td>\n",
       "      <td>8.0</td>\n",
       "      <td>40.0</td>\n",
       "    </tr>\n",
       "    <tr>\n",
       "      <th>4</th>\n",
       "      <td>Запустить акцию, дающую скидку на товар в день рождения</td>\n",
       "      <td>1</td>\n",
       "      <td>9</td>\n",
       "      <td>9</td>\n",
       "      <td>5</td>\n",
       "      <td>16.2</td>\n",
       "      <td>16.2</td>\n",
       "    </tr>\n",
       "    <tr>\n",
       "      <th>5</th>\n",
       "      <td>Изменить структура категорий, что увеличит конверсию, т.к. пользователи быстрее найдут нужный товар</td>\n",
       "      <td>8</td>\n",
       "      <td>3</td>\n",
       "      <td>3</td>\n",
       "      <td>8</td>\n",
       "      <td>1.1</td>\n",
       "      <td>9.0</td>\n",
       "    </tr>\n",
       "    <tr>\n",
       "      <th>6</th>\n",
       "      <td>Запустить собственную службу доставки, что сократит срок доставки заказов</td>\n",
       "      <td>2</td>\n",
       "      <td>5</td>\n",
       "      <td>4</td>\n",
       "      <td>10</td>\n",
       "      <td>2.0</td>\n",
       "      <td>4.0</td>\n",
       "    </tr>\n",
       "    <tr>\n",
       "      <th>7</th>\n",
       "      <td>Добавить страницу отзывов клиентов о магазине, что позволит увеличить количество заказов</td>\n",
       "      <td>3</td>\n",
       "      <td>2</td>\n",
       "      <td>2</td>\n",
       "      <td>3</td>\n",
       "      <td>1.3</td>\n",
       "      <td>4.0</td>\n",
       "    </tr>\n",
       "    <tr>\n",
       "      <th>8</th>\n",
       "      <td>Изменить цвет фона главной страницы, чтобы увеличить вовлеченность пользователей</td>\n",
       "      <td>3</td>\n",
       "      <td>1</td>\n",
       "      <td>1</td>\n",
       "      <td>1</td>\n",
       "      <td>1.0</td>\n",
       "      <td>3.0</td>\n",
       "    </tr>\n",
       "  </tbody>\n",
       "</table>\n",
       "</div>"
      ],
      "text/plain": [
       "                                                                                                     Hypothesis  \\\n",
       "0  Добавить форму подписки на все основные страницы, чтобы собрать базу клиентов для email-рассылок               \n",
       "1  Добавить блоки рекомендаций товаров на сайт интернет магазина, чтобы повысить конверсию и средний чек заказа   \n",
       "2  Добавить два новых канала привлечения трафика, что позволит привлекать на 30% больше пользователей             \n",
       "3  Показать на главной странице баннеры с актуальными акциями и распродажами, чтобы увеличить конверсию           \n",
       "4  Запустить акцию, дающую скидку на товар в день рождения                                                        \n",
       "5  Изменить структура категорий, что увеличит конверсию, т.к. пользователи быстрее найдут нужный товар            \n",
       "6  Запустить собственную службу доставки, что сократит срок доставки заказов                                      \n",
       "7  Добавить страницу отзывов клиентов о магазине, что позволит увеличить количество заказов                       \n",
       "8  Изменить цвет фона главной страницы, чтобы увеличить вовлеченность пользователей                               \n",
       "\n",
       "   Reach  Impact  Confidence  Efforts   ICE   RICE  \n",
       "0  10     7       8           5        11.2  112.0  \n",
       "1  8      3       7           3        7.0   56.0   \n",
       "2  3      10      8           6        13.3  40.0   \n",
       "3  5      3       8           3        8.0   40.0   \n",
       "4  1      9       9           5        16.2  16.2   \n",
       "5  8      3       3           8        1.1   9.0    \n",
       "6  2      5       4           10       2.0   4.0    \n",
       "7  3      2       2           3        1.3   4.0    \n",
       "8  3      1       1           1        1.0   3.0    "
      ]
     },
     "execution_count": 8,
     "metadata": {},
     "output_type": "execute_result"
    }
   ],
   "source": [
    "hypothesis"
   ]
  },
  {
   "cell_type": "code",
   "execution_count": 9,
   "id": "ddaee38d",
   "metadata": {},
   "outputs": [
    {
     "data": {
      "image/png": "[encoded data removed]",
      "text/plain": [
       "<Figure size 432x288 with 1 Axes>"
      ]
     },
     "metadata": {
      "needs_background": "light"
     },
     "output_type": "display_data"
    }
   ],
   "source": [
    "ax = hypothesis[['Hypothesis', 'RICE']].set_index('Hypothesis').sort_values('RICE', ascending=True).plot(kind='barh')\n",
    "ax.set_xlabel('Приоритет')\n",
    "ax.set_ylabel('Гипотеза')\n",
    "ax.set_title('RICE')\n",
    "plt.show()"
   ]
  },
  {
   "cell_type": "markdown",
   "id": "22d1c441",
   "metadata": {},
   "source": [
    "**Вывод:**\n",
    "\n",
    "Мы применили два варианта приоритизации гипотез. У нас получились немного разные результаты, так как RICE учитывает охват, в то время как ICE - нет"
   ]
  },
  {
   "cell_type": "markdown",
   "id": "da89c44d",
   "metadata": {},
   "source": [
    "## 2. Анализ A/B теста"
   ]
  },
  {
   "cell_type": "markdown",
   "id": "afb547d8",
   "metadata": {},
   "source": [
    "1. Постройте график кумулятивной выручки по группам. Сделайте выводы и предположения.\n",
    "\n",
    "\n",
    "2. Постройте график кумулятивного среднего чека по группам. Сделайте выводы и предположения.\n",
    "\n",
    "\n",
    "3. Постройте график относительного изменения кумулятивного среднего чека группы B к группе A. Сделайте выводы и предположения.\n",
    "\n",
    "\n",
    "4. Постройте график кумулятивной конверсии по группам. Сделайте выводы и предположения.\n",
    "\n",
    "\n",
    "5. Постройте график относительного изменения кумулятивной конверсии группы B к группе A. Сделайте выводы и предположения.\n",
    "\n",
    "\n",
    "6. Постройте точечный график количества заказов по пользователям. Сделайте выводы и предположения.\n",
    "\n",
    "\n",
    "7. Посчитайте 95-й и 99-й перцентили количества заказов на пользователя. Выберите границу для определения аномальных пользователей.\n",
    "\n",
    "\n",
    "8. Постройте точечный график стоимостей заказов. Сделайте выводы и предположения.\n",
    "\n",
    "\n",
    "9. Посчитайте 95-й и 99-й перцентили стоимости заказов. Выберите границу для определения аномальных заказов.\n",
    "\n",
    "\n",
    "10. Посчитайте статистическую значимость различий в конверсии между группами по «сырым» данным. Сделайте выводы и предположения.\n",
    "\n",
    "\n",
    "11. Посчитайте статистическую значимость различий в среднем чеке заказа между группами по «сырым» данным. Сделайте выводы и предположения.\n",
    "\n",
    "\n",
    "12. Посчитайте статистическую значимость различий в конверсии между группами по «очищенным» данным. Сделайте выводы и предположения.\n",
    "\n",
    "\n",
    "13. Посчитайте статистическую значимость различий в среднем чеке заказа между группами по «очищенным» данным. Сделайте выводы и предположения.\n",
    "\n",
    "\n",
    "14. Примите решение по результатам теста и объясните его. Варианты решений: 1. Остановить тест, зафиксировать победу одной из групп. 2. Остановить тест, зафиксировать отсутствие различий между группами. 3. Продолжить тест."
   ]
  },
  {
   "cell_type": "markdown",
   "id": "93c7df8e",
   "metadata": {},
   "source": [
    "**Предобратока данных**"
   ]
  },
  {
   "cell_type": "code",
   "execution_count": 10,
   "id": "d0174c5c",
   "metadata": {},
   "outputs": [],
   "source": [
    "#сохраняем датасеты\n",
    "try:\n",
    "    orders = pd.read_csv('/Users/denis_sl/Desktop/проект A:B /orders.csv', parse_dates=['date'])\n",
    "    visitors = pd.read_csv('/Users/denis_sl/Desktop/проект A:B /visitors.csv', parse_dates=['date'])\n",
    "except:\n",
    "    orders = pd.read_csv('/datasets/orders.csv')\n",
    "    visitors = pd.read_csv('/datasets/visitors.csv')"
   ]
  },
  {
   "cell_type": "code",
   "execution_count": 11,
   "id": "bfb08a0b",
   "metadata": {},
   "outputs": [
    {
     "name": "stdout",
     "output_type": "stream",
     "text": [
      "<class 'pandas.core.frame.DataFrame'>\n",
      "RangeIndex: 1197 entries, 0 to 1196\n",
      "Data columns (total 5 columns):\n",
      " #   Column         Non-Null Count  Dtype \n",
      "---  ------         --------------  ----- \n",
      " 0   transactionId  1197 non-null   int64 \n",
      " 1   visitorId      1197 non-null   int64 \n",
      " 2   date           1197 non-null   object\n",
      " 3   revenue        1197 non-null   int64 \n",
      " 4   group          1197 non-null   object\n",
      "dtypes: int64(3), object(2)\n",
      "memory usage: 46.9+ KB\n"
     ]
    }
   ],
   "source": [
    "orders.info()"
   ]
  },
  {
   "cell_type": "code",
   "execution_count": 12,
   "id": "30344e14",
   "metadata": {},
   "outputs": [],
   "source": [
    "#исправим название столбцов\n",
    "orders.columns = ['transaction_id', 'visitor_id', 'date', 'revenue', 'group']"
   ]
  },
  {
   "cell_type": "code",
   "execution_count": 13,
   "id": "4ff977de",
   "metadata": {},
   "outputs": [
    {
     "name": "stdout",
     "output_type": "stream",
     "text": [
      "<class 'pandas.core.frame.DataFrame'>\n",
      "RangeIndex: 62 entries, 0 to 61\n",
      "Data columns (total 3 columns):\n",
      " #   Column    Non-Null Count  Dtype \n",
      "---  ------    --------------  ----- \n",
      " 0   date      62 non-null     object\n",
      " 1   group     62 non-null     object\n",
      " 2   visitors  62 non-null     int64 \n",
      "dtypes: int64(1), object(2)\n",
      "memory usage: 1.6+ KB\n"
     ]
    }
   ],
   "source": [
    "visitors.info()"
   ]
  },
  {
   "cell_type": "code",
   "execution_count": 14,
   "id": "e492d83e",
   "metadata": {},
   "outputs": [],
   "source": [
    "#приведм стобцы с датой к нужному формату\n",
    "orders['date'] = pd.to_datetime(orders['date'], format='%Y-%m-%d')\n",
    "visitors['date'] = pd.to_datetime(visitors['date'], format='%Y-%m-%d')"
   ]
  },
  {
   "cell_type": "code",
   "execution_count": 15,
   "id": "ac23156a",
   "metadata": {},
   "outputs": [
    {
     "name": "stdout",
     "output_type": "stream",
     "text": [
      "Кол-во посетителей в группе А: 18736\n",
      "Кол-во посетителей в группе B: 18916\n",
      "\n",
      "Кол-во покупок в группе A: 557\n",
      "Кол-во покупок в группе B: 640\n"
     ]
    }
   ],
   "source": [
    "#посмторим на количество заказов и участников теста по группам \n",
    "visitors_A = visitors[visitors['group']=='A']['visitors'].sum()\n",
    "visitors_B = visitors[visitors['group']=='B']['visitors'].sum()\n",
    "\n",
    "print('Кол-во посетителей в группе А: {}'.format(visitors_A))\n",
    "print('Кол-во посетителей в группе B: {}'.format(visitors_B))\n",
    "print()\n",
    "\n",
    "\n",
    "purchases_A = orders[orders['group']=='A']['transaction_id'].count()\n",
    "purchases_B= orders[orders['group']=='B']['transaction_id'].count()\n",
    "\n",
    "print('Кол-во покупок в группе A: {}'.format(purchases_A))\n",
    "print('Кол-во покупок в группе B: {}'.format(purchases_B))"
   ]
  },
  {
   "cell_type": "code",
   "execution_count": 16,
   "id": "299edcf2",
   "metadata": {},
   "outputs": [
    {
     "name": "stdout",
     "output_type": "stream",
     "text": [
      "Кол-во пользователей, которые есть в обоих группах:  58\n"
     ]
    }
   ],
   "source": [
    "user_by_group = orders.groupby('visitor_id', as_index=False).agg({'group': 'nunique'}).sort_values(by='group', ascending=False)\n",
    "print('Кол-во пользователей, которые есть в обоих группах: ', user_by_group.query('group == 2')['visitor_id'].count())"
   ]
  },
  {
   "cell_type": "markdown",
   "id": "12c447ac",
   "metadata": {},
   "source": [
    "Мы посчитали количество посетителей и покупок в каждой из двух групп. Также мы обнаружили, что 58 пользователй у нас попали в обе группы. Я считаю, что их можно не удалять, так как отношение этих пользователей к общим в каждой группе очень мало"
   ]
  },
  {
   "cell_type": "markdown",
   "id": "59dc60df",
   "metadata": {},
   "source": [
    "### Постройте график кумулятивной выручки по группам. Сделайте выводы и предположения."
   ]
  },
  {
   "cell_type": "code",
   "execution_count": 18,
   "id": "52997bd8",
   "metadata": {},
   "outputs": [],
   "source": [
    "# создаем массив уникальных пар значений дат и групп теста\n",
    "datesGroups = orders[['date','group']].drop_duplicates()\n",
    "\n",
    "# получаем агрегированные кумулятивные по дням данные о заказах \n",
    "ordersAggregated = datesGroups.apply(lambda x: orders[np.logical_and(orders['date'] <= x['date'], orders['group'] == x['group'])].agg({'date' : 'max', 'group' : 'max', 'transaction_id' : 'nunique', 'visitor_id' : 'nunique', 'revenue' : 'sum'}), axis=1).sort_values(by=['date','group'])\n",
    "\n",
    "# получаем агрегированные кумулятивные по дням данные о посетителях интернет-магазина \n",
    "visitorsAggregated = datesGroups.apply(lambda x: visitors[np.logical_and(visitors['date'] <= x['date'], visitors['group'] == x['group'])].agg({'date' : 'max', 'group' : 'max', 'visitors' : 'sum'}), axis=1).sort_values(by=['date','group'])\n",
    "\n",
    "# объединяем кумулятивные данные в одной таблице и присваиваем ее столбцам понятные названия\n",
    "cumulativeData = ordersAggregated.merge(visitorsAggregated, left_on=['date', 'group'], right_on=['date', 'group'])\n",
    "cumulativeData.columns = ['date', 'group', 'orders', 'buyers', 'revenue', 'visitors']"
   ]
  },
  {
   "cell_type": "code",
   "execution_count": 19,
   "id": "29a6e729",
   "metadata": {},
   "outputs": [],
   "source": [
    "#посчитаем сразу средний чек и привдем столбец с датой к нужному формату\n",
    "cumulativeData['average_check'] = round(cumulativeData['revenue'] / cumulativeData['orders'], 2)"
   ]
  },
  {
   "cell_type": "code",
   "execution_count": 20,
   "id": "5b32d60b",
   "metadata": {},
   "outputs": [
    {
     "data": {
      "text/html": [
       "<div>\n",
       "<style scoped>\n",
       "    .dataframe tbody tr th:only-of-type {\n",
       "        vertical-align: middle;\n",
       "    }\n",
       "\n",
       "    .dataframe tbody tr th {\n",
       "        vertical-align: top;\n",
       "    }\n",
       "\n",
       "    .dataframe thead th {\n",
       "        text-align: right;\n",
       "    }\n",
       "</style>\n",
       "<table border=\"1\" class=\"dataframe\">\n",
       "  <thead>\n",
       "    <tr style=\"text-align: right;\">\n",
       "      <th></th>\n",
       "      <th>date</th>\n",
       "      <th>group</th>\n",
       "      <th>orders</th>\n",
       "      <th>buyers</th>\n",
       "      <th>revenue</th>\n",
       "      <th>visitors</th>\n",
       "      <th>average_check</th>\n",
       "    </tr>\n",
       "  </thead>\n",
       "  <tbody>\n",
       "    <tr>\n",
       "      <th>0</th>\n",
       "      <td>2019-08-01</td>\n",
       "      <td>A</td>\n",
       "      <td>24</td>\n",
       "      <td>20</td>\n",
       "      <td>148579</td>\n",
       "      <td>719</td>\n",
       "      <td>6190.79</td>\n",
       "    </tr>\n",
       "    <tr>\n",
       "      <th>1</th>\n",
       "      <td>2019-08-01</td>\n",
       "      <td>B</td>\n",
       "      <td>21</td>\n",
       "      <td>20</td>\n",
       "      <td>101217</td>\n",
       "      <td>713</td>\n",
       "      <td>4819.86</td>\n",
       "    </tr>\n",
       "    <tr>\n",
       "      <th>2</th>\n",
       "      <td>2019-08-02</td>\n",
       "      <td>A</td>\n",
       "      <td>44</td>\n",
       "      <td>38</td>\n",
       "      <td>242401</td>\n",
       "      <td>1338</td>\n",
       "      <td>5509.11</td>\n",
       "    </tr>\n",
       "    <tr>\n",
       "      <th>3</th>\n",
       "      <td>2019-08-02</td>\n",
       "      <td>B</td>\n",
       "      <td>45</td>\n",
       "      <td>43</td>\n",
       "      <td>266748</td>\n",
       "      <td>1294</td>\n",
       "      <td>5927.73</td>\n",
       "    </tr>\n",
       "    <tr>\n",
       "      <th>4</th>\n",
       "      <td>2019-08-03</td>\n",
       "      <td>A</td>\n",
       "      <td>68</td>\n",
       "      <td>62</td>\n",
       "      <td>354874</td>\n",
       "      <td>1845</td>\n",
       "      <td>5218.74</td>\n",
       "    </tr>\n",
       "  </tbody>\n",
       "</table>\n",
       "</div>"
      ],
      "text/plain": [
       "        date group  orders  buyers  revenue  visitors  average_check\n",
       "0 2019-08-01  A     24      20      148579   719       6190.79      \n",
       "1 2019-08-01  B     21      20      101217   713       4819.86      \n",
       "2 2019-08-02  A     44      38      242401   1338      5509.11      \n",
       "3 2019-08-02  B     45      43      266748   1294      5927.73      \n",
       "4 2019-08-03  A     68      62      354874   1845      5218.74      "
      ]
     },
     "execution_count": 20,
     "metadata": {},
     "output_type": "execute_result"
    }
   ],
   "source": [
    "cumulativeData.head()"
   ]
  },
  {
   "cell_type": "code",
   "execution_count": 21,
   "id": "4f4d5e90",
   "metadata": {},
   "outputs": [],
   "source": [
    "# датафрейм с кумулятивным количеством заказов и кумулятивной выручкой по дням в группе А\n",
    "cumulativeRevenueA = cumulativeData[cumulativeData['group']=='A'][['date','revenue', 'orders', 'average_check']]\n",
    "\n",
    "# датафрейм с кумулятивным количеством заказов и кумулятивной выручкой по дням в группе B\n",
    "cumulativeRevenueB = cumulativeData[cumulativeData['group']=='B'][['date','revenue', 'orders', 'average_check']]"
   ]
  },
  {
   "cell_type": "code",
   "execution_count": 22,
   "id": "94afdd28",
   "metadata": {},
   "outputs": [
    {
     "data": {
      "image/png": "[encoded data removed]",
      "text/plain": [
       "<Figure size 1080x360 with 1 Axes>"
      ]
     },
     "metadata": {
      "needs_background": "light"
     },
     "output_type": "display_data"
    }
   ],
   "source": [
    "plt.figure(figsize=(15, 5))\n",
    "\n",
    "# Строим график выручки группы А\n",
    "plt.plot(cumulativeRevenueA['date'], cumulativeRevenueA['revenue'], label='A')\n",
    "\n",
    "# Строим график выручки группы B\n",
    "plt.plot(cumulativeRevenueB['date'], cumulativeRevenueB['revenue'], label='B')\n",
    "\n",
    "plt.title('Динамика кумулятивной выручки по группам')\n",
    "plt.xlabel('Дата')\n",
    "plt.ylabel('Выпучка')\n",
    "plt.xticks(rotation=45)\n",
    "plt.grid()\n",
    "plt.legend();"
   ]
  },
  {
   "cell_type": "markdown",
   "id": "51316638",
   "metadata": {},
   "source": [
    "**Вывод:**\n",
    "\n",
    "Выручка группы А растёт линейно и плавно вверх. У группы В есть один резкий скачок, который скорее всего является выбросом. Скорее всего такой резкий скачок группы В произошел, потому что кто-то совершил аномально дорогой заказ."
   ]
  },
  {
   "cell_type": "markdown",
   "id": "a2a08377",
   "metadata": {},
   "source": [
    "### 2.2 Постройте график кумулятивного среднего чека по группам. Сделайте выводы и предположения."
   ]
  },
  {
   "cell_type": "code",
   "execution_count": 23,
   "id": "9eae143c",
   "metadata": {
    "scrolled": false
   },
   "outputs": [
    {
     "data": {
      "image/png": "[encoded data removed]",
      "text/plain": [
       "<Figure size 1080x360 with 1 Axes>"
      ]
     },
     "metadata": {
      "needs_background": "light"
     },
     "output_type": "display_data"
    }
   ],
   "source": [
    "plt.figure(figsize=(15, 5))\n",
    "\n",
    "plt.plot(cumulativeRevenueA['date'], cumulativeRevenueA['average_check'], label='A')\n",
    "plt.plot(cumulativeRevenueB['date'], cumulativeRevenueB['average_check'], label='B')\n",
    "\n",
    "plt.title('Динамика среднего чека по группам')\n",
    "plt.ylabel('Средний чек')\n",
    "plt.xlabel('Дата')\n",
    "plt.xticks(rotation=45)\n",
    "plt.grid()\n",
    "plt.legend();"
   ]
  },
  {
   "cell_type": "markdown",
   "id": "3da43079",
   "metadata": {},
   "source": [
    "**Вывод:**\n",
    "\n",
    "Здесь примерно такая же картина, виден резкий скачок среднего чека у группы В между 17 и 21 августа"
   ]
  },
  {
   "cell_type": "markdown",
   "id": "9fbc80c9",
   "metadata": {},
   "source": [
    "### 2.3 Постройте график относительного изменения кумулятивного среднего чека группы B к группе A. Сделайте выводы и предположения."
   ]
  },
  {
   "cell_type": "code",
   "execution_count": 24,
   "id": "97fadcad",
   "metadata": {},
   "outputs": [
    {
     "data": {
      "image/png": "[encoded data removed]",
      "text/plain": [
       "<Figure size 1080x360 with 1 Axes>"
      ]
     },
     "metadata": {
      "needs_background": "light"
     },
     "output_type": "display_data"
    }
   ],
   "source": [
    "# собираем данные в одном датафрейме\n",
    "mergedCumulativeRevenue = cumulativeRevenueA.merge(cumulativeRevenueB, left_on='date', right_on='date', how='left', suffixes=['_A', '_B'])\n",
    "\n",
    "\n",
    "plt.figure(figsize=(15, 5))\n",
    "# cтроим отношение средних чеков\n",
    "plt.plot(mergedCumulativeRevenue['date'], mergedCumulativeRevenue['average_check_B'] / mergedCumulativeRevenue['average_check_A'] -1)\n",
    "\n",
    "\n",
    "plt.title('Отношение среднего чека группы В к группе А')\n",
    "plt.xlabel(\"Дата\")\n",
    "plt.ylabel('Отношение')\n",
    "plt.xticks(rotation=45)\n",
    "plt.grid()\n",
    "# добавляем ось X\n",
    "plt.axhline(y=0, color='black', linestyle='--');"
   ]
  },
  {
   "cell_type": "markdown",
   "id": "60afe635",
   "metadata": {},
   "source": [
    "**Вывод:**\n",
    "\n",
    "Все три графика примерно одинаковые, сначала мы видим рост среднего чека, затем небольшой спад. Но в августе также наблюдается пик графика, скорее всего был совершён аномально дорогой заказ"
   ]
  },
  {
   "cell_type": "markdown",
   "id": "dd361888",
   "metadata": {},
   "source": [
    "### 2.4 Постройте график кумулятивной конверсии по группам. Сделайте выводы и предположения."
   ]
  },
  {
   "cell_type": "code",
   "execution_count": 25,
   "id": "30320ec8",
   "metadata": {},
   "outputs": [
    {
     "data": {
      "image/png": "[encoded data removed]",
      "text/plain": [
       "<Figure size 1080x360 with 1 Axes>"
      ]
     },
     "metadata": {
      "needs_background": "light"
     },
     "output_type": "display_data"
    }
   ],
   "source": [
    "plt.figure(figsize=(15, 5))\n",
    "\n",
    "# считаем кумулятивную конверсию\n",
    "cumulativeData['conversion'] = cumulativeData['orders']/cumulativeData['visitors']\n",
    "\n",
    "# отделяем данные по группе A\n",
    "cumulativeDataA = cumulativeData[cumulativeData['group']=='A']\n",
    "\n",
    "# отделяем данные по группе B\n",
    "cumulativeDataB = cumulativeData[cumulativeData['group']=='B']\n",
    "\n",
    "# строим графики\n",
    "plt.plot(cumulativeDataA['date'], cumulativeDataA['conversion'], label='A')\n",
    "plt.plot(cumulativeDataB['date'], cumulativeDataB['conversion'], label='B')\n",
    "\n",
    "\n",
    "plt.title('Динамика конверсии по группам')\n",
    "plt.ylabel('Конверсия')\n",
    "plt.xlabel('Дата')\n",
    "plt.xticks(rotation=45)\n",
    "plt.grid()\n",
    "plt.legend()\n",
    "\n",
    "# задаем масштаб осей\n",
    "plt.axis([min(cumulativeData['date']), \n",
    "          max(cumulativeData['date']), \n",
    "          min(cumulativeData['conversion']), \n",
    "          max(cumulativeData['conversion'])]);"
   ]
  },
  {
   "cell_type": "markdown",
   "id": "ea2e651a",
   "metadata": {},
   "source": [
    "**Вывод:**\n",
    "\n",
    "У обоих групп заметен резкий рост конверсии в самом начале августе, но затем у конверсии в группе А происходит сильный спад. Конверсия у группы В кажется намного лучше"
   ]
  },
  {
   "cell_type": "markdown",
   "id": "1016def5",
   "metadata": {},
   "source": [
    "### 2.5 Постройте график относительного изменения кумулятивной конверсии группы B к группе A. Сделайте выводы и предположения."
   ]
  },
  {
   "cell_type": "code",
   "execution_count": 26,
   "id": "386f200b",
   "metadata": {},
   "outputs": [
    {
     "data": {
      "image/png": "[encoded data removed]",
      "text/plain": [
       "<Figure size 1080x360 with 1 Axes>"
      ]
     },
     "metadata": {
      "needs_background": "light"
     },
     "output_type": "display_data"
    }
   ],
   "source": [
    "mergedCumulativeConversions = cumulativeDataA[['date','conversion']].merge(cumulativeDataB[['date','conversion']], left_on='date', right_on='date', how='left', suffixes=['_A', '_B'])\n",
    "\n",
    "plt.figure(figsize=(15, 5))\n",
    "\n",
    "plt.plot(mergedCumulativeConversions['date'], mergedCumulativeConversions['conversion_B']/mergedCumulativeConversions['conversion_A']-1, label='Соотношение')\n",
    "plt.title('Отношение конверсии группы В к группе А')\n",
    "plt.xlabel('Дата')\n",
    "plt.ylabel('Соотношение')\n",
    "plt.xticks(rotation=45)\n",
    "plt.grid()\n",
    "plt.legend()\n",
    "\n",
    "plt.axhline(y=0, color='red', linestyle='--')\n",
    "plt.axis([min(mergedCumulativeConversions['date']),\n",
    "          max(mergedCumulativeConversions['date']),\n",
    "          min(mergedCumulativeConversions['conversion_B']/mergedCumulativeConversions['conversion_A']-1),\n",
    "          max(mergedCumulativeConversions['conversion_B']/mergedCumulativeConversions['conversion_A']-1)]);\n",
    "\n"
   ]
  },
  {
   "cell_type": "markdown",
   "id": "1145d03e",
   "metadata": {},
   "source": [
    "**Вывод:**\n",
    "\n",
    "Конверсия группы А выигрывает только в период с 3 по  6 августа. В остальное время конверсия группы В выглядит намного лучше. График закрепился в значениях от 10% до 15%"
   ]
  },
  {
   "cell_type": "markdown",
   "id": "cfa7896d",
   "metadata": {},
   "source": [
    "### 2.6 Постройте точечный график количества заказов по пользователям. Сделайте выводы и предположения."
   ]
  },
  {
   "cell_type": "code",
   "execution_count": 27,
   "id": "551f0e83",
   "metadata": {},
   "outputs": [],
   "source": [
    "#составим сводную таблицу\n",
    "orders_by_users = orders.groupby('visitor_id', as_index=False).agg({'transaction_id': 'nunique'})\n",
    "orders_by_users.columns = ['visitor_id', 'orders']"
   ]
  },
  {
   "cell_type": "code",
   "execution_count": 28,
   "id": "7f71c6d6",
   "metadata": {
    "scrolled": true
   },
   "outputs": [
    {
     "data": {
      "text/html": [
       "<div>\n",
       "<style scoped>\n",
       "    .dataframe tbody tr th:only-of-type {\n",
       "        vertical-align: middle;\n",
       "    }\n",
       "\n",
       "    .dataframe tbody tr th {\n",
       "        vertical-align: top;\n",
       "    }\n",
       "\n",
       "    .dataframe thead th {\n",
       "        text-align: right;\n",
       "    }\n",
       "</style>\n",
       "<table border=\"1\" class=\"dataframe\">\n",
       "  <thead>\n",
       "    <tr style=\"text-align: right;\">\n",
       "      <th></th>\n",
       "      <th>visitor_id</th>\n",
       "      <th>orders</th>\n",
       "    </tr>\n",
       "  </thead>\n",
       "  <tbody>\n",
       "    <tr>\n",
       "      <th>0</th>\n",
       "      <td>5114589</td>\n",
       "      <td>1</td>\n",
       "    </tr>\n",
       "    <tr>\n",
       "      <th>1</th>\n",
       "      <td>6958315</td>\n",
       "      <td>1</td>\n",
       "    </tr>\n",
       "    <tr>\n",
       "      <th>2</th>\n",
       "      <td>8300375</td>\n",
       "      <td>2</td>\n",
       "    </tr>\n",
       "    <tr>\n",
       "      <th>3</th>\n",
       "      <td>11685486</td>\n",
       "      <td>1</td>\n",
       "    </tr>\n",
       "    <tr>\n",
       "      <th>4</th>\n",
       "      <td>39475350</td>\n",
       "      <td>1</td>\n",
       "    </tr>\n",
       "  </tbody>\n",
       "</table>\n",
       "</div>"
      ],
      "text/plain": [
       "   visitor_id  orders\n",
       "0  5114589     1     \n",
       "1  6958315     1     \n",
       "2  8300375     2     \n",
       "3  11685486    1     \n",
       "4  39475350    1     "
      ]
     },
     "execution_count": 28,
     "metadata": {},
     "output_type": "execute_result"
    }
   ],
   "source": [
    "orders_by_users.head()"
   ]
  },
  {
   "cell_type": "code",
   "execution_count": 29,
   "id": "2ee11db1",
   "metadata": {},
   "outputs": [
    {
     "data": {
      "image/png": "[encoded data removed]",
      "text/plain": [
       "<Figure size 1080x720 with 1 Axes>"
      ]
     },
     "metadata": {
      "needs_background": "light"
     },
     "output_type": "display_data"
    }
   ],
   "source": [
    "#значение по оси Х\n",
    "x_values = pd.Series(range(0,len(orders_by_users)))\n",
    "\n",
    "plt.figure(figsize=(15, 10))\n",
    "plt.scatter(x_values, orders_by_users['orders'], color='red')\n",
    "plt.title('Точечный график количества заказов')\n",
    "plt.ylabel('Кол-во заказов')\n",
    "plt.grid()\n",
    "plt.show()"
   ]
  },
  {
   "cell_type": "markdown",
   "id": "95a112fb",
   "metadata": {},
   "source": [
    "**Вывод:**\n",
    "\n",
    "На графике сразу видны несколько точечных выбросов - больше 4 заказов. Чаще всего пользователи совершали 1 или 2 заказа"
   ]
  },
  {
   "cell_type": "markdown",
   "id": "9c638175",
   "metadata": {},
   "source": [
    "### 2.7 Посчитайте 95-й и 99-й перцентили количества заказов на пользователя. Выберите границу для определения аномальных пользователей."
   ]
  },
  {
   "cell_type": "code",
   "execution_count": 30,
   "id": "0e184f10",
   "metadata": {},
   "outputs": [
    {
     "name": "stdout",
     "output_type": "stream",
     "text": [
      "90 перцентиль: 1.00\n",
      "95 перцентиль: 2.00\n",
      "99 перцентиль: 4.00\n"
     ]
    }
   ],
   "source": [
    "#считаем перцентили\n",
    "\n",
    "print('90 перцентиль: %.2f' % (np.percentile(orders_by_users['orders'], [90])))\n",
    "print('95 перцентиль: %.2f' % (np.percentile(orders_by_users['orders'], [95])))\n",
    "print('99 перцентиль: %.2f' % (np.percentile(orders_by_users['orders'], [99])))"
   ]
  },
  {
   "cell_type": "markdown",
   "id": "84158373",
   "metadata": {},
   "source": [
    "**Вывод:**\n",
    "\n",
    "Исхлдя из графика и перцентилей, будем считать пользователей аномальными, если они сделали `больше 4 заказов`"
   ]
  },
  {
   "cell_type": "markdown",
   "id": "11ebf844",
   "metadata": {},
   "source": [
    "### 2.8 Постройте точечный график стоимостей заказов. Сделайте выводы и предположения."
   ]
  },
  {
   "cell_type": "code",
   "execution_count": 31,
   "id": "3dbd3543",
   "metadata": {},
   "outputs": [
    {
     "data": {
      "image/png": "[encoded data removed]",
      "text/plain": [
       "<Figure size 1080x720 with 1 Axes>"
      ]
     },
     "metadata": {
      "needs_background": "light"
     },
     "output_type": "display_data"
    }
   ],
   "source": [
    "#значение по оси Х\n",
    "x_values = pd.Series(range(0,len(orders)))\n",
    "\n",
    "plt.figure(figsize=(15, 10))\n",
    "plt.scatter(x_values, orders['revenue'], color='red')\n",
    "plt.title('Точечный график стоимости заказов')\n",
    "plt.ylabel('Стоимость заказа')\n",
    "plt.grid()\n",
    "plt.show()"
   ]
  },
  {
   "cell_type": "code",
   "execution_count": 32,
   "id": "993d0202",
   "metadata": {},
   "outputs": [
    {
     "data": {
      "text/html": [
       "<div>\n",
       "<style scoped>\n",
       "    .dataframe tbody tr th:only-of-type {\n",
       "        vertical-align: middle;\n",
       "    }\n",
       "\n",
       "    .dataframe tbody tr th {\n",
       "        vertical-align: top;\n",
       "    }\n",
       "\n",
       "    .dataframe thead th {\n",
       "        text-align: right;\n",
       "    }\n",
       "</style>\n",
       "<table border=\"1\" class=\"dataframe\">\n",
       "  <thead>\n",
       "    <tr style=\"text-align: right;\">\n",
       "      <th></th>\n",
       "      <th>transaction_id</th>\n",
       "      <th>visitor_id</th>\n",
       "      <th>date</th>\n",
       "      <th>revenue</th>\n",
       "      <th>group</th>\n",
       "    </tr>\n",
       "  </thead>\n",
       "  <tbody>\n",
       "    <tr>\n",
       "      <th>425</th>\n",
       "      <td>590470918</td>\n",
       "      <td>1920142716</td>\n",
       "      <td>2019-08-19</td>\n",
       "      <td>1294500</td>\n",
       "      <td>B</td>\n",
       "    </tr>\n",
       "    <tr>\n",
       "      <th>1196</th>\n",
       "      <td>3936777065</td>\n",
       "      <td>2108080724</td>\n",
       "      <td>2019-08-15</td>\n",
       "      <td>202740</td>\n",
       "      <td>B</td>\n",
       "    </tr>\n",
       "    <tr>\n",
       "      <th>858</th>\n",
       "      <td>192721366</td>\n",
       "      <td>1316129916</td>\n",
       "      <td>2019-08-27</td>\n",
       "      <td>93940</td>\n",
       "      <td>A</td>\n",
       "    </tr>\n",
       "  </tbody>\n",
       "</table>\n",
       "</div>"
      ],
      "text/plain": [
       "      transaction_id  visitor_id       date  revenue group\n",
       "425   590470918       1920142716 2019-08-19  1294500  B   \n",
       "1196  3936777065      2108080724 2019-08-15  202740   B   \n",
       "858   192721366       1316129916 2019-08-27  93940    A   "
      ]
     },
     "execution_count": 32,
     "metadata": {},
     "output_type": "execute_result"
    }
   ],
   "source": [
    "#узнаем что это за два выброса\n",
    "orders.sort_values('revenue', ascending=False).head(3)"
   ]
  },
  {
   "cell_type": "code",
   "execution_count": 33,
   "id": "d35a04b2",
   "metadata": {},
   "outputs": [
    {
     "data": {
      "image/png": "[encoded data removed]",
      "text/plain": [
       "<Figure size 1080x720 with 1 Axes>"
      ]
     },
     "metadata": {
      "needs_background": "light"
     },
     "output_type": "display_data"
    }
   ],
   "source": [
    "#уберем эти два аномально больших заказа и построим еще раз график\n",
    "orders_clear = orders.query('revenue != [1294500, 202740]')\n",
    "\n",
    "x_values = pd.Series(range(0,len(orders_clear)))\n",
    "\n",
    "plt.figure(figsize=(15, 10))\n",
    "plt.scatter(x_values, orders_clear['revenue'], color='red')\n",
    "plt.title('Точечный график стоимости заказов без выбросов')\n",
    "plt.ylabel('Стоимость заказа')\n",
    "plt.grid()\n",
    "plt.show()"
   ]
  },
  {
   "cell_type": "markdown",
   "id": "e3eaed78",
   "metadata": {},
   "source": [
    "**Вывод:**\n",
    "\n",
    "Мы четко видим два выброса по сумме заказа, возможно из-за этого и был резкий скачок у группы В на графиках выше. На графике без этих двух выбросов видно, что большинство заказов не превышают 20000."
   ]
  },
  {
   "cell_type": "markdown",
   "id": "3c796421",
   "metadata": {},
   "source": [
    "### Посчитайте 95-й и 99-й перцентили стоимости заказов. Выберите границу для определения аномальных заказов."
   ]
  },
  {
   "cell_type": "code",
   "execution_count": 34,
   "id": "d2fe40dc",
   "metadata": {},
   "outputs": [
    {
     "name": "stdout",
     "output_type": "stream",
     "text": [
      "90 перцентиль: 18168.0\n",
      "95 перцентиль: 28000.0\n",
      "99 перцентиль: 58233.2\n"
     ]
    }
   ],
   "source": [
    "#считаем перцентили\n",
    "\n",
    "print('90 перцентиль: %.1f' % (np.percentile(orders['revenue'], [90])))\n",
    "print('95 перцентиль: %.1f' % (np.percentile(orders['revenue'], [95])))\n",
    "print('99 перцентиль: %.1f' % (np.percentile(orders['revenue'], [99])))"
   ]
  },
  {
   "cell_type": "code",
   "execution_count": 35,
   "id": "c2d70eab",
   "metadata": {},
   "outputs": [
    {
     "data": {
      "text/plain": [
       "1294500"
      ]
     },
     "execution_count": 35,
     "metadata": {},
     "output_type": "execute_result"
    }
   ],
   "source": [
    "#проверим сумму самого дорого заказа и дату совершения\n",
    "max(orders['revenue'])"
   ]
  },
  {
   "cell_type": "code",
   "execution_count": 36,
   "id": "dafc23f2",
   "metadata": {},
   "outputs": [
    {
     "data": {
      "text/html": [
       "<div>\n",
       "<style scoped>\n",
       "    .dataframe tbody tr th:only-of-type {\n",
       "        vertical-align: middle;\n",
       "    }\n",
       "\n",
       "    .dataframe tbody tr th {\n",
       "        vertical-align: top;\n",
       "    }\n",
       "\n",
       "    .dataframe thead th {\n",
       "        text-align: right;\n",
       "    }\n",
       "</style>\n",
       "<table border=\"1\" class=\"dataframe\">\n",
       "  <thead>\n",
       "    <tr style=\"text-align: right;\">\n",
       "      <th></th>\n",
       "      <th>transaction_id</th>\n",
       "      <th>visitor_id</th>\n",
       "      <th>date</th>\n",
       "      <th>revenue</th>\n",
       "      <th>group</th>\n",
       "    </tr>\n",
       "  </thead>\n",
       "  <tbody>\n",
       "    <tr>\n",
       "      <th>425</th>\n",
       "      <td>590470918</td>\n",
       "      <td>1920142716</td>\n",
       "      <td>2019-08-19</td>\n",
       "      <td>1294500</td>\n",
       "      <td>B</td>\n",
       "    </tr>\n",
       "  </tbody>\n",
       "</table>\n",
       "</div>"
      ],
      "text/plain": [
       "     transaction_id  visitor_id       date  revenue group\n",
       "425  590470918       1920142716 2019-08-19  1294500  B   "
      ]
     },
     "execution_count": 36,
     "metadata": {},
     "output_type": "execute_result"
    }
   ],
   "source": [
    "orders.query('revenue == 1294500')"
   ]
  },
  {
   "cell_type": "markdown",
   "id": "f07f358e",
   "metadata": {},
   "source": [
    "**Вывод:**\n",
    "Ожидания потвердились: самый дорогой заказ был совершен 19 августа, что соответсвует графику. Значит, это анаомалия. Также будем считать аномалией заказы дороже `58 233`"
   ]
  },
  {
   "cell_type": "markdown",
   "id": "32e81089",
   "metadata": {},
   "source": [
    "### 2.10 Посчитайте статистическую значимость различий в конверсии между группами по «сырым» данным. Сделайте выводы и предположения."
   ]
  },
  {
   "cell_type": "markdown",
   "id": "2041e92b",
   "metadata": {},
   "source": [
    "**Нулевая гипотеза:** Конверсия в группе A равна конверсии в группе B\n",
    "\n",
    "\n",
    "**Альтернативная гипотеза:** Конверсия в группе A отличается от  конверсии в группе B\n",
    "\n",
    "\n",
    "**Уровень значимости:** 5%\n",
    "\n",
    "\n",
    "Используем статистический критерий Манна Уитни"
   ]
  },
  {
   "cell_type": "code",
   "execution_count": 37,
   "id": "7b078f3d",
   "metadata": {},
   "outputs": [],
   "source": [
    "#посчитаем кол-во заказов по пользователям для двух групп\n",
    "ordersByUsersA = (\n",
    "    orders[orders['group'] == 'A']\n",
    "    .groupby('visitor_id', as_index=False)\n",
    "    .agg({'transaction_id': pd.Series.nunique})\n",
    ")\n",
    "ordersByUsersA.columns = ['userId', 'orders']\n",
    "\n",
    "\n",
    "ordersByUsersB = (\n",
    "    orders[orders['group'] == 'B']\n",
    "    .groupby('visitor_id', as_index=False)\n",
    "    .agg({'transaction_id': pd.Series.nunique})\n",
    ")\n",
    "ordersByUsersB.columns = ['userId', 'orders']"
   ]
  },
  {
   "cell_type": "code",
   "execution_count": 38,
   "id": "4197a878",
   "metadata": {},
   "outputs": [],
   "source": [
    "# в массиве у тех, кто не делал ни одного заказа будет стоять 0\n",
    "sampleA = pd.concat([ordersByUsersA['orders'],\n",
    "                     pd.Series(0, index=np.arange(visitors[visitors['group']=='A']['visitors'].sum() - len(ordersByUsersA['orders'])), \n",
    "                               name='orders')],axis=0)\n",
    "\n",
    "sampleB = pd.concat([ordersByUsersB['orders'],\n",
    "                     pd.Series(0, index=np.arange(visitors[visitors['group']=='B']['visitors'].sum() - len(ordersByUsersB['orders'])), \n",
    "                               name='orders')],axis=0)"
   ]
  },
  {
   "cell_type": "code",
   "execution_count": 39,
   "id": "f4320461",
   "metadata": {},
   "outputs": [
    {
     "name": "stdout",
     "output_type": "stream",
     "text": [
      "Относительный прирост в конверсии В по отношению к группе А до очистки данных: 0.138\n",
      "P-value: 0.017\n",
      "\n",
      "Есть основания отвергнуть нулевую гипотезу: статистически значимые различия в конверсиях ЕСТЬ\n"
     ]
    }
   ],
   "source": [
    "#воспользуемся критерием Манна-Уитни\n",
    "alpha = 0.05\n",
    "p_value = (st.mannwhitneyu(sampleA, sampleB)[1])\n",
    "\n",
    "print(\"Относительный прирост в конверсии В по отношению к группе А до очистки данных: {0:.3f}\".format(sampleB.mean() / sampleA.mean() - 1))\n",
    "print('P-value: {0:.3f}'.format(p_value))\n",
    "print()\n",
    "\n",
    "if p_value < alpha:\n",
    "    print('Есть основания отвергнуть нулевую гипотезу: статистически значимые различия в конверсиях ЕСТЬ')\n",
    "else:\n",
    "    print('Нет оснований отвергнуть нулевую гипотезу: статистически значимых различий в конверсиях НЕТ')"
   ]
  },
  {
   "cell_type": "markdown",
   "id": "f8f6e562",
   "metadata": {},
   "source": [
    "**Вывод:**\n",
    "\n",
    "В качестве конверсии мы взяли кол-во заказов для каждого пользователя. Воспользовавшись критерием Манна-Уитни, мы увидеди чт о p-value значительно больше уровня значимости, поэтому у нас нет оснований отвергать нулевую гипотезу. Конверсия грууппы В по лучше А по сырым данным на 15%"
   ]
  },
  {
   "cell_type": "markdown",
   "id": "bc9fa552",
   "metadata": {},
   "source": [
    "### 2.11 Посчитайте статистическую значимость различий в среднем чеке заказа между группами по «сырым» данным. Сделайте выводы и предположения."
   ]
  },
  {
   "cell_type": "markdown",
   "id": "e69a445e",
   "metadata": {},
   "source": [
    "\n",
    "**Нулевая гипотеза:** Средний чек A равен среднему чеку группы B\n",
    "\n",
    "\n",
    "**Альтернативная гипотеза:** Средний чек A отличается от среднего чека группы B"
   ]
  },
  {
   "cell_type": "code",
   "execution_count": 40,
   "id": "f5860ef0",
   "metadata": {},
   "outputs": [
    {
     "name": "stdout",
     "output_type": "stream",
     "text": [
      "Относительный прирост в среднем чеке В по отношению к группе А до очистки данных:0.259\n",
      "P-value: 0.729\n",
      "\n",
      "Нет оснований отвергнуть нулевую гипотезу: статистически значимых различий в средних чеках НЕТ\n"
     ]
    }
   ],
   "source": [
    "p_value = st.mannwhitneyu(orders[orders['group']=='A']['revenue'], orders[orders['group']=='B']['revenue'])[1]\n",
    "\n",
    "print('Относительный прирост в среднем чеке В по отношению к группе А до очистки данных:{0:.3f}'.format(orders[orders['group']=='B']['revenue'].mean()/orders[orders['group']=='A']['revenue'].mean()-1))\n",
    "\n",
    "\n",
    "print('P-value: {0:.3f}'.format(p_value))\n",
    "print()\n",
    "\n",
    "if p_value < alpha:\n",
    "    print('Есть основания отвергнуть нулевую гипотезу: статистически значимые различия в средних чеках ЕСТЬ')\n",
    "else:\n",
    "    print('Нет оснований отвергнуть нулевую гипотезу: статистически значимых различий в средних чеках НЕТ')"
   ]
  },
  {
   "cell_type": "markdown",
   "id": "58b78e35",
   "metadata": {},
   "source": [
    "**Вывод:**\n",
    "\n",
    "На основании критерия Маннна-Уитни у нас нет оснований отвергать гипотезу, что средний чек А превосходит средний чек В. Средний чек группы В лучше А на 26%"
   ]
  },
  {
   "cell_type": "markdown",
   "id": "dd82dd68",
   "metadata": {},
   "source": [
    "### Посчитайте статистическую значимость различий в конверсии между группами по «очищенным» данным. Сделайте выводы и предположения."
   ]
  },
  {
   "cell_type": "markdown",
   "id": "fdeec97f",
   "metadata": {},
   "source": [
    "**Нулевая гипотеза:** Конверсия в группе A равна конверсии в группе B\n",
    "\n",
    "\n",
    "**Альтернативная гипотеза:** Конверсия в группе A отличается от  конверсии в группе B"
   ]
  },
  {
   "cell_type": "markdown",
   "id": "452759d0",
   "metadata": {},
   "source": [
    "Мы уже решили, что аномальными пользователи считаются те, кто совершил больше 4 заказов или сделал заказ на сумму более 58 233"
   ]
  },
  {
   "cell_type": "code",
   "execution_count": 41,
   "id": "968fd1bd",
   "metadata": {},
   "outputs": [],
   "source": [
    "#значения, которые мы приняли за аномальные\n",
    "limit_orders = 4\n",
    "limit_revenue = 58223"
   ]
  },
  {
   "cell_type": "code",
   "execution_count": 42,
   "id": "05ad85ea",
   "metadata": {},
   "outputs": [
    {
     "name": "stdout",
     "output_type": "stream",
     "text": [
      "Количество аномальных пользователей: 14\n"
     ]
    }
   ],
   "source": [
    "#аномальные заказы\n",
    "usersWithManyOrders = pd.concat([ordersByUsersA[ordersByUsersA['orders'] > limit_orders]['userId'],\n",
    "    ordersByUsersB[ordersByUsersB['orders'] > limit_revenue]['userId'],],axis=0,)\n",
    "\n",
    "#аномальные суммы заказов\n",
    "usersWithExpensiveOrders = orders[orders['revenue'] >= 58223]['visitor_id']\n",
    "\n",
    "abnormalUsers = (pd.concat([usersWithManyOrders, usersWithExpensiveOrders], axis=0)\n",
    "    .drop_duplicates()\n",
    "    .sort_values())\n",
    "\n",
    "print('Количество аномальных пользователей:', abnormalUsers.shape[0]) "
   ]
  },
  {
   "cell_type": "code",
   "execution_count": 43,
   "id": "fbf5041a",
   "metadata": {},
   "outputs": [],
   "source": [
    "#составим списки кол-ва заказов sampleA и sampleB со всеми пользователями по группам \n",
    "list_orders_1 =[]\n",
    "for i in range(0,(visitors[visitors['group']=='A']['visitors'].sum()-len(ordersByUsersA))):\n",
    "    list_orders_1.append(0)\n",
    "orders_by_non_purchased_users_A = pd.Series(data = list_orders_1, name = 'orders')\n",
    "\n",
    "list_orders_2 =[]\n",
    "for i in range(0,(visitors[visitors['group']=='B']['visitors'].sum()-len(ordersByUsersB))):\n",
    "    list_orders_2.append(0)\n",
    "orders_by_non_purchased_users_B = pd.Series(data = list_orders_2, name = 'orders')"
   ]
  },
  {
   "cell_type": "code",
   "execution_count": 44,
   "id": "f732dc67",
   "metadata": {},
   "outputs": [],
   "source": [
    "sampleAFiltered = pd.concat([\n",
    "    ordersByUsersA[np.logical_not(ordersByUsersA['userId'].isin(abnormalUsers))]['orders'],\n",
    "    orders_by_non_purchased_users_A\n",
    "], axis = 0)\n",
    "\n",
    "sampleBFiltered = pd.concat([\n",
    "    ordersByUsersB[np.logical_not(ordersByUsersB['userId'].isin(abnormalUsers))]['orders'],\n",
    "    orders_by_non_purchased_users_B\n",
    "], axis = 0)"
   ]
  },
  {
   "cell_type": "code",
   "execution_count": 45,
   "id": "404b0c9a",
   "metadata": {},
   "outputs": [
    {
     "name": "stdout",
     "output_type": "stream",
     "text": [
      "Относительный прирост конверсии группы B по отношению к группе A после очистки данных: 0.154\n",
      "P-value: 0.01449\n",
      "\n",
      "Есть основания отвергнуть нулевую гипотезу: статистически значимые различия в конверсиях ЕСТЬ\n"
     ]
    }
   ],
   "source": [
    "print('Относительный прирост конверсии группы B по отношению к группе A после очистки данных: {:.3f}'.format(sampleBFiltered.mean()/sampleAFiltered.mean()-1))\n",
    "\n",
    "results = st.mannwhitneyu(sampleAFiltered, sampleBFiltered)\n",
    "print('P-value: {0:.5f}'.format(results.pvalue))\n",
    "print()\n",
    "\n",
    "\n",
    "if results.pvalue < alpha:\n",
    "    print('Есть основания отвергнуть нулевую гипотезу: статистически значимые различия в конверсиях ЕСТЬ')\n",
    "else:\n",
    "    print('Нет оснований отвергнуть нулевую гипотезу: статистически значимых различий в конверсиях НЕТ')"
   ]
  },
  {
   "cell_type": "markdown",
   "id": "7c9a46b9",
   "metadata": {},
   "source": [
    "**Вывод:**\n",
    "\n",
    "По очищенным данным конверсия В выше конверсии из группы А на 16%. Использовав критерий Уитни, мы можем предположить , что в конверсиях есть статистически значимые различия"
   ]
  },
  {
   "cell_type": "markdown",
   "id": "a9b5d02d",
   "metadata": {},
   "source": [
    "### Посчитайте статистическую значимость различий в среднем чеке заказа между группами по «очищенным» данным. Сделайте выводы и предположения."
   ]
  },
  {
   "cell_type": "markdown",
   "id": "41210074",
   "metadata": {},
   "source": [
    "**Нулевая гипотеза:** Средний чек A равен среднему чеку группы B\n",
    "\n",
    "**Альтернативная гипотеза:** Средний чек A отличается от среднего чека группы B"
   ]
  },
  {
   "cell_type": "code",
   "execution_count": 46,
   "id": "593313df",
   "metadata": {},
   "outputs": [
    {
     "name": "stdout",
     "output_type": "stream",
     "text": [
      "Относительное изменение среднего чека в группе B по отношению группы A после очистки данных: -0.005\n",
      "P-value: 0.742\n",
      "\n",
      "Нет оснований отвергнуть нулевую гипотезу: статистически значимых различий в средних чеках НЕТ\n"
     ]
    }
   ],
   "source": [
    "print('Относительное изменение среднего чека в группе B по отношению группы A после очистки данных: {:.3f}'.format(\n",
    "orders[np.logical_and(orders['group']=='B', np.logical_not(orders['visitor_id'].isin(abnormalUsers)))]['revenue'].mean()\\\n",
    "/orders[np.logical_and(orders['group']=='A', np.logical_not(orders['visitor_id'].isin(abnormalUsers)))]['revenue'].mean()-1))\n",
    "       \n",
    "       \n",
    "results = st.mannwhitneyu(orders[np.logical_and(orders['group']=='A', np.logical_not(orders['visitor_id'].isin(abnormalUsers)))]['revenue'],\n",
    "                             orders[np.logical_and(orders['group']=='B', np.logical_not(orders['visitor_id'].isin(abnormalUsers)))]['revenue'])\n",
    "\n",
    "\n",
    "print('P-value: {0:.3f}'.format(results.pvalue))\n",
    "print()\n",
    "\n",
    "\n",
    "if results.pvalue < alpha:\n",
    "    print('Есть основания отвергнуть нулевую гипотезу: статистически значимые различия в средних чеках ЕСТЬ')\n",
    "else:\n",
    "    print('Нет оснований отвергнуть нулевую гипотезу: статистически значимых различий в средних чеках НЕТ')"
   ]
  },
  {
   "cell_type": "markdown",
   "id": "73f36847",
   "metadata": {},
   "source": [
    "**Вывод:**\n",
    "\n",
    "Мы видим, что средний чек группы В проигрывает чеку из группы А. Также на основе  p-value у нас нет оснований отвергать нулевую гипотезу."
   ]
  },
  {
   "cell_type": "markdown",
   "id": "229b9479",
   "metadata": {},
   "source": [
    "###  Примите решение по результатам теста и объясните его. "
   ]
  },
  {
   "cell_type": "markdown",
   "id": "01684a76",
   "metadata": {},
   "source": [
    "**Варинаты решений:**\n",
    "\n",
    "\n",
    "1. Остановить тест, зафиксировать победу одной из групп. \n",
    "\n",
    "2. Остановить тест, зафиксировать отсутствие различий между группами. \n",
    "\n",
    "3. Продолжить тест."
   ]
  },
  {
   "cell_type": "markdown",
   "id": "fd7271fb",
   "metadata": {},
   "source": [
    "## Общий вывод"
   ]
  },
  {
   "cell_type": "markdown",
   "id": "3ae501ef",
   "metadata": {},
   "source": [
    "1. Мы использовали фреймворки ICE и RICE для приоритизации гипотез, выявили самые приоритетные гипотезы,\n",
    "\n",
    "\n",
    "2. Кумулятивные метрики по выручке, среднему чеку и конверсии почти все время лидировали в группе B. Но у группы В были некоторые выбрсы, которые мы исключили после выделения аномальных пользователей. \n",
    "\n",
    "\n",
    "3. До и после очистки данных, показатель конверсии в группе B больше показателя в группе A - в группе В конверсия выше на 17% после очистки данных и на 15% по \"сырым\" данным. \n",
    "\n",
    "\n",
    "4. Используя разницу конверсии конверсии между группами до и после очистки данных, мы можем сказать, что **разница между конверсиями двух групп является СТАТИСТИЧЕСКИ ЗНАЧИМОЙ, что пользволяет нам сделать вывод о том, что мы можем остановить наш A/B тест и зафиксировать победу группы B**"
   ]
  }
 ],
 "metadata": {
  "ExecuteTimeLog": [
   {
    "duration": 974,
    "start_time": "2022-09-23T20:16:33.962Z"
   },
   {
    "duration": 35,
    "start_time": "2022-09-23T20:16:34.938Z"
   },
   {
    "duration": 10,
    "start_time": "2022-09-23T20:16:34.974Z"
   },
   {
    "duration": 10,
    "start_time": "2022-09-23T20:16:34.986Z"
   },
   {
    "duration": 14,
    "start_time": "2022-09-23T20:16:34.998Z"
   },
   {
    "duration": 245,
    "start_time": "2022-09-23T20:16:35.013Z"
   },
   {
    "duration": 6,
    "start_time": "2022-09-23T20:16:35.259Z"
   },
   {
    "duration": 12,
    "start_time": "2022-09-23T20:16:35.266Z"
   },
   {
    "duration": 230,
    "start_time": "2022-09-23T20:16:35.279Z"
   },
   {
    "duration": 50,
    "start_time": "2022-09-23T20:16:35.511Z"
   },
   {
    "duration": 10,
    "start_time": "2022-09-23T20:16:35.562Z"
   },
   {
    "duration": 8,
    "start_time": "2022-09-23T20:16:35.574Z"
   },
   {
    "duration": 11,
    "start_time": "2022-09-23T20:16:35.583Z"
   },
   {
    "duration": 247,
    "start_time": "2022-09-23T20:16:35.596Z"
   },
   {
    "duration": 4,
    "start_time": "2022-09-23T20:16:35.845Z"
   },
   {
    "duration": 25,
    "start_time": "2022-09-23T20:16:35.851Z"
   },
   {
    "duration": 9,
    "start_time": "2022-09-23T20:16:35.877Z"
   },
   {
    "duration": 344,
    "start_time": "2022-09-23T20:16:35.887Z"
   },
   {
    "duration": 210,
    "start_time": "2022-09-23T20:16:36.232Z"
   },
   {
    "duration": 381,
    "start_time": "2022-09-23T20:16:36.443Z"
   },
   {
    "duration": 363,
    "start_time": "2022-09-23T20:16:36.827Z"
   },
   {
    "duration": 366,
    "start_time": "2022-09-23T20:16:37.191Z"
   },
   {
    "duration": 365,
    "start_time": "2022-09-23T20:16:37.559Z"
   },
   {
    "duration": 7,
    "start_time": "2022-09-23T20:16:37.925Z"
   },
   {
    "duration": 15,
    "start_time": "2022-09-23T20:16:37.933Z"
   },
   {
    "duration": 149,
    "start_time": "2022-09-23T20:16:37.949Z"
   },
   {
    "duration": 5,
    "start_time": "2022-09-23T20:16:38.100Z"
   },
   {
    "duration": 168,
    "start_time": "2022-09-23T20:16:38.108Z"
   },
   {
    "duration": 6,
    "start_time": "2022-09-23T20:16:38.277Z"
   },
   {
    "duration": 6,
    "start_time": "2022-09-23T20:16:38.284Z"
   },
   {
    "duration": 12,
    "start_time": "2022-09-23T20:16:38.292Z"
   },
   {
    "duration": 138,
    "start_time": "2022-09-23T20:16:38.305Z"
   },
   {
    "duration": 9,
    "start_time": "2022-09-23T20:16:38.445Z"
   },
   {
    "duration": 43,
    "start_time": "2022-09-23T20:16:38.456Z"
   },
   {
    "duration": 13,
    "start_time": "2022-09-23T20:16:38.500Z"
   },
   {
    "duration": 13,
    "start_time": "2022-09-23T20:16:38.514Z"
   },
   {
    "duration": 47,
    "start_time": "2022-09-23T20:16:38.529Z"
   },
   {
    "duration": 20,
    "start_time": "2022-09-23T20:16:38.578Z"
   },
   {
    "duration": 33,
    "start_time": "2022-09-23T20:16:38.600Z"
   },
   {
    "duration": 25,
    "start_time": "2022-09-23T20:16:38.635Z"
   },
   {
    "duration": 19,
    "start_time": "2022-09-23T20:48:37.279Z"
   },
   {
    "duration": 1140,
    "start_time": "2022-09-24T06:30:17.402Z"
   },
   {
    "duration": 69,
    "start_time": "2022-09-24T06:30:19.193Z"
   },
   {
    "duration": 87,
    "start_time": "2022-09-24T06:35:12.620Z"
   },
   {
    "duration": 190,
    "start_time": "2022-09-24T06:35:17.220Z"
   },
   {
    "duration": 10,
    "start_time": "2022-09-24T06:35:17.553Z"
   },
   {
    "duration": 3,
    "start_time": "2022-09-24T06:35:17.875Z"
   },
   {
    "duration": 9,
    "start_time": "2022-09-24T06:35:18.094Z"
   },
   {
    "duration": 241,
    "start_time": "2022-09-24T06:35:18.794Z"
   },
   {
    "duration": 5,
    "start_time": "2022-09-24T06:35:19.037Z"
   },
   {
    "duration": 15,
    "start_time": "2022-09-24T06:35:19.246Z"
   },
   {
    "duration": 8,
    "start_time": "2022-09-24T06:35:19.468Z"
   },
   {
    "duration": 291,
    "start_time": "2022-09-24T06:35:19.695Z"
   },
   {
    "duration": 212,
    "start_time": "2022-09-24T06:35:19.988Z"
   },
   {
    "duration": 271,
    "start_time": "2022-09-24T06:35:25.367Z"
   },
   {
    "duration": 21,
    "start_time": "2022-09-24T06:36:47.229Z"
   },
   {
    "duration": 1023,
    "start_time": "2022-09-24T06:36:53.926Z"
   },
   {
    "duration": 35,
    "start_time": "2022-09-24T06:36:54.950Z"
   },
   {
    "duration": 10,
    "start_time": "2022-09-24T06:36:54.986Z"
   },
   {
    "duration": 7,
    "start_time": "2022-09-24T06:36:54.997Z"
   },
   {
    "duration": 7,
    "start_time": "2022-09-24T06:36:55.005Z"
   },
   {
    "duration": 264,
    "start_time": "2022-09-24T06:36:55.014Z"
   },
   {
    "duration": 6,
    "start_time": "2022-09-24T06:36:55.279Z"
   },
   {
    "duration": 15,
    "start_time": "2022-09-24T06:36:55.286Z"
   },
   {
    "duration": 234,
    "start_time": "2022-09-24T06:36:55.302Z"
   },
   {
    "duration": 49,
    "start_time": "2022-09-24T06:36:55.539Z"
   },
   {
    "duration": 10,
    "start_time": "2022-09-24T06:36:55.590Z"
   },
   {
    "duration": 8,
    "start_time": "2022-09-24T06:36:55.601Z"
   },
   {
    "duration": 12,
    "start_time": "2022-09-24T06:36:55.610Z"
   },
   {
    "duration": 244,
    "start_time": "2022-09-24T06:36:55.624Z"
   },
   {
    "duration": 3,
    "start_time": "2022-09-24T06:36:55.870Z"
   },
   {
    "duration": 12,
    "start_time": "2022-09-24T06:36:55.874Z"
   },
   {
    "duration": 19,
    "start_time": "2022-09-24T06:36:55.888Z"
   },
   {
    "duration": 295,
    "start_time": "2022-09-24T06:36:55.909Z"
   },
   {
    "duration": 236,
    "start_time": "2022-09-24T06:36:56.206Z"
   },
   {
    "duration": 337,
    "start_time": "2022-09-24T06:36:56.444Z"
   },
   {
    "duration": 397,
    "start_time": "2022-09-24T06:36:56.782Z"
   },
   {
    "duration": 360,
    "start_time": "2022-09-24T06:36:57.180Z"
   },
   {
    "duration": 362,
    "start_time": "2022-09-24T06:36:57.541Z"
   },
   {
    "duration": 7,
    "start_time": "2022-09-24T06:36:57.904Z"
   },
   {
    "duration": 6,
    "start_time": "2022-09-24T06:36:57.913Z"
   },
   {
    "duration": 178,
    "start_time": "2022-09-24T06:36:57.921Z"
   },
   {
    "duration": 5,
    "start_time": "2022-09-24T06:36:58.101Z"
   },
   {
    "duration": 180,
    "start_time": "2022-09-24T06:36:58.110Z"
   },
   {
    "duration": 12,
    "start_time": "2022-09-24T06:36:58.292Z"
   },
   {
    "duration": 9,
    "start_time": "2022-09-24T06:36:58.306Z"
   },
   {
    "duration": 10,
    "start_time": "2022-09-24T06:36:58.317Z"
   },
   {
    "duration": 151,
    "start_time": "2022-09-24T06:36:58.329Z"
   },
   {
    "duration": 20,
    "start_time": "2022-09-24T06:36:58.483Z"
   },
   {
    "duration": 25,
    "start_time": "2022-09-24T06:36:58.505Z"
   },
   {
    "duration": 11,
    "start_time": "2022-09-24T06:36:58.531Z"
   },
   {
    "duration": 8,
    "start_time": "2022-09-24T06:36:58.544Z"
   },
   {
    "duration": 19,
    "start_time": "2022-09-24T06:36:58.554Z"
   },
   {
    "duration": 5,
    "start_time": "2022-09-24T06:36:58.600Z"
   },
   {
    "duration": 19,
    "start_time": "2022-09-24T06:36:58.607Z"
   },
   {
    "duration": 12,
    "start_time": "2022-09-24T06:36:58.628Z"
   },
   {
    "duration": 267,
    "start_time": "2022-09-24T06:37:12.915Z"
   },
   {
    "duration": 314,
    "start_time": "2022-09-24T06:37:29.205Z"
   },
   {
    "duration": 268,
    "start_time": "2022-09-24T06:37:42.347Z"
   },
   {
    "duration": 267,
    "start_time": "2022-09-24T06:37:51.108Z"
   },
   {
    "duration": 281,
    "start_time": "2022-09-24T06:37:56.284Z"
   },
   {
    "duration": 278,
    "start_time": "2022-09-24T06:38:05.251Z"
   },
   {
    "duration": 469,
    "start_time": "2022-09-24T06:38:20.710Z"
   },
   {
    "duration": 308,
    "start_time": "2022-09-24T06:38:39.897Z"
   },
   {
    "duration": 280,
    "start_time": "2022-09-24T06:38:43.100Z"
   },
   {
    "duration": 423,
    "start_time": "2022-09-24T06:39:02.061Z"
   },
   {
    "duration": 7,
    "start_time": "2022-09-24T06:57:20.074Z"
   },
   {
    "duration": 18,
    "start_time": "2022-09-24T06:57:21.273Z"
   },
   {
    "duration": 11,
    "start_time": "2022-09-24T07:02:08.738Z"
   },
   {
    "duration": 5,
    "start_time": "2022-09-24T07:03:01.306Z"
   },
   {
    "duration": 248,
    "start_time": "2022-09-24T07:03:01.971Z"
   },
   {
    "duration": 203,
    "start_time": "2022-09-24T07:05:09.102Z"
   },
   {
    "duration": 311,
    "start_time": "2022-09-24T07:05:22.792Z"
   },
   {
    "duration": 276,
    "start_time": "2022-09-24T07:05:32.206Z"
   },
   {
    "duration": 336,
    "start_time": "2022-09-24T07:06:40.261Z"
   },
   {
    "duration": 5,
    "start_time": "2022-09-24T07:09:31.332Z"
   },
   {
    "duration": 186,
    "start_time": "2022-09-24T07:09:42.032Z"
   },
   {
    "duration": 398,
    "start_time": "2022-09-24T07:10:05.206Z"
   },
   {
    "duration": 11,
    "start_time": "2022-09-24T07:13:55.744Z"
   },
   {
    "duration": 9,
    "start_time": "2022-09-24T07:14:01.106Z"
   },
   {
    "duration": 155,
    "start_time": "2022-09-24T07:15:35.843Z"
   },
   {
    "duration": 160,
    "start_time": "2022-09-24T07:16:17.064Z"
   },
   {
    "duration": 5,
    "start_time": "2022-09-24T07:24:51.758Z"
   },
   {
    "duration": 1186,
    "start_time": "2022-09-24T07:24:57.683Z"
   },
   {
    "duration": 38,
    "start_time": "2022-09-24T07:24:58.872Z"
   },
   {
    "duration": 12,
    "start_time": "2022-09-24T07:24:58.912Z"
   },
   {
    "duration": 14,
    "start_time": "2022-09-24T07:24:58.927Z"
   },
   {
    "duration": 23,
    "start_time": "2022-09-24T07:24:58.944Z"
   },
   {
    "duration": 294,
    "start_time": "2022-09-24T07:24:58.969Z"
   },
   {
    "duration": 5,
    "start_time": "2022-09-24T07:24:59.265Z"
   },
   {
    "duration": 20,
    "start_time": "2022-09-24T07:24:59.272Z"
   },
   {
    "duration": 248,
    "start_time": "2022-09-24T07:24:59.294Z"
   },
   {
    "duration": 52,
    "start_time": "2022-09-24T07:24:59.544Z"
   },
   {
    "duration": 9,
    "start_time": "2022-09-24T07:24:59.598Z"
   },
   {
    "duration": 5,
    "start_time": "2022-09-24T07:24:59.609Z"
   },
   {
    "duration": 10,
    "start_time": "2022-09-24T07:24:59.615Z"
   },
   {
    "duration": 9,
    "start_time": "2022-09-24T07:24:59.627Z"
   },
   {
    "duration": 265,
    "start_time": "2022-09-24T07:24:59.637Z"
   },
   {
    "duration": 5,
    "start_time": "2022-09-24T07:24:59.903Z"
   },
   {
    "duration": 12,
    "start_time": "2022-09-24T07:24:59.909Z"
   },
   {
    "duration": 7,
    "start_time": "2022-09-24T07:24:59.922Z"
   },
   {
    "duration": 12,
    "start_time": "2022-09-24T07:24:59.931Z"
   },
   {
    "duration": 277,
    "start_time": "2022-09-24T07:24:59.944Z"
   },
   {
    "duration": 362,
    "start_time": "2022-09-24T07:25:00.222Z"
   },
   {
    "duration": 258,
    "start_time": "2022-09-24T07:25:00.585Z"
   },
   {
    "duration": 303,
    "start_time": "2022-09-24T07:25:00.844Z"
   },
   {
    "duration": 221,
    "start_time": "2022-09-24T07:25:01.148Z"
   },
   {
    "duration": 370,
    "start_time": "2022-09-24T07:25:01.371Z"
   },
   {
    "duration": 6,
    "start_time": "2022-09-24T07:25:01.743Z"
   },
   {
    "duration": 66,
    "start_time": "2022-09-24T07:25:01.751Z"
   },
   {
    "duration": 144,
    "start_time": "2022-09-24T07:25:01.820Z"
   },
   {
    "duration": 6,
    "start_time": "2022-09-24T07:25:01.966Z"
   },
   {
    "duration": 175,
    "start_time": "2022-09-24T07:25:01.974Z"
   },
   {
    "duration": 9,
    "start_time": "2022-09-24T07:25:02.150Z"
   },
   {
    "duration": 180,
    "start_time": "2022-09-24T07:25:02.160Z"
   },
   {
    "duration": 6,
    "start_time": "2022-09-24T07:25:02.342Z"
   },
   {
    "duration": 10,
    "start_time": "2022-09-24T07:25:02.349Z"
   },
   {
    "duration": 16,
    "start_time": "2022-09-24T07:25:02.360Z"
   },
   {
    "duration": 128,
    "start_time": "2022-09-24T07:25:02.378Z"
   },
   {
    "duration": 7,
    "start_time": "2022-09-24T07:25:02.508Z"
   },
   {
    "duration": 20,
    "start_time": "2022-09-24T07:25:02.516Z"
   },
   {
    "duration": 9,
    "start_time": "2022-09-24T07:25:02.538Z"
   },
   {
    "duration": 8,
    "start_time": "2022-09-24T07:25:02.548Z"
   },
   {
    "duration": 17,
    "start_time": "2022-09-24T07:25:02.557Z"
   },
   {
    "duration": 28,
    "start_time": "2022-09-24T07:25:02.575Z"
   },
   {
    "duration": 19,
    "start_time": "2022-09-24T07:25:02.604Z"
   },
   {
    "duration": 12,
    "start_time": "2022-09-24T07:25:02.625Z"
   },
   {
    "duration": 1256,
    "start_time": "2022-09-24T07:25:40.679Z"
   },
   {
    "duration": 37,
    "start_time": "2022-09-24T07:25:41.937Z"
   },
   {
    "duration": 9,
    "start_time": "2022-09-24T07:25:41.975Z"
   },
   {
    "duration": 6,
    "start_time": "2022-09-24T07:25:41.987Z"
   },
   {
    "duration": 16,
    "start_time": "2022-09-24T07:25:41.994Z"
   },
   {
    "duration": 233,
    "start_time": "2022-09-24T07:25:42.011Z"
   },
   {
    "duration": 6,
    "start_time": "2022-09-24T07:25:42.245Z"
   },
   {
    "duration": 12,
    "start_time": "2022-09-24T07:25:42.252Z"
   },
   {
    "duration": 229,
    "start_time": "2022-09-24T07:25:42.265Z"
   },
   {
    "duration": 61,
    "start_time": "2022-09-24T07:25:42.497Z"
   },
   {
    "duration": 9,
    "start_time": "2022-09-24T07:25:42.559Z"
   },
   {
    "duration": 5,
    "start_time": "2022-09-24T07:25:42.570Z"
   },
   {
    "duration": 11,
    "start_time": "2022-09-24T07:25:42.576Z"
   },
   {
    "duration": 10,
    "start_time": "2022-09-24T07:25:42.588Z"
   },
   {
    "duration": 253,
    "start_time": "2022-09-24T07:25:42.600Z"
   },
   {
    "duration": 4,
    "start_time": "2022-09-24T07:25:42.854Z"
   },
   {
    "duration": 11,
    "start_time": "2022-09-24T07:25:42.859Z"
   },
   {
    "duration": 20,
    "start_time": "2022-09-24T07:25:42.872Z"
   },
   {
    "duration": 10,
    "start_time": "2022-09-24T07:25:42.894Z"
   },
   {
    "duration": 260,
    "start_time": "2022-09-24T07:25:42.905Z"
   },
   {
    "duration": 684,
    "start_time": "2022-09-24T07:25:43.167Z"
   },
   {
    "duration": 232,
    "start_time": "2022-09-24T07:25:43.853Z"
   },
   {
    "duration": 337,
    "start_time": "2022-09-24T07:25:44.087Z"
   },
   {
    "duration": 256,
    "start_time": "2022-09-24T07:25:44.426Z"
   },
   {
    "duration": 363,
    "start_time": "2022-09-24T07:25:44.684Z"
   },
   {
    "duration": 6,
    "start_time": "2022-09-24T07:25:45.049Z"
   },
   {
    "duration": 10,
    "start_time": "2022-09-24T07:25:45.057Z"
   },
   {
    "duration": 163,
    "start_time": "2022-09-24T07:25:45.069Z"
   },
   {
    "duration": 5,
    "start_time": "2022-09-24T07:25:45.234Z"
   },
   {
    "duration": 183,
    "start_time": "2022-09-24T07:25:45.241Z"
   },
   {
    "duration": 8,
    "start_time": "2022-09-24T07:25:45.425Z"
   },
   {
    "duration": 182,
    "start_time": "2022-09-24T07:25:45.435Z"
   },
   {
    "duration": 5,
    "start_time": "2022-09-24T07:25:45.619Z"
   },
   {
    "duration": 10,
    "start_time": "2022-09-24T07:25:45.625Z"
   },
   {
    "duration": 12,
    "start_time": "2022-09-24T07:25:45.637Z"
   },
   {
    "duration": 130,
    "start_time": "2022-09-24T07:25:45.650Z"
   },
   {
    "duration": 7,
    "start_time": "2022-09-24T07:25:45.781Z"
   },
   {
    "duration": 27,
    "start_time": "2022-09-24T07:25:45.789Z"
   },
   {
    "duration": 9,
    "start_time": "2022-09-24T07:25:45.817Z"
   },
   {
    "duration": 7,
    "start_time": "2022-09-24T07:25:45.828Z"
   },
   {
    "duration": 31,
    "start_time": "2022-09-24T07:25:45.836Z"
   },
   {
    "duration": 8,
    "start_time": "2022-09-24T07:25:45.869Z"
   },
   {
    "duration": 26,
    "start_time": "2022-09-24T07:25:45.878Z"
   },
   {
    "duration": 13,
    "start_time": "2022-09-24T07:25:45.906Z"
   },
   {
    "duration": 12,
    "start_time": "2022-09-24T07:33:11.869Z"
   },
   {
    "duration": 9,
    "start_time": "2022-09-24T07:33:51.696Z"
   },
   {
    "duration": 9,
    "start_time": "2022-09-24T07:37:00.365Z"
   },
   {
    "duration": 9,
    "start_time": "2022-09-24T07:37:05.065Z"
   },
   {
    "duration": 9,
    "start_time": "2022-09-24T07:37:39.931Z"
   },
   {
    "duration": 2,
    "start_time": "2022-09-24T08:09:06.447Z"
   },
   {
    "duration": 58,
    "start_time": "2022-09-24T08:09:06.673Z"
   },
   {
    "duration": 7,
    "start_time": "2022-09-24T08:09:10.331Z"
   },
   {
    "duration": 1043,
    "start_time": "2022-09-24T08:13:48.784Z"
   },
   {
    "duration": 35,
    "start_time": "2022-09-24T08:13:49.828Z"
   },
   {
    "duration": 10,
    "start_time": "2022-09-24T08:13:49.865Z"
   },
   {
    "duration": 8,
    "start_time": "2022-09-24T08:13:49.877Z"
   },
   {
    "duration": 9,
    "start_time": "2022-09-24T08:13:49.886Z"
   },
   {
    "duration": 242,
    "start_time": "2022-09-24T08:13:49.897Z"
   },
   {
    "duration": 5,
    "start_time": "2022-09-24T08:13:50.141Z"
   },
   {
    "duration": 13,
    "start_time": "2022-09-24T08:13:50.148Z"
   },
   {
    "duration": 221,
    "start_time": "2022-09-24T08:13:50.162Z"
   },
   {
    "duration": 51,
    "start_time": "2022-09-24T08:13:50.386Z"
   },
   {
    "duration": 10,
    "start_time": "2022-09-24T08:13:50.439Z"
   },
   {
    "duration": 5,
    "start_time": "2022-09-24T08:13:50.450Z"
   },
   {
    "duration": 10,
    "start_time": "2022-09-24T08:13:50.456Z"
   },
   {
    "duration": 6,
    "start_time": "2022-09-24T08:13:50.468Z"
   },
   {
    "duration": 10,
    "start_time": "2022-09-24T08:13:50.476Z"
   },
   {
    "duration": 251,
    "start_time": "2022-09-24T08:13:50.488Z"
   },
   {
    "duration": 4,
    "start_time": "2022-09-24T08:13:50.740Z"
   },
   {
    "duration": 20,
    "start_time": "2022-09-24T08:13:50.745Z"
   },
   {
    "duration": 7,
    "start_time": "2022-09-24T08:13:50.767Z"
   },
   {
    "duration": 270,
    "start_time": "2022-09-24T08:13:50.776Z"
   },
   {
    "duration": 211,
    "start_time": "2022-09-24T08:13:51.048Z"
   },
   {
    "duration": 352,
    "start_time": "2022-09-24T08:13:51.261Z"
   },
   {
    "duration": 218,
    "start_time": "2022-09-24T08:13:51.614Z"
   },
   {
    "duration": 287,
    "start_time": "2022-09-24T08:13:51.833Z"
   },
   {
    "duration": 6,
    "start_time": "2022-09-24T08:13:52.122Z"
   },
   {
    "duration": 8,
    "start_time": "2022-09-24T08:13:52.129Z"
   },
   {
    "duration": 162,
    "start_time": "2022-09-24T08:13:52.138Z"
   },
   {
    "duration": 5,
    "start_time": "2022-09-24T08:13:52.303Z"
   },
   {
    "duration": 235,
    "start_time": "2022-09-24T08:13:52.310Z"
   },
   {
    "duration": 8,
    "start_time": "2022-09-24T08:13:52.547Z"
   },
   {
    "duration": 174,
    "start_time": "2022-09-24T08:13:52.556Z"
   },
   {
    "duration": 5,
    "start_time": "2022-09-24T08:13:52.732Z"
   },
   {
    "duration": 9,
    "start_time": "2022-09-24T08:13:52.738Z"
   },
   {
    "duration": 16,
    "start_time": "2022-09-24T08:13:52.749Z"
   },
   {
    "duration": 120,
    "start_time": "2022-09-24T08:13:52.767Z"
   },
   {
    "duration": 13,
    "start_time": "2022-09-24T08:13:52.889Z"
   },
   {
    "duration": 24,
    "start_time": "2022-09-24T08:13:52.903Z"
   },
   {
    "duration": 10,
    "start_time": "2022-09-24T08:13:52.928Z"
   },
   {
    "duration": 4,
    "start_time": "2022-09-24T08:13:52.939Z"
   },
   {
    "duration": 9,
    "start_time": "2022-09-24T08:13:52.944Z"
   },
   {
    "duration": 17,
    "start_time": "2022-09-24T08:13:52.955Z"
   },
   {
    "duration": 26,
    "start_time": "2022-09-24T08:13:52.974Z"
   },
   {
    "duration": 22,
    "start_time": "2022-09-24T08:13:53.002Z"
   },
   {
    "duration": 14,
    "start_time": "2022-09-24T08:13:53.026Z"
   },
   {
    "duration": 6,
    "start_time": "2022-09-24T08:17:54.909Z"
   },
   {
    "duration": 11,
    "start_time": "2022-09-24T08:18:03.979Z"
   },
   {
    "duration": 9,
    "start_time": "2022-09-24T08:18:13.446Z"
   },
   {
    "duration": 10,
    "start_time": "2022-09-24T08:18:32.288Z"
   },
   {
    "duration": 8,
    "start_time": "2022-09-24T08:18:39.505Z"
   },
   {
    "duration": 9,
    "start_time": "2022-09-24T08:18:42.743Z"
   },
   {
    "duration": 10,
    "start_time": "2022-09-24T08:19:24.081Z"
   },
   {
    "duration": 978,
    "start_time": "2022-09-24T08:19:44.285Z"
   },
   {
    "duration": 9,
    "start_time": "2022-09-24T08:19:56.528Z"
   },
   {
    "duration": 1370,
    "start_time": "2022-09-25T13:55:18.228Z"
   },
   {
    "duration": 80,
    "start_time": "2022-09-25T13:55:19.601Z"
   },
   {
    "duration": 13,
    "start_time": "2022-09-25T13:55:19.682Z"
   },
   {
    "duration": 15,
    "start_time": "2022-09-25T13:55:19.698Z"
   },
   {
    "duration": 10,
    "start_time": "2022-09-25T13:55:19.715Z"
   },
   {
    "duration": 329,
    "start_time": "2022-09-25T13:55:19.727Z"
   },
   {
    "duration": 7,
    "start_time": "2022-09-25T13:55:20.059Z"
   },
   {
    "duration": 18,
    "start_time": "2022-09-25T13:55:20.068Z"
   },
   {
    "duration": 311,
    "start_time": "2022-09-25T13:55:20.088Z"
   },
   {
    "duration": 144,
    "start_time": "2022-09-25T13:55:20.402Z"
   },
   {
    "duration": 12,
    "start_time": "2022-09-25T13:55:20.548Z"
   },
   {
    "duration": 9,
    "start_time": "2022-09-25T13:55:20.562Z"
   },
   {
    "duration": 12,
    "start_time": "2022-09-25T13:55:20.573Z"
   },
   {
    "duration": 19,
    "start_time": "2022-09-25T13:55:20.587Z"
   },
   {
    "duration": 21,
    "start_time": "2022-09-25T13:55:20.608Z"
   },
   {
    "duration": 36,
    "start_time": "2022-09-25T13:55:20.631Z"
   },
   {
    "duration": 311,
    "start_time": "2022-09-25T13:55:20.668Z"
   },
   {
    "duration": 4,
    "start_time": "2022-09-25T13:55:20.981Z"
   },
   {
    "duration": 15,
    "start_time": "2022-09-25T13:55:20.987Z"
   },
   {
    "duration": 23,
    "start_time": "2022-09-25T13:55:21.004Z"
   },
   {
    "duration": 320,
    "start_time": "2022-09-25T13:55:21.029Z"
   },
   {
    "duration": 263,
    "start_time": "2022-09-25T13:55:21.351Z"
   },
   {
    "duration": 381,
    "start_time": "2022-09-25T13:55:21.617Z"
   },
   {
    "duration": 267,
    "start_time": "2022-09-25T13:55:22.000Z"
   },
   {
    "duration": 391,
    "start_time": "2022-09-25T13:55:22.269Z"
   },
   {
    "duration": 9,
    "start_time": "2022-09-25T13:55:22.661Z"
   },
   {
    "duration": 16,
    "start_time": "2022-09-25T13:55:22.671Z"
   },
   {
    "duration": 189,
    "start_time": "2022-09-25T13:55:22.690Z"
   },
   {
    "duration": 5,
    "start_time": "2022-09-25T13:55:22.881Z"
   },
   {
    "duration": 295,
    "start_time": "2022-09-25T13:55:22.888Z"
   },
   {
    "duration": 10,
    "start_time": "2022-09-25T13:55:23.185Z"
   },
   {
    "duration": 220,
    "start_time": "2022-09-25T13:55:23.197Z"
   },
   {
    "duration": 8,
    "start_time": "2022-09-25T13:55:23.420Z"
   },
   {
    "duration": 15,
    "start_time": "2022-09-25T13:55:23.430Z"
   },
   {
    "duration": 17,
    "start_time": "2022-09-25T13:55:23.446Z"
   },
   {
    "duration": 174,
    "start_time": "2022-09-25T13:55:23.465Z"
   },
   {
    "duration": 9,
    "start_time": "2022-09-25T13:55:23.641Z"
   },
   {
    "duration": 31,
    "start_time": "2022-09-25T13:55:23.652Z"
   },
   {
    "duration": 12,
    "start_time": "2022-09-25T13:55:23.685Z"
   },
   {
    "duration": 6,
    "start_time": "2022-09-25T13:55:23.699Z"
   },
   {
    "duration": 15,
    "start_time": "2022-09-25T13:55:23.721Z"
   },
   {
    "duration": 34,
    "start_time": "2022-09-25T13:55:23.737Z"
   },
   {
    "duration": 17,
    "start_time": "2022-09-25T13:55:23.772Z"
   },
   {
    "duration": 23,
    "start_time": "2022-09-25T13:55:23.791Z"
   },
   {
    "duration": 29,
    "start_time": "2022-09-25T13:55:23.816Z"
   },
   {
    "duration": 323,
    "start_time": "2022-09-25T14:21:01.837Z"
   },
   {
    "duration": 204,
    "start_time": "2022-09-25T14:21:21.327Z"
   },
   {
    "duration": 342,
    "start_time": "2022-09-25T14:21:45.199Z"
   },
   {
    "duration": 151,
    "start_time": "2022-09-25T14:21:54.510Z"
   },
   {
    "duration": 317,
    "start_time": "2022-09-25T14:22:20.334Z"
   },
   {
    "duration": 1618,
    "start_time": "2022-09-25T14:22:26.585Z"
   },
   {
    "duration": 196,
    "start_time": "2022-09-25T14:23:40.283Z"
   },
   {
    "duration": 265,
    "start_time": "2022-09-25T14:23:58.943Z"
   },
   {
    "duration": 248,
    "start_time": "2022-09-25T14:24:07.648Z"
   },
   {
    "duration": 149,
    "start_time": "2022-09-25T14:24:47.630Z"
   },
   {
    "duration": 222,
    "start_time": "2022-09-25T14:24:54.753Z"
   },
   {
    "duration": 226,
    "start_time": "2022-09-25T14:25:15.267Z"
   },
   {
    "duration": 5,
    "start_time": "2022-09-25T14:39:12.783Z"
   },
   {
    "duration": 6,
    "start_time": "2022-09-25T14:39:18.559Z"
   },
   {
    "duration": 51,
    "start_time": "2022-09-25T16:05:04.993Z"
   },
   {
    "duration": 1471,
    "start_time": "2022-09-25T16:05:11.406Z"
   },
   {
    "duration": 75,
    "start_time": "2022-09-25T16:05:12.879Z"
   },
   {
    "duration": 13,
    "start_time": "2022-09-25T16:05:12.957Z"
   },
   {
    "duration": 11,
    "start_time": "2022-09-25T16:05:12.972Z"
   },
   {
    "duration": 14,
    "start_time": "2022-09-25T16:05:12.985Z"
   },
   {
    "duration": 316,
    "start_time": "2022-09-25T16:05:13.001Z"
   },
   {
    "duration": 7,
    "start_time": "2022-09-25T16:05:13.318Z"
   },
   {
    "duration": 28,
    "start_time": "2022-09-25T16:05:13.327Z"
   },
   {
    "duration": 275,
    "start_time": "2022-09-25T16:05:13.357Z"
   },
   {
    "duration": 188,
    "start_time": "2022-09-25T16:05:13.635Z"
   },
   {
    "duration": 12,
    "start_time": "2022-09-25T16:05:13.825Z"
   },
   {
    "duration": 11,
    "start_time": "2022-09-25T16:05:13.838Z"
   },
   {
    "duration": 16,
    "start_time": "2022-09-25T16:05:13.850Z"
   },
   {
    "duration": 9,
    "start_time": "2022-09-25T16:05:13.869Z"
   },
   {
    "duration": 11,
    "start_time": "2022-09-25T16:05:13.880Z"
   },
   {
    "duration": 15,
    "start_time": "2022-09-25T16:05:13.893Z"
   },
   {
    "duration": 314,
    "start_time": "2022-09-25T16:05:13.910Z"
   },
   {
    "duration": 5,
    "start_time": "2022-09-25T16:05:14.226Z"
   },
   {
    "duration": 27,
    "start_time": "2022-09-25T16:05:14.233Z"
   },
   {
    "duration": 16,
    "start_time": "2022-09-25T16:05:14.262Z"
   },
   {
    "duration": 336,
    "start_time": "2022-09-25T16:05:14.280Z"
   },
   {
    "duration": 263,
    "start_time": "2022-09-25T16:05:14.618Z"
   },
   {
    "duration": 408,
    "start_time": "2022-09-25T16:05:14.882Z"
   },
   {
    "duration": 265,
    "start_time": "2022-09-25T16:05:15.292Z"
   },
   {
    "duration": 356,
    "start_time": "2022-09-25T16:05:15.559Z"
   },
   {
    "duration": 9,
    "start_time": "2022-09-25T16:05:15.916Z"
   },
   {
    "duration": 9,
    "start_time": "2022-09-25T16:05:15.927Z"
   },
   {
    "duration": 199,
    "start_time": "2022-09-25T16:05:15.955Z"
   },
   {
    "duration": 8,
    "start_time": "2022-09-25T16:05:16.156Z"
   },
   {
    "duration": 300,
    "start_time": "2022-09-25T16:05:16.166Z"
   },
   {
    "duration": 12,
    "start_time": "2022-09-25T16:05:16.469Z"
   },
   {
    "duration": 230,
    "start_time": "2022-09-25T16:05:16.483Z"
   },
   {
    "duration": 7,
    "start_time": "2022-09-25T16:05:16.714Z"
   },
   {
    "duration": 8,
    "start_time": "2022-09-25T16:05:16.723Z"
   },
   {
    "duration": 29,
    "start_time": "2022-09-25T16:05:16.733Z"
   },
   {
    "duration": 165,
    "start_time": "2022-09-25T16:05:16.764Z"
   },
   {
    "duration": 9,
    "start_time": "2022-09-25T16:05:16.931Z"
   },
   {
    "duration": 35,
    "start_time": "2022-09-25T16:05:16.942Z"
   },
   {
    "duration": 12,
    "start_time": "2022-09-25T16:05:16.979Z"
   },
   {
    "duration": 2,
    "start_time": "2022-09-25T16:05:16.993Z"
   },
   {
    "duration": 9,
    "start_time": "2022-09-25T16:05:16.999Z"
   },
   {
    "duration": 57,
    "start_time": "2022-09-25T16:05:17.009Z"
   },
   {
    "duration": 26,
    "start_time": "2022-09-25T16:05:17.068Z"
   },
   {
    "duration": 26,
    "start_time": "2022-09-25T16:05:17.096Z"
   },
   {
    "duration": 18,
    "start_time": "2022-09-25T16:05:17.123Z"
   },
   {
    "duration": 20,
    "start_time": "2022-09-25T16:13:17.554Z"
   },
   {
    "duration": 21,
    "start_time": "2022-09-25T16:13:49.678Z"
   },
   {
    "duration": 16,
    "start_time": "2022-09-25T16:14:10.203Z"
   },
   {
    "duration": 18,
    "start_time": "2022-09-25T16:21:39.557Z"
   },
   {
    "duration": 97,
    "start_time": "2022-09-25T16:23:13.497Z"
   },
   {
    "duration": 18,
    "start_time": "2022-09-25T16:23:19.404Z"
   },
   {
    "duration": 111,
    "start_time": "2022-09-25T16:23:30.855Z"
   },
   {
    "duration": 15,
    "start_time": "2022-09-25T16:23:38.619Z"
   },
   {
    "duration": 17,
    "start_time": "2022-09-25T16:23:46.781Z"
   },
   {
    "duration": 23,
    "start_time": "2022-09-25T16:24:00.096Z"
   },
   {
    "duration": 1149,
    "start_time": "2022-09-26T10:59:44.085Z"
   },
   {
    "duration": 43,
    "start_time": "2022-09-26T10:59:45.236Z"
   },
   {
    "duration": 9,
    "start_time": "2022-09-26T10:59:45.281Z"
   },
   {
    "duration": 7,
    "start_time": "2022-09-26T10:59:45.292Z"
   },
   {
    "duration": 9,
    "start_time": "2022-09-26T10:59:45.301Z"
   },
   {
    "duration": 259,
    "start_time": "2022-09-26T10:59:45.312Z"
   },
   {
    "duration": 7,
    "start_time": "2022-09-26T10:59:45.573Z"
   },
   {
    "duration": 14,
    "start_time": "2022-09-26T10:59:45.582Z"
   },
   {
    "duration": 238,
    "start_time": "2022-09-26T10:59:45.608Z"
   },
   {
    "duration": 52,
    "start_time": "2022-09-26T10:59:45.847Z"
   },
   {
    "duration": 9,
    "start_time": "2022-09-26T10:59:45.901Z"
   },
   {
    "duration": 5,
    "start_time": "2022-09-26T10:59:45.911Z"
   },
   {
    "duration": 10,
    "start_time": "2022-09-26T10:59:45.917Z"
   },
   {
    "duration": 5,
    "start_time": "2022-09-26T10:59:45.929Z"
   },
   {
    "duration": 8,
    "start_time": "2022-09-26T10:59:45.935Z"
   },
   {
    "duration": 8,
    "start_time": "2022-09-26T10:59:45.945Z"
   },
   {
    "duration": 13,
    "start_time": "2022-09-26T10:59:45.954Z"
   },
   {
    "duration": 308,
    "start_time": "2022-09-26T10:59:45.968Z"
   },
   {
    "duration": 3,
    "start_time": "2022-09-26T10:59:46.278Z"
   },
   {
    "duration": 14,
    "start_time": "2022-09-26T10:59:46.283Z"
   },
   {
    "duration": 11,
    "start_time": "2022-09-26T10:59:46.298Z"
   },
   {
    "duration": 294,
    "start_time": "2022-09-26T10:59:46.311Z"
   },
   {
    "duration": 204,
    "start_time": "2022-09-26T10:59:46.608Z"
   },
   {
    "duration": 309,
    "start_time": "2022-09-26T10:59:46.813Z"
   },
   {
    "duration": 217,
    "start_time": "2022-09-26T10:59:47.123Z"
   },
   {
    "duration": 296,
    "start_time": "2022-09-26T10:59:47.341Z"
   },
   {
    "duration": 6,
    "start_time": "2022-09-26T10:59:47.639Z"
   },
   {
    "duration": 9,
    "start_time": "2022-09-26T10:59:47.646Z"
   },
   {
    "duration": 181,
    "start_time": "2022-09-26T10:59:47.656Z"
   },
   {
    "duration": 5,
    "start_time": "2022-09-26T10:59:47.839Z"
   },
   {
    "duration": 240,
    "start_time": "2022-09-26T10:59:47.845Z"
   },
   {
    "duration": 8,
    "start_time": "2022-09-26T10:59:48.086Z"
   },
   {
    "duration": 180,
    "start_time": "2022-09-26T10:59:48.096Z"
   },
   {
    "duration": 5,
    "start_time": "2022-09-26T10:59:48.277Z"
   },
   {
    "duration": 4,
    "start_time": "2022-09-26T10:59:48.284Z"
   },
   {
    "duration": 23,
    "start_time": "2022-09-26T10:59:48.290Z"
   },
   {
    "duration": 136,
    "start_time": "2022-09-26T10:59:48.315Z"
   },
   {
    "duration": 7,
    "start_time": "2022-09-26T10:59:48.452Z"
   },
   {
    "duration": 32,
    "start_time": "2022-09-26T10:59:48.460Z"
   },
   {
    "duration": 21,
    "start_time": "2022-09-26T10:59:48.493Z"
   },
   {
    "duration": 6,
    "start_time": "2022-09-26T10:59:48.522Z"
   },
   {
    "duration": 13,
    "start_time": "2022-09-26T10:59:48.530Z"
   },
   {
    "duration": 19,
    "start_time": "2022-09-26T10:59:48.545Z"
   },
   {
    "duration": 6,
    "start_time": "2022-09-26T10:59:48.566Z"
   },
   {
    "duration": 19,
    "start_time": "2022-09-26T10:59:48.573Z"
   },
   {
    "duration": 26,
    "start_time": "2022-09-26T10:59:48.594Z"
   }
  ],
  "kernelspec": {
   "display_name": "Python 3 (ipykernel)",
   "language": "python",
   "name": "python3"
  },
  "language_info": {
   "codemirror_mode": {
    "name": "ipython",
    "version": 3
   },
   "file_extension": ".py",
   "mimetype": "text/x-python",
   "name": "python",
   "nbconvert_exporter": "python",
   "pygments_lexer": "ipython3",
   "version": "3.9.12"
  },
  "toc": {
   "base_numbering": 1,
   "nav_menu": {},
   "number_sections": true,
   "sideBar": true,
   "skip_h1_title": true,
   "title_cell": "Table of Contents",
   "title_sidebar": "Contents",
   "toc_cell": false,
   "toc_position": {},
   "toc_section_display": true,
   "toc_window_display": false
  }
 },
 "nbformat": 4,
 "nbformat_minor": 5
}

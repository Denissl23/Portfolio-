{
 "cells": [
  {
   "cell_type": "markdown",
   "id": "ab263885",
   "metadata": {},
   "source": [
    "# Парсинг Перёкрестка "
   ]
  },
  {
   "cell_type": "markdown",
   "id": "c693fb51",
   "metadata": {},
   "source": [
    "### 1. импортируем библиотеки"
   ]
  },
  {
   "cell_type": "code",
   "execution_count": 52,
   "id": "a288a36c",
   "metadata": {},
   "outputs": [],
   "source": [
    "import re\n",
    "import requests\n",
    "import pandas as pd\n",
    "from bs4 import BeautifulSoup"
   ]
  },
  {
   "cell_type": "markdown",
   "id": "ced5f321",
   "metadata": {},
   "source": [
    "### 2. создаём get-запрос "
   ]
  },
  {
   "cell_type": "code",
   "execution_count": 53,
   "id": "6a5eea14",
   "metadata": {},
   "outputs": [],
   "source": [
    "url = 'https://www.perekrestok.ru/cat/c/251/bez-glutena?orderBy=price&orderDirection=desc'\n",
    "req = requests.get(url).text\n",
    "soup = BeautifulSoup(req, 'lxml')\n",
    "\n",
    "#example = soup.find_all('div', attrs={'class': 'product-card__title'})"
   ]
  },
  {
   "cell_type": "markdown",
   "id": "19ff021c",
   "metadata": {},
   "source": [
    "### 3. создаём список для продуктво и цен"
   ]
  },
  {
   "cell_type": "code",
   "execution_count": 54,
   "id": "74bd22bc",
   "metadata": {},
   "outputs": [
    {
     "data": {
      "text/plain": [
       "['Сухой завтрак Schar Milly Magic шарики с какао без глютена, 250г',\n",
       " 'Завтраки Di&Di Ешь здорово амарантовые в белой глазури без глютена, 250г',\n",
       " 'Хлопья Schar кукурузные без глютена, 250г',\n",
       " 'Подушечки Di&Di Умные сладости с клубничной начинкой и стевией амарантовые без глютена, 220г',\n",
       " 'Завтраки Di&Di Ешь здорово амарантовые в глазури без глютена, 250г',\n",
       " 'Подушечки Di&Di амарантовые с шоколадной начинкой без глютена, 250г',\n",
       " 'Подушечки Di&Di амарантовые со сливочной начинкой без глютена, 250г',\n",
       " 'Подушечки Di&Di Умные сладости с кокосовой начинкой и стевией амарантовые без глютена, 220г',\n",
       " 'Хлебцы Dr. Schar Fette Croccanti, 150г',\n",
       " 'Хлеб Schar Ciabatta итальянский без глютена, 200г',\n",
       " 'Хлеб Schar Pan multigrano без глютена нарезка, 250г',\n",
       " 'Хлеб Schar Pan blanco без глютена нарезка, 250г',\n",
       " 'Хлебцы Dr.Korner кукурузно-рисовые с чиа и льном без глютена, 100г',\n",
       " 'Хлебцы Dr.Korner кукурузно-рисовые с прованскими травами без глютена хрустящие, 100г',\n",
       " 'Хлебцы Dr.Korner рисовые с морской солью без глютена хрустящие, 100г',\n",
       " 'Хлебцы Dr.Korner Карамельные кукурузно-рисовые без глютена, 90г',\n",
       " 'Хлебцы Dr.Korner кукурузно-рисовые с имбирём и лимоном без глютена, 90г',\n",
       " 'Хлебцы Dr.Korner гречневые с витаминами, 100г',\n",
       " 'Хлебные палочки Snack Grissini без глютена, 150г',\n",
       " 'Вафли Schar в шоколаде с орехами без глютена, 105г',\n",
       " 'Печенье Schar Petit Beurre без глютена, 165г',\n",
       " 'Крекеры Schar Cracker без глютена, 210г',\n",
       " 'Печенье Schar Digestive кукурузно-гречишное без глютена, 150г',\n",
       " 'Печенье Schar Chocolate Os с молочным кремом без глютена, 165г',\n",
       " 'Батончик Di&Di Умные сладости со сливочной начинкой амарантовые в глазури без глютена, 20г',\n",
       " 'Печенье Di&Di Умные сладости творожное из муки амаранта без сахара и глютена, 160г',\n",
       " 'Печенье Di&Di Умные сладости шоколадное из муки амаранта без сахара и глютена, 160г',\n",
       " 'Печенье Schar Biscotti con Cioccolato без глютена, 150г',\n",
       " 'Печенье Schar My Friends без глютена, 125г',\n",
       " 'Печенье NutVill овсяное с шоколадом, 85г',\n",
       " 'Вафли Snack Quadritos в шоколаде без глютена, 40г',\n",
       " 'Печенье Schar Maria без глютена, 125г',\n",
       " 'Крендельки Schar Salinis соленые без глютена, 60г',\n",
       " 'Печенье Sofy София сдобное без глютена, 130г',\n",
       " 'Батончик Di&Di Умные сладости с кокосовой начинкой амарантовые в глазури без глютена, 20г',\n",
       " 'Отруби Di&Di амарантовые без глютена, 250г',\n",
       " 'Отруби Di&Di Ешь здорово амарантовые без глютена, 250г',\n",
       " 'Мука Garnec универсальная без глютена, 600г',\n",
       " 'Смесь для выпечки Garnec Бородинский хлеб без глютена, 600г',\n",
       " 'Мука Di&Di амарантовая первого сорта без глютена, 250г',\n",
       " 'Спагетти Federici №3 из бурого риса с амарантом и киноа без глютена, 250г',\n",
       " 'Макароны Garnec Перья из кукурузной муки без глютена, 300г',\n",
       " 'Макароны Garnec Ракушка из кукурузной муки без глютена, 300г',\n",
       " 'Макароны Pasta Zara №80 Vermicelli tagliati, 500г',\n",
       " 'Макароны Federici спирали, 500г',\n",
       " 'Макароны Иван Да Марья Рожки нутовые без глютена, 400г',\n",
       " 'Макароны Makfa Spaghetti из рисовой и кукурузной муки без глютена, 300г',\n",
       " 'Макароны Makfa Fusilli из рисовой и кукурузной муки без глютена, 300г',\n",
       " 'Макароны Makfa Penne из рисовой и кукурузной муки без глютена, 300г',\n",
       " 'Вермишель Ешь Здорово из амарантовой муки без глютена, 250г',\n",
       " 'Лапша Imperial Cuisine гречневая соба без пучков, 400г',\n",
       " 'Мука Кудесница рисовая, 500 г',\n",
       " 'Мука Селяночка овсяная из хлопьев, 400 г',\n",
       " 'Завтрак Di&Di амарантовый в белой глазури, 250г',\n",
       " 'Пряники Foodcode Зимние без глютена, 160г',\n",
       " 'Кекс Foodcode Штоллен без глютена, 300г',\n",
       " 'Печенье Foodcode Кантуччини с дикой клюквой и миндалём, 26г',\n",
       " 'Хлеб Foodcode зерновой формовой в нарезке, 250г',\n",
       " 'Молоко кокосовое Ufood.Market сухое 40%, 250г',\n",
       " 'Печенье Foodcode Кантуччини с миндалем, 160г',\n",
       " 'Печенье Foodcode Кантуччини с дикой клюквой, 160г',\n",
       " 'Печенье Foodcode Кантуччини сдобное безглютеновое с дикой клюквой и миндалем, 160г',\n",
       " 'Хлеб Foodcode Вермонтский, 250г',\n",
       " 'Снеки Аппетитный Перекус картофельные с семенем льна и зелёным луком, 100г',\n",
       " 'Снеки Аппетитный Перекус гороховые с семенами льна томат-базилик, 100г',\n",
       " 'Булочка Foodcode кукурузная 2х60г, 120г',\n",
       " 'Хлеб Foodcode кукурузный, 200г',\n",
       " 'Хлеб Foodcode тёмный с кориандром, 200г',\n",
       " 'Хлеб Foodcode белый, 200г',\n",
       " 'Чипсы Snaq Fabriq Сметана и зелёный лук, 50г',\n",
       " 'Чипсы Snaq Fabriq Томат и базилик, 50г',\n",
       " 'Хлеб Foodcode злаковый, 200г',\n",
       " 'Булочка Foodcode для гамбургера, 70г']"
      ]
     },
     "execution_count": 54,
     "metadata": {},
     "output_type": "execute_result"
    }
   ],
   "source": [
    "name = []\n",
    "price = []\n",
    "for text in soup.find_all('div', attrs={'class': 'product-card__title'}):\n",
    "    name.append(text.text)\n",
    "\n",
    "for text in soup.find_all('div', attrs={'class': 'price-new'}):\n",
    "    correct_price = text.text.replace('\\xa0', ' ')\n",
    "    price.append(correct_price)\n",
    "name"
   ]
  },
  {
   "cell_type": "markdown",
   "id": "7d21f69e",
   "metadata": {},
   "source": [
    "### 4. создаём датафрейм "
   ]
  },
  {
   "cell_type": "code",
   "execution_count": 55,
   "id": "d523fbdf",
   "metadata": {},
   "outputs": [
    {
     "data": {
      "text/plain": [
       "(73, 2)"
      ]
     },
     "execution_count": 55,
     "metadata": {},
     "output_type": "execute_result"
    }
   ],
   "source": [
    "table = pd.DataFrame({'наименование': name, 'цена': price})\n",
    "table.shape"
   ]
  },
  {
   "cell_type": "markdown",
   "id": "fa345f50",
   "metadata": {},
   "source": [
    "### 5. сохранение в  Excel"
   ]
  },
  {
   "cell_type": "code",
   "execution_count": 56,
   "id": "0ddc2a6e",
   "metadata": {},
   "outputs": [],
   "source": [
    "# путь в файлу xls\n",
    "file_1 = '/Users/denisslobodyanyuk/Desktop/парсер перекрестка .xlsx'\n",
    "\n",
    "table_1 = pd.ExcelWriter(file_1, engine='xlsxwriter')\n",
    "\n",
    "table.to_excel(table_1, 'Лист 1')\n",
    "\n",
    "table_1.save()"
   ]
  },
  {
   "cell_type": "code",
   "execution_count": null,
   "id": "8d9425fd",
   "metadata": {},
   "outputs": [],
   "source": []
  }
 ],
 "metadata": {
  "kernelspec": {
   "display_name": "Python 3 (ipykernel)",
   "language": "python",
   "name": "python3"
  },
  "language_info": {
   "codemirror_mode": {
    "name": "ipython",
    "version": 3
   },
   "file_extension": ".py",
   "mimetype": "text/x-python",
   "name": "python",
   "nbconvert_exporter": "python",
   "pygments_lexer": "ipython3",
   "version": "3.9.7"
  }
 },
 "nbformat": 4,
 "nbformat_minor": 5
}
